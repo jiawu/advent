{
 "cells": [
  {
   "cell_type": "code",
   "execution_count": 3,
   "id": "2610495b-2c68-4ff1-8204-515bc0859666",
   "metadata": {},
   "outputs": [],
   "source": [
    "import numpy as np\n",
    "import pdb\n",
    "import pandas as pd"
   ]
  },
  {
   "cell_type": "code",
   "execution_count": 4,
   "id": "57282f8a-83fa-401a-b316-46b63eb1ba20",
   "metadata": {},
   "outputs": [],
   "source": [
    "with open('input.txt') as fin:\n",
    "    grid = fin.readlines()"
   ]
  },
  {
   "cell_type": "code",
   "execution_count": 5,
   "id": "541f3659-e3c5-46ee-ac77-71e8b7386505",
   "metadata": {},
   "outputs": [],
   "source": [
    "grid = [x.rstrip() for x in grid]"
   ]
  },
  {
   "cell_type": "code",
   "execution_count": 6,
   "id": "a3c36d33-feea-41a3-9a40-82bcbf9cbe92",
   "metadata": {},
   "outputs": [],
   "source": [
    "grid_array = np.array([list(x) for x in grid])"
   ]
  },
  {
   "cell_type": "code",
   "execution_count": 7,
   "id": "ca5eb377-ae53-449f-ba1c-a55d93a105bf",
   "metadata": {},
   "outputs": [
    {
     "data": {
      "text/plain": [
       "(99, 99)"
      ]
     },
     "execution_count": 7,
     "metadata": {},
     "output_type": "execute_result"
    }
   ],
   "source": [
    "grid_array.shape"
   ]
  },
  {
   "cell_type": "code",
   "execution_count": 8,
   "id": "03975b2c-320c-4078-b223-0b30e4d1dd7e",
   "metadata": {},
   "outputs": [
    {
     "data": {
      "text/plain": [
       "'3'"
      ]
     },
     "execution_count": 8,
     "metadata": {},
     "output_type": "execute_result"
    }
   ],
   "source": [
    "grid_array[98][98]"
   ]
  },
  {
   "cell_type": "code",
   "execution_count": 9,
   "id": "1d985b5c-a41f-4f95-bb13-bf1cdc22a553",
   "metadata": {},
   "outputs": [
    {
     "data": {
      "text/plain": [
       "array([['2', '3', '3', ..., '0', '2', '3'],\n",
       "       ['2', '2', '3', ..., '2', '3', '3'],\n",
       "       ['0', '1', '1', ..., '0', '0', '3'],\n",
       "       ...,\n",
       "       ['1', '1', '0', ..., '2', '0', '2'],\n",
       "       ['1', '0', '0', ..., '0', '1', '3'],\n",
       "       ['2', '1', '3', ..., '3', '1', '3']], dtype='<U1')"
      ]
     },
     "execution_count": 9,
     "metadata": {},
     "output_type": "execute_result"
    }
   ],
   "source": [
    "grid_array"
   ]
  },
  {
   "cell_type": "code",
   "execution_count": 10,
   "id": "ffba3b87-c770-44ef-b5de-3a17cb087062",
   "metadata": {},
   "outputs": [
    {
     "data": {
      "text/plain": [
       "array(['1', '0', '0', '0', '0', '2', '3', '3', '4', '3', '1', '4', '1',\n",
       "       '2', '2', '4', '0', '0', '0', '1', '3', '5', '1', '5', '1', '1',\n",
       "       '4', '3', '4', '5', '4', '5', '5', '2', '3', '1', '4', '0', '4',\n",
       "       '0', '0', '2', '6', '1', '3', '4', '0', '5', '0', '6', '4', '6',\n",
       "       '3', '5', '2', '2', '2', '6', '3', '6', '4', '3', '1', '3', '3',\n",
       "       '1', '4', '3', '5', '5', '2', '0', '5', '0', '0', '2', '5', '0',\n",
       "       '2', '2', '4', '0', '1', '3', '4', '2', '0', '0', '4', '4', '2',\n",
       "       '3', '3', '0', '1', '0', '1'], dtype='<U1')"
      ]
     },
     "execution_count": 10,
     "metadata": {},
     "output_type": "execute_result"
    }
   ],
   "source": [
    "grid_array[:,1][1+1:]"
   ]
  },
  {
   "cell_type": "code",
   "execution_count": 11,
   "id": "214490a8-df5c-4fd6-8535-03c9534e8f48",
   "metadata": {},
   "outputs": [],
   "source": [
    "def checkVisible(x,y,grid_array):\n",
    "    # from left\n",
    "    from_left=grid_array[x][:y]\n",
    "    from_right=grid_array[x][1+y:]\n",
    "    from_top=grid_array[:,y][0:x]\n",
    "    from_bottom=grid_array[:,y][1+x:]\n",
    "    \n",
    "    visible_from_left=all(from_left < grid_array[x][y])\n",
    "    visible_from_right=all(from_right < grid_array[x][y])\n",
    "    visible_from_top=all(from_top < grid_array[x][y])\n",
    "    visible_from_bottom=all(from_bottom < grid_array[x][y])\n",
    "    return(any([visible_from_left,visible_from_right,visible_from_top,visible_from_bottom]))"
   ]
  },
  {
   "cell_type": "code",
   "execution_count": 12,
   "id": "c35b04d1-faa9-4ed6-b7da-792a11af5990",
   "metadata": {},
   "outputs": [],
   "source": [
    "is_visible = []\n",
    "for x in range(1,grid_array.shape[0]-1):\n",
    "    for y in range(1,grid_array.shape[1]-1):\n",
    "        is_visible.append(checkVisible(x,y,grid_array))"
   ]
  },
  {
   "cell_type": "code",
   "execution_count": 13,
   "id": "3746d887-efc9-400e-9008-2cc8eb952b64",
   "metadata": {},
   "outputs": [
    {
     "data": {
      "text/plain": [
       "False    8120\n",
       "True     1289\n",
       "dtype: int64"
      ]
     },
     "execution_count": 13,
     "metadata": {},
     "output_type": "execute_result"
    }
   ],
   "source": [
    "pd.DataFrame(is_visible).value_counts() "
   ]
  },
  {
   "cell_type": "code",
   "execution_count": 14,
   "id": "bcb64f52-1d4f-4fae-8226-9ebc085f64b3",
   "metadata": {},
   "outputs": [
    {
     "data": {
      "text/plain": [
       "1681"
      ]
     },
     "execution_count": 14,
     "metadata": {},
     "output_type": "execute_result"
    }
   ],
   "source": [
    "1289 + 99*2 + 97*2"
   ]
  },
  {
   "cell_type": "markdown",
   "id": "dde5fc27-a9bc-47a0-b178-03207e336ac3",
   "metadata": {},
   "source": [
    "# Part 2"
   ]
  },
  {
   "cell_type": "code",
   "execution_count": 48,
   "id": "d79d2ca7-5bc8-4ca0-9999-82a36db1a6f9",
   "metadata": {},
   "outputs": [],
   "source": [
    "def _score(grid_array,x,y,viewarray,max_view, reverse=False):\n",
    "    if reverse:\n",
    "        viewarray = np.flip(viewarray)\n",
    "    anylarger=[i for i,x in enumerate(viewarray >= grid_array[x][y]) if x == True]\n",
    "    if len(anylarger) > 0:\n",
    "        return(anylarger[0]+1)\n",
    "    else:\n",
    "        return(max_view)\n",
    "    \n",
    "def checkScenicScore(x,y,grid_array):\n",
    "    # from left\n",
    "    #pdb.set_trace()\n",
    "    from_left=grid_array[x][:y]\n",
    "    from_right=grid_array[x][1+y:]\n",
    "    from_top=grid_array[:,y][0:x]\n",
    "    from_bottom=grid_array[:,y][1+x:]\n",
    "    score_from_left = _score(grid_array,x,y,from_left,y, reverse=True)\n",
    "    score_from_right = _score(grid_array,x,y,from_right,98-y)\n",
    "    score_from_top = _score(grid_array,x,y,from_top,x,reverse=True)\n",
    "    score_from_bottom = _score(grid_array,x,y,from_bottom,98-x)\n",
    "    #if score_from_left * score_from_right * score_from_top * score_from_bottom == 2047320:\n",
    "    #    pdb.set_trace()\n",
    "    return(score_from_left * score_from_right * score_from_top * score_from_bottom)"
   ]
  },
  {
   "cell_type": "code",
   "execution_count": 49,
   "id": "a5ccaf0d-8689-4991-9203-91ac2f7f28b3",
   "metadata": {},
   "outputs": [
    {
     "data": {
      "text/plain": [
       "array([['2', '3', '3', ..., '0', '2', '3'],\n",
       "       ['2', '2', '3', ..., '2', '3', '3'],\n",
       "       ['0', '1', '1', ..., '0', '0', '3'],\n",
       "       ...,\n",
       "       ['1', '1', '0', ..., '2', '0', '2'],\n",
       "       ['1', '0', '0', ..., '0', '1', '3'],\n",
       "       ['2', '1', '3', ..., '3', '1', '3']], dtype='<U1')"
      ]
     },
     "execution_count": 49,
     "metadata": {},
     "output_type": "execute_result"
    }
   ],
   "source": [
    "grid_array"
   ]
  },
  {
   "cell_type": "code",
   "execution_count": 55,
   "id": "b2366023-e378-4915-877e-f84e427f4164",
   "metadata": {},
   "outputs": [],
   "source": [
    "scenic_scores = []\n",
    "for x in range(1,grid_array.shape[0]-1):\n",
    "    for y in range(1,grid_array.shape[1]-1):\n",
    "        scenic_scores.append(checkScenicScore(x,y,grid_array))"
   ]
  },
  {
   "cell_type": "code",
   "execution_count": 54,
   "id": "44af83a3-39ce-4be2-ab4d-83fe17f3dfdd",
   "metadata": {},
   "outputs": [
    {
     "data": {
      "text/plain": [
       "201684"
      ]
     },
     "execution_count": 54,
     "metadata": {},
     "output_type": "execute_result"
    }
   ],
   "source": [
    "np.max(scenic_scores)"
   ]
  },
  {
   "cell_type": "code",
   "execution_count": null,
   "id": "1cec2c15-98cc-4674-abdc-5055c9c19c3c",
   "metadata": {},
   "outputs": [],
   "source": []
  }
 ],
 "metadata": {
  "kernelspec": {
   "display_name": "cuda11_torch",
   "language": "python",
   "name": "cuda11_torch"
  },
  "language_info": {
   "codemirror_mode": {
    "name": "ipython",
    "version": 3
   },
   "file_extension": ".py",
   "mimetype": "text/x-python",
   "name": "python",
   "nbconvert_exporter": "python",
   "pygments_lexer": "ipython3",
   "version": "3.9.13"
  }
 },
 "nbformat": 4,
 "nbformat_minor": 5
}
