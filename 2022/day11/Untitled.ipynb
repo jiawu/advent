{
 "cells": [
  {
   "cell_type": "code",
   "execution_count": 785,
   "id": "b76045a8-1aad-4af6-a8ce-c20c0eb5e382",
   "metadata": {},
   "outputs": [],
   "source": [
    "import numpy as np\n",
    "import pandas as pd\n",
    "import re\n",
    "import ast\n",
    "import pdb\n",
    "import copy"
   ]
  },
  {
   "cell_type": "code",
   "execution_count": 786,
   "id": "5eb57a25-d14b-418c-bf27-62b9245a9d58",
   "metadata": {},
   "outputs": [],
   "source": [
    "with open('input_e.txt') as fin:\n",
    "    monkeys=fin.readlines()"
   ]
  },
  {
   "cell_type": "code",
   "execution_count": 787,
   "id": "39338668-2932-4c8a-a459-9f2c52dfd693",
   "metadata": {},
   "outputs": [
    {
     "data": {
      "text/plain": [
       "['Monkey 0:\\n',\n",
       " '  Starting items: 79, 98\\n',\n",
       " '  Operation: new = old * 19\\n',\n",
       " '  Test: divisible by 23\\n',\n",
       " '    If true: throw to monkey 2\\n',\n",
       " '    If false: throw to monkey 3\\n',\n",
       " '\\n',\n",
       " 'Monkey 1:\\n',\n",
       " '  Starting items: 54, 65, 75, 74\\n',\n",
       " '  Operation: new = old + 6\\n',\n",
       " '  Test: divisible by 19\\n',\n",
       " '    If true: throw to monkey 2\\n',\n",
       " '    If false: throw to monkey 0\\n',\n",
       " '\\n',\n",
       " 'Monkey 2:\\n',\n",
       " '  Starting items: 79, 60, 97\\n',\n",
       " '  Operation: new = old * old\\n',\n",
       " '  Test: divisible by 13\\n',\n",
       " '    If true: throw to monkey 1\\n',\n",
       " '    If false: throw to monkey 3\\n',\n",
       " '\\n',\n",
       " 'Monkey 3:\\n',\n",
       " '  Starting items: 74\\n',\n",
       " '  Operation: new = old + 3\\n',\n",
       " '  Test: divisible by 17\\n',\n",
       " '    If true: throw to monkey 0\\n',\n",
       " '    If false: throw to monkey 1']"
      ]
     },
     "execution_count": 787,
     "metadata": {},
     "output_type": "execute_result"
    }
   ],
   "source": [
    "monkeys"
   ]
  },
  {
   "cell_type": "code",
   "execution_count": 788,
   "id": "33e227a5-bee3-4d06-a16f-0d1f52200c94",
   "metadata": {},
   "outputs": [],
   "source": [
    "m_ind = re.findall('Monkey (\\d+):', ' '.join(monkeys))\n",
    "m_ind = [int(x) for x in m_ind]\n",
    "starting_items = re.findall('Starting items: ([a-z, A-Z0-9_.-]*)', ' '.join(monkeys))\n",
    "starting_items=[x.split(',') for x in starting_items]\n",
    "#starting_items = [y.strip() for x in starting_items for y in x]\n",
    "operation = re.findall('Operation: ([a-z, =+\\*A-Z0-9_.-]*)', ' '.join(monkeys))\n",
    "operation = [x.split(' = ')[1] for x in operation]\n",
    "test = re.findall('Test: divisible by ([a-z, =+\\*A-Z0-9_.-]*)', ' '.join(monkeys))\n",
    "ifT = re.findall('If true: throw to monkey ([a-z, =+\\*A-Z0-9_.-]*)', ' '.join(monkeys))\n",
    "ifF = re.findall('If false: throw to monkey ([a-z, =+\\*A-Z0-9_.-]*)', ' '.join(monkeys))\n"
   ]
  },
  {
   "cell_type": "code",
   "execution_count": 789,
   "id": "ef179c1d-de00-4f24-a743-4e0f1343030f",
   "metadata": {},
   "outputs": [],
   "source": [
    "all_current_items = copy.deepcopy(starting_items)\n",
    "inspection_track = [list() for x in range(0,len(m_ind))]\n",
    "\n",
    "for r in range(0,20):\n",
    "    for monkey in m_ind:\n",
    "        current_items = all_current_items[int(monkey)].copy()\n",
    "        for item in current_items:\n",
    "            inspection_track[monkey].append(item)\n",
    "            old = int(item)\n",
    "            new = np.floor(eval(operation[monkey])/3)\n",
    "            test_result = new % int(test[monkey]) == 0\n",
    "            all_current_items[monkey].pop(0)\n",
    "            if test_result:\n",
    "                all_current_items[int(ifT[monkey])].append(new)\n",
    "            else:\n",
    "                all_current_items[int(ifF[monkey])].append(new)"
   ]
  },
  {
   "cell_type": "code",
   "execution_count": 790,
   "id": "8980278c-7449-4bc4-8630-e894764d4c8a",
   "metadata": {},
   "outputs": [],
   "source": [
    "inspect_sum=[len(x) for x in inspection_track]"
   ]
  },
  {
   "cell_type": "code",
   "execution_count": 791,
   "id": "d4991746-a82d-48b8-8b5c-295833bd78a2",
   "metadata": {},
   "outputs": [
    {
     "data": {
      "text/plain": [
       "[101, 95, 7, 105]"
      ]
     },
     "execution_count": 791,
     "metadata": {},
     "output_type": "execute_result"
    }
   ],
   "source": [
    "inspect_sum"
   ]
  },
  {
   "cell_type": "code",
   "execution_count": 792,
   "id": "52e145d5-7f15-4f47-910d-9d77d7e031f5",
   "metadata": {},
   "outputs": [],
   "source": [
    "inspect_sum = sorted(inspect_sum)"
   ]
  },
  {
   "cell_type": "code",
   "execution_count": 793,
   "id": "dcdb8601-9447-43ce-841f-45fc6e92911e",
   "metadata": {},
   "outputs": [
    {
     "data": {
      "text/plain": [
       "[7, 95, 101, 105]"
      ]
     },
     "execution_count": 793,
     "metadata": {},
     "output_type": "execute_result"
    }
   ],
   "source": [
    "inspect_sum"
   ]
  },
  {
   "cell_type": "code",
   "execution_count": 794,
   "id": "4a83456e-8451-4659-b2a2-7742fef4ee66",
   "metadata": {},
   "outputs": [
    {
     "data": {
      "text/plain": [
       "10605"
      ]
     },
     "execution_count": 794,
     "metadata": {},
     "output_type": "execute_result"
    }
   ],
   "source": [
    "inspect_sum[-1] * inspect_sum[-2]"
   ]
  },
  {
   "cell_type": "code",
   "execution_count": 795,
   "id": "6612b725-daf9-41d5-9387-c75a4b83d79c",
   "metadata": {},
   "outputs": [
    {
     "data": {
      "text/html": [
       "<div>\n",
       "<style scoped>\n",
       "    .dataframe tbody tr th:only-of-type {\n",
       "        vertical-align: middle;\n",
       "    }\n",
       "\n",
       "    .dataframe tbody tr th {\n",
       "        vertical-align: top;\n",
       "    }\n",
       "\n",
       "    .dataframe thead th {\n",
       "        text-align: right;\n",
       "    }\n",
       "</style>\n",
       "<table border=\"1\" class=\"dataframe\">\n",
       "  <thead>\n",
       "    <tr style=\"text-align: right;\">\n",
       "      <th></th>\n",
       "      <th>0</th>\n",
       "      <th>1</th>\n",
       "      <th>2</th>\n",
       "      <th>3</th>\n",
       "      <th>4</th>\n",
       "      <th>5</th>\n",
       "      <th>6</th>\n",
       "      <th>7</th>\n",
       "      <th>8</th>\n",
       "      <th>9</th>\n",
       "      <th>...</th>\n",
       "      <th>95</th>\n",
       "      <th>96</th>\n",
       "      <th>97</th>\n",
       "      <th>98</th>\n",
       "      <th>99</th>\n",
       "      <th>100</th>\n",
       "      <th>101</th>\n",
       "      <th>102</th>\n",
       "      <th>103</th>\n",
       "      <th>104</th>\n",
       "    </tr>\n",
       "  </thead>\n",
       "  <tbody>\n",
       "    <tr>\n",
       "      <th>0</th>\n",
       "      <td>79</td>\n",
       "      <td>98</td>\n",
       "      <td>20.0</td>\n",
       "      <td>23.0</td>\n",
       "      <td>27.0</td>\n",
       "      <td>26.0</td>\n",
       "      <td>695.0</td>\n",
       "      <td>10.0</td>\n",
       "      <td>71.0</td>\n",
       "      <td>135.0</td>\n",
       "      <td>...</td>\n",
       "      <td>116.0</td>\n",
       "      <td>44.0</td>\n",
       "      <td>25.0</td>\n",
       "      <td>94.0</td>\n",
       "      <td>16.0</td>\n",
       "      <td>54.0</td>\n",
       "      <td>NaN</td>\n",
       "      <td>NaN</td>\n",
       "      <td>NaN</td>\n",
       "      <td>NaN</td>\n",
       "    </tr>\n",
       "    <tr>\n",
       "      <th>1</th>\n",
       "      <td>54</td>\n",
       "      <td>65</td>\n",
       "      <td>75</td>\n",
       "      <td>74</td>\n",
       "      <td>2080.0</td>\n",
       "      <td>25.0</td>\n",
       "      <td>167.0</td>\n",
       "      <td>207.0</td>\n",
       "      <td>401.0</td>\n",
       "      <td>1046.0</td>\n",
       "      <td>...</td>\n",
       "      <td>NaN</td>\n",
       "      <td>NaN</td>\n",
       "      <td>NaN</td>\n",
       "      <td>NaN</td>\n",
       "      <td>NaN</td>\n",
       "      <td>NaN</td>\n",
       "      <td>NaN</td>\n",
       "      <td>NaN</td>\n",
       "      <td>NaN</td>\n",
       "      <td>NaN</td>\n",
       "    </tr>\n",
       "    <tr>\n",
       "      <th>2</th>\n",
       "      <td>79</td>\n",
       "      <td>60</td>\n",
       "      <td>97</td>\n",
       "      <td>57.0</td>\n",
       "      <td>38.0</td>\n",
       "      <td>38.0</td>\n",
       "      <td>38.0</td>\n",
       "      <td>NaN</td>\n",
       "      <td>NaN</td>\n",
       "      <td>NaN</td>\n",
       "      <td>...</td>\n",
       "      <td>NaN</td>\n",
       "      <td>NaN</td>\n",
       "      <td>NaN</td>\n",
       "      <td>NaN</td>\n",
       "      <td>NaN</td>\n",
       "      <td>NaN</td>\n",
       "      <td>NaN</td>\n",
       "      <td>NaN</td>\n",
       "      <td>NaN</td>\n",
       "      <td>NaN</td>\n",
       "    </tr>\n",
       "    <tr>\n",
       "      <th>3</th>\n",
       "      <td>74</td>\n",
       "      <td>500.0</td>\n",
       "      <td>620.0</td>\n",
       "      <td>1200.0</td>\n",
       "      <td>3136.0</td>\n",
       "      <td>126.0</td>\n",
       "      <td>145.0</td>\n",
       "      <td>171.0</td>\n",
       "      <td>164.0</td>\n",
       "      <td>1083.0</td>\n",
       "      <td>...</td>\n",
       "      <td>76.0</td>\n",
       "      <td>88.0</td>\n",
       "      <td>107.0</td>\n",
       "      <td>215.0</td>\n",
       "      <td>734.0</td>\n",
       "      <td>278.0</td>\n",
       "      <td>158.0</td>\n",
       "      <td>595.0</td>\n",
       "      <td>101.0</td>\n",
       "      <td>342.0</td>\n",
       "    </tr>\n",
       "  </tbody>\n",
       "</table>\n",
       "<p>4 rows × 105 columns</p>\n",
       "</div>"
      ],
      "text/plain": [
       "  0      1      2       3       4      5      6      7      8       9    ...  \\\n",
       "0  79     98   20.0    23.0    27.0   26.0  695.0   10.0   71.0   135.0  ...   \n",
       "1  54     65     75      74  2080.0   25.0  167.0  207.0  401.0  1046.0  ...   \n",
       "2  79     60     97    57.0    38.0   38.0   38.0    NaN    NaN     NaN  ...   \n",
       "3  74  500.0  620.0  1200.0  3136.0  126.0  145.0  171.0  164.0  1083.0  ...   \n",
       "\n",
       "     95    96     97     98     99     100    101    102    103    104  \n",
       "0  116.0  44.0   25.0   94.0   16.0   54.0    NaN    NaN    NaN    NaN  \n",
       "1    NaN   NaN    NaN    NaN    NaN    NaN    NaN    NaN    NaN    NaN  \n",
       "2    NaN   NaN    NaN    NaN    NaN    NaN    NaN    NaN    NaN    NaN  \n",
       "3   76.0  88.0  107.0  215.0  734.0  278.0  158.0  595.0  101.0  342.0  \n",
       "\n",
       "[4 rows x 105 columns]"
      ]
     },
     "execution_count": 795,
     "metadata": {},
     "output_type": "execute_result"
    }
   ],
   "source": [
    "pd.DataFrame(inspection_track)"
   ]
  },
  {
   "cell_type": "markdown",
   "id": "ad6d9fd8-9666-4234-a8f9-b630d458070d",
   "metadata": {},
   "source": [
    "## Part 2"
   ]
  },
  {
   "cell_type": "code",
   "execution_count": 796,
   "id": "7e1f10da-2d3e-4b7a-83ce-ace23e87037d",
   "metadata": {},
   "outputs": [],
   "source": [
    "class Item:\n",
    "    def __init__(self, worry, item_index, current_monkey, current_round):\n",
    "        self.worry = worry\n",
    "        self.item_index = item_index\n",
    "        self.monkey_list = [(current_round, current_monkey)]\n",
    "        \n",
    "    def pass_it(self, current_round, next_monkey):\n",
    "        self.monkey_list.append((current_round, next_monkey))"
   ]
  },
  {
   "cell_type": "code",
   "execution_count": 797,
   "id": "c2bd585c-7991-479f-89d1-ce0d541550ae",
   "metadata": {},
   "outputs": [],
   "source": [
    "all_current_items = copy.deepcopy(starting_items)\n",
    "item_index = 0\n",
    "all_current_its = [list() for x in m_ind]\n",
    "for monkeyn, inv in enumerate(all_current_items):\n",
    "    for it in inv:\n",
    "        all_current_its[monkeyn].append(Item(int(it), item_index, monkeyn, 1))\n",
    "        item_index += 1"
   ]
  },
  {
   "cell_type": "code",
   "execution_count": 798,
   "id": "6568c86d-024c-4d00-b63e-c4d5c94ed685",
   "metadata": {},
   "outputs": [
    {
     "data": {
      "text/plain": [
       "['old * 19', 'old + 6', 'old * old', 'old + 3']"
      ]
     },
     "execution_count": 798,
     "metadata": {},
     "output_type": "execute_result"
    }
   ],
   "source": [
    "operation"
   ]
  },
  {
   "cell_type": "code",
   "execution_count": 799,
   "id": "67f5977a-da8d-4712-9a04-b8523aab012a",
   "metadata": {},
   "outputs": [],
   "source": [
    "worry_adj=[x.replace('*', '/').replace('old','new').replace('+', '/') for x in operation]"
   ]
  },
  {
   "cell_type": "code",
   "execution_count": 800,
   "id": "4ec7d00a-8728-4654-afd9-1e0fb9aa44f4",
   "metadata": {},
   "outputs": [
    {
     "data": {
      "text/plain": [
       "['23', '19', '13', '17']"
      ]
     },
     "execution_count": 800,
     "metadata": {},
     "output_type": "execute_result"
    }
   ],
   "source": [
    "test"
   ]
  },
  {
   "cell_type": "code",
   "execution_count": 801,
   "id": "78e2fecb-c153-4656-a995-882599824780",
   "metadata": {},
   "outputs": [
    {
     "data": {
      "text/plain": [
       "['new / 19', 'new / 6', 'new / new', 'new / 3']"
      ]
     },
     "execution_count": 801,
     "metadata": {},
     "output_type": "execute_result"
    }
   ],
   "source": [
    "worry_adj"
   ]
  },
  {
   "cell_type": "code",
   "execution_count": 802,
   "id": "448312bf-acec-4064-abaa-8b89488a54bd",
   "metadata": {},
   "outputs": [
    {
     "data": {
      "text/plain": [
       "[['79', ' 98'], ['54', ' 65', ' 75', ' 74'], ['79', ' 60', ' 97'], ['74']]"
      ]
     },
     "execution_count": 802,
     "metadata": {},
     "output_type": "execute_result"
    }
   ],
   "source": [
    "starting_items"
   ]
  },
  {
   "cell_type": "code",
   "execution_count": 857,
   "id": "b50ba8ee-6f29-4420-abb7-f36f79c58a16",
   "metadata": {},
   "outputs": [
    {
     "data": {
      "text/plain": [
       "['old * 19', 'old + 6', 'old * old', 'old + 3']"
      ]
     },
     "execution_count": 857,
     "metadata": {},
     "output_type": "execute_result"
    }
   ],
   "source": [
    "operation"
   ]
  },
  {
   "cell_type": "code",
   "execution_count": 853,
   "id": "a999bb3f-2cfa-42df-84c8-16bc7883131d",
   "metadata": {},
   "outputs": [
    {
     "data": {
      "text/plain": [
       "1.0476190476190477"
      ]
     },
     "execution_count": 853,
     "metadata": {},
     "output_type": "execute_result"
    }
   ],
   "source": [
    "(3*19+6)/(19*3+6)"
   ]
  },
  {
   "cell_type": "code",
   "execution_count": 841,
   "id": "fa32d30b-01b8-482a-9453-5ef546c7ae62",
   "metadata": {},
   "outputs": [
    {
     "data": {
      "text/plain": [
       "17.658105004367094"
      ]
     },
     "execution_count": 841,
     "metadata": {},
     "output_type": "execute_result"
    }
   ],
   "source": [
    "4.415204678362573/0.2500384201629015"
   ]
  },
  {
   "cell_type": "code",
   "execution_count": 838,
   "id": "cde2fc63-e93b-46f2-9679-034e1e25dc9a",
   "metadata": {},
   "outputs": [
    {
     "data": {
      "text/plain": [
       "4.415204678362573"
      ]
     },
     "execution_count": 838,
     "metadata": {},
     "output_type": "execute_result"
    }
   ],
   "source": [
    "(79*19+3+6)/(19*3*6)"
   ]
  },
  {
   "cell_type": "code",
   "execution_count": 833,
   "id": "395934d5-d8cf-48ca-858a-0fb1d1395648",
   "metadata": {},
   "outputs": [
    {
     "data": {
      "text/plain": [
       "1621.0000512978352"
      ]
     },
     "execution_count": 833,
     "metadata": {},
     "output_type": "execute_result"
    }
   ],
   "source": [
    "79*19+3+6*19+3+6/(19*3*6*19*3*6)"
   ]
  },
  {
   "cell_type": "code",
   "execution_count": 865,
   "id": "f0beafbd-c0e7-4b39-9d8f-b30364b5bae1",
   "metadata": {},
   "outputs": [
    {
     "data": {
      "text/plain": [
       "['new % 19', 'new % 6', 'new % new', 'new % 3']"
      ]
     },
     "execution_count": 865,
     "metadata": {},
     "output_type": "execute_result"
    }
   ],
   "source": [
    "mod_ops"
   ]
  },
  {
   "cell_type": "code",
   "execution_count": 866,
   "id": "ccea2e31-0a7c-4d94-a413-bfeef865674c",
   "metadata": {},
   "outputs": [],
   "source": [
    "mod_ops=[x.replace('* 19','% 19').replace('+','%').replace('old','new') for x in operation]"
   ]
  },
  {
   "cell_type": "code",
   "execution_count": 867,
   "id": "66fb92ae-1984-4894-b046-94c00c3a4320",
   "metadata": {},
   "outputs": [
    {
     "data": {
      "text/plain": [
       "['new % 19', 'new % 6', 'new * new', 'new % 3']"
      ]
     },
     "execution_count": 867,
     "metadata": {},
     "output_type": "execute_result"
    }
   ],
   "source": [
    "mod_ops"
   ]
  },
  {
   "cell_type": "code",
   "execution_count": 856,
   "id": "a10e9dd9-9946-487a-b078-9f8f0e7708e7",
   "metadata": {},
   "outputs": [
    {
     "data": {
      "text/plain": [
       "342.0"
      ]
     },
     "execution_count": 856,
     "metadata": {},
     "output_type": "execute_result"
    }
   ],
   "source": [
    "item"
   ]
  },
  {
   "cell_type": "code",
   "execution_count": 868,
   "id": "dba67446-b542-4916-9fcb-b2d56affbae5",
   "metadata": {},
   "outputs": [],
   "source": [
    "all_current_items = copy.deepcopy(starting_items)\n",
    "item_index = 0\n",
    "all_current_its = [list() for x in m_ind]\n",
    "for monkeyn, inv in enumerate(all_current_items):\n",
    "    for it in inv:\n",
    "        all_current_its[monkeyn].append(Item(int(it), item_index, monkeyn, 1))\n",
    "        item_index += 1\n",
    "        \n",
    "inspection_track = [list() for x in range(0,len(m_ind))]\n",
    "\n",
    "for r in range(0,20):\n",
    "    for monkey in m_ind:\n",
    "        current_items = all_current_its[int(monkey)].copy()\n",
    "        for item in current_items:\n",
    "            inspection_track[monkey].append(item)\n",
    "            old = item.worry\n",
    "            new = eval(operation[monkey])\n",
    "            item.worry = eval(mod_ops[monkey])\n",
    "            test_result = new % int(test[monkey]) == 0\n",
    "            all_current_its[monkey].pop(0)\n",
    "\n",
    "            if test_result:\n",
    "                item.pass_it(r+1, int(ifT[monkey]))\n",
    "                all_current_its[int(ifT[monkey])].append(item)\n",
    "                if monkey == 0:\n",
    "                    item.worry = item.worry/23\n",
    "            else:\n",
    "                item.pass_it(r+1, int(ifF[monkey]))\n",
    "                #item.worry = eval(worry_adj[monkey])\n",
    "                all_current_its[int(ifF[monkey])].append(item)\n"
   ]
  },
  {
   "cell_type": "code",
   "execution_count": 869,
   "id": "ed4246c3-a6dc-40af-a13b-5396a9fb9d4d",
   "metadata": {},
   "outputs": [],
   "source": [
    "inspect_sum=[len(x) for x in inspection_track]"
   ]
  },
  {
   "cell_type": "code",
   "execution_count": 870,
   "id": "4d714076-5aeb-4684-9abf-0773c0ab82a4",
   "metadata": {},
   "outputs": [
    {
     "data": {
      "text/plain": [
       "[96, 100, 91, 12]"
      ]
     },
     "execution_count": 870,
     "metadata": {},
     "output_type": "execute_result"
    }
   ],
   "source": [
    "inspect_sum"
   ]
  },
  {
   "cell_type": "code",
   "execution_count": 784,
   "id": "a69914f0-d9d0-460f-99d0-f85008b4bf04",
   "metadata": {},
   "outputs": [
    {
     "data": {
      "text/plain": [
       "6.764786943506476e+52"
      ]
     },
     "execution_count": 784,
     "metadata": {},
     "output_type": "execute_result"
    }
   ],
   "source": [
    "item.worry"
   ]
  },
  {
   "cell_type": "code",
   "execution_count": 709,
   "id": "1ef358eb-f0a0-4f62-a50b-7bc268a396a4",
   "metadata": {},
   "outputs": [
    {
     "name": "stdout",
     "output_type": "stream",
     "text": [
      "310310310310310310310310310310\n",
      "> \u001b[0;32m/scratch/tmp/22879487.1.default.q/ipykernel_7423/2146665496.py\u001b[0m(10)\u001b[0;36m<cell line: 1>\u001b[0;34m()\u001b[0m\n",
      "\u001b[0;32m      8 \u001b[0;31m            \u001b[0mpattern_starts\u001b[0m \u001b[0;34m=\u001b[0m \u001b[0;34m[\u001b[0m\u001b[0mm\u001b[0m\u001b[0;34m.\u001b[0m\u001b[0mstart\u001b[0m\u001b[0;34m(\u001b[0m\u001b[0;36m0\u001b[0m\u001b[0;34m)\u001b[0m \u001b[0;32mfor\u001b[0m \u001b[0mm\u001b[0m \u001b[0;32min\u001b[0m \u001b[0mcycle_obj\u001b[0m\u001b[0;34m]\u001b[0m\u001b[0;34m\u001b[0m\u001b[0;34m\u001b[0m\u001b[0m\n",
      "\u001b[0m\u001b[0;32m      9 \u001b[0;31m            \u001b[0mpdb\u001b[0m\u001b[0;34m.\u001b[0m\u001b[0mset_trace\u001b[0m\u001b[0;34m(\u001b[0m\u001b[0;34m)\u001b[0m\u001b[0;34m\u001b[0m\u001b[0;34m\u001b[0m\u001b[0m\n",
      "\u001b[0m\u001b[0;32m---> 10 \u001b[0;31m            \u001b[0;32mif\u001b[0m \u001b[0mlen\u001b[0m\u001b[0;34m(\u001b[0m\u001b[0mpattern_starts\u001b[0m\u001b[0;34m)\u001b[0m \u001b[0;34m<\u001b[0m \u001b[0;36m2\u001b[0m\u001b[0;34m:\u001b[0m\u001b[0;34m\u001b[0m\u001b[0;34m\u001b[0m\u001b[0m\n",
      "\u001b[0m\u001b[0;32m     11 \u001b[0;31m                \u001b[0mpdb\u001b[0m\u001b[0;34m.\u001b[0m\u001b[0mset_trace\u001b[0m\u001b[0;34m(\u001b[0m\u001b[0;34m)\u001b[0m\u001b[0;34m\u001b[0m\u001b[0;34m\u001b[0m\u001b[0m\n",
      "\u001b[0m\u001b[0;32m     12 \u001b[0;31m            \u001b[0mpattern_length\u001b[0m \u001b[0;34m=\u001b[0m \u001b[0mpattern_starts\u001b[0m\u001b[0;34m[\u001b[0m\u001b[0;36m1\u001b[0m\u001b[0;34m]\u001b[0m\u001b[0;34m-\u001b[0m\u001b[0mpattern_starts\u001b[0m\u001b[0;34m[\u001b[0m\u001b[0;36m0\u001b[0m\u001b[0;34m]\u001b[0m\u001b[0;34m\u001b[0m\u001b[0;34m\u001b[0m\u001b[0m\n",
      "\u001b[0m\n"
     ]
    },
    {
     "name": "stdin",
     "output_type": "stream",
     "text": [
      "ipdb>  exit\n"
     ]
    }
   ],
   "source": [
    "for inv in all_current_its:\n",
    "    for its in inv:\n",
    "        cycle_sample = ''.join([str(y) for x,y in its.monkey_list])\n",
    "        print(cycle_sample)\n",
    "        for tlen in range(3,200):\n",
    "            #cycle_obj=re.finditer(cycle_sample[:tlen], cycle_sample)\n",
    "            cycle_obj=re.finditer('21', cycle_sample)\n",
    "            pattern_starts = [m.start(0) for m in cycle_obj]\n",
    "            pdb.set_trace()\n",
    "            if len(pattern_starts) < 2:\n",
    "                pdb.set_trace()\n",
    "            pattern_length = pattern_starts[1]-pattern_starts[0]\n",
    "            if all([x%tlen == 0 for x in pattern_starts]):\n",
    "                its.cycle_length = tlen\n",
    "                break\n",
    "            else:\n",
    "                continue\n",
    "            print(pattern_length)\n"
   ]
  },
  {
   "cell_type": "code",
   "execution_count": null,
   "id": "aeeb7266-02b2-4f69-8503-0818452989d0",
   "metadata": {},
   "outputs": [],
   "source": [
    "inspect_sum=[len(x) for x in inspection_track]"
   ]
  },
  {
   "cell_type": "code",
   "execution_count": null,
   "id": "258e4023-2464-42a1-938f-19bc9574030d",
   "metadata": {},
   "outputs": [],
   "source": [
    "inspect_sum = sorted(inspect_sum)"
   ]
  },
  {
   "cell_type": "code",
   "execution_count": null,
   "id": "fbd48b93-7d00-4996-a182-39cdfac4b93a",
   "metadata": {},
   "outputs": [],
   "source": [
    "inspect_sum[-1] * inspect_sum[-2]"
   ]
  },
  {
   "cell_type": "code",
   "execution_count": 363,
   "id": "b29843ab-2a3d-4b63-b016-da4afc175866",
   "metadata": {},
   "outputs": [],
   "source": [
    "with open('input_x.txt') as fin:\n",
    "    inspections=fin.readlines()"
   ]
  },
  {
   "cell_type": "code",
   "execution_count": 373,
   "id": "d46e1960-79f4-471f-a0bd-08baa69cbfe9",
   "metadata": {},
   "outputs": [],
   "source": [
    "monk0 = re.findall('Monkey 0 inspected items (\\d+)', ' '.join(inspections))\n",
    "monk1 = re.findall('Monkey 1 inspected items (\\d+)', ' '.join(inspections))\n",
    "monk2 = re.findall('Monkey 2 inspected items (\\d+)', ' '.join(inspections))\n",
    "monk3 = re.findall('Monkey 3 inspected items (\\d+)', ' '.join(inspections))\n",
    "\n",
    "all_inspect = pd.DataFrame()"
   ]
  },
  {
   "cell_type": "code",
   "execution_count": 375,
   "id": "2a1ef398-67f0-45f1-b700-6f7c4996ec24",
   "metadata": {},
   "outputs": [],
   "source": [
    "all_inspect['monkey0'] = monk0\n",
    "all_inspect['monkey1'] = monk1\n",
    "all_inspect['monkey2'] = monk2\n",
    "all_inspect['monkey3'] = monk3"
   ]
  },
  {
   "cell_type": "code",
   "execution_count": 383,
   "id": "3d954b46-fe41-4111-979c-e536f47ddcbe",
   "metadata": {},
   "outputs": [],
   "source": [
    "all_inspect['rd'] = rd"
   ]
  },
  {
   "cell_type": "code",
   "execution_count": 388,
   "id": "9bee078a-4e18-46d6-b60b-4edc7e807cd0",
   "metadata": {},
   "outputs": [],
   "source": [
    "for col in all_inspect:\n",
    "    all_inspect[col] = all_inspect[col].astype(int)"
   ]
  },
  {
   "cell_type": "code",
   "execution_count": 389,
   "id": "cd73af85-8fea-4d13-8712-4e2e131c90e4",
   "metadata": {},
   "outputs": [],
   "source": [
    "rd = [1,20,1000,2000,3000,4000,5000,6000,7000,8000,9000,10000]"
   ]
  },
  {
   "cell_type": "code",
   "execution_count": 390,
   "id": "e5264b23-8ce6-4f64-b26d-a1c826925645",
   "metadata": {},
   "outputs": [],
   "source": [
    "import seaborn as sns"
   ]
  },
  {
   "cell_type": "code",
   "execution_count": 395,
   "id": "ab403188-b675-41d6-b456-634dd61a71a3",
   "metadata": {},
   "outputs": [
    {
     "data": {
      "text/html": [
       "<div>\n",
       "<style scoped>\n",
       "    .dataframe tbody tr th:only-of-type {\n",
       "        vertical-align: middle;\n",
       "    }\n",
       "\n",
       "    .dataframe tbody tr th {\n",
       "        vertical-align: top;\n",
       "    }\n",
       "\n",
       "    .dataframe thead th {\n",
       "        text-align: right;\n",
       "    }\n",
       "</style>\n",
       "<table border=\"1\" class=\"dataframe\">\n",
       "  <thead>\n",
       "    <tr style=\"text-align: right;\">\n",
       "      <th></th>\n",
       "      <th>monkey0</th>\n",
       "      <th>monkey1</th>\n",
       "      <th>monkey2</th>\n",
       "      <th>monkey3</th>\n",
       "      <th>rd</th>\n",
       "    </tr>\n",
       "  </thead>\n",
       "  <tbody>\n",
       "    <tr>\n",
       "      <th>0</th>\n",
       "      <td>2</td>\n",
       "      <td>4</td>\n",
       "      <td>3</td>\n",
       "      <td>6</td>\n",
       "      <td>1</td>\n",
       "    </tr>\n",
       "    <tr>\n",
       "      <th>1</th>\n",
       "      <td>99</td>\n",
       "      <td>97</td>\n",
       "      <td>8</td>\n",
       "      <td>103</td>\n",
       "      <td>20</td>\n",
       "    </tr>\n",
       "    <tr>\n",
       "      <th>2</th>\n",
       "      <td>5204</td>\n",
       "      <td>4792</td>\n",
       "      <td>199</td>\n",
       "      <td>5192</td>\n",
       "      <td>1000</td>\n",
       "    </tr>\n",
       "    <tr>\n",
       "      <th>3</th>\n",
       "      <td>10419</td>\n",
       "      <td>9577</td>\n",
       "      <td>392</td>\n",
       "      <td>10391</td>\n",
       "      <td>2000</td>\n",
       "    </tr>\n",
       "    <tr>\n",
       "      <th>4</th>\n",
       "      <td>15638</td>\n",
       "      <td>14358</td>\n",
       "      <td>587</td>\n",
       "      <td>15593</td>\n",
       "      <td>3000</td>\n",
       "    </tr>\n",
       "    <tr>\n",
       "      <th>5</th>\n",
       "      <td>20858</td>\n",
       "      <td>19138</td>\n",
       "      <td>780</td>\n",
       "      <td>20797</td>\n",
       "      <td>4000</td>\n",
       "    </tr>\n",
       "    <tr>\n",
       "      <th>6</th>\n",
       "      <td>26075</td>\n",
       "      <td>23921</td>\n",
       "      <td>974</td>\n",
       "      <td>26000</td>\n",
       "      <td>5000</td>\n",
       "    </tr>\n",
       "    <tr>\n",
       "      <th>7</th>\n",
       "      <td>31294</td>\n",
       "      <td>28702</td>\n",
       "      <td>1165</td>\n",
       "      <td>31204</td>\n",
       "      <td>6000</td>\n",
       "    </tr>\n",
       "    <tr>\n",
       "      <th>8</th>\n",
       "      <td>36508</td>\n",
       "      <td>33488</td>\n",
       "      <td>1360</td>\n",
       "      <td>36400</td>\n",
       "      <td>7000</td>\n",
       "    </tr>\n",
       "    <tr>\n",
       "      <th>9</th>\n",
       "      <td>41728</td>\n",
       "      <td>38268</td>\n",
       "      <td>1553</td>\n",
       "      <td>41606</td>\n",
       "      <td>8000</td>\n",
       "    </tr>\n",
       "    <tr>\n",
       "      <th>10</th>\n",
       "      <td>46945</td>\n",
       "      <td>43051</td>\n",
       "      <td>1746</td>\n",
       "      <td>46807</td>\n",
       "      <td>9000</td>\n",
       "    </tr>\n",
       "    <tr>\n",
       "      <th>11</th>\n",
       "      <td>52166</td>\n",
       "      <td>47830</td>\n",
       "      <td>1938</td>\n",
       "      <td>52013</td>\n",
       "      <td>10000</td>\n",
       "    </tr>\n",
       "  </tbody>\n",
       "</table>\n",
       "</div>"
      ],
      "text/plain": [
       "    monkey0  monkey1  monkey2  monkey3     rd\n",
       "0         2        4        3        6      1\n",
       "1        99       97        8      103     20\n",
       "2      5204     4792      199     5192   1000\n",
       "3     10419     9577      392    10391   2000\n",
       "4     15638    14358      587    15593   3000\n",
       "5     20858    19138      780    20797   4000\n",
       "6     26075    23921      974    26000   5000\n",
       "7     31294    28702     1165    31204   6000\n",
       "8     36508    33488     1360    36400   7000\n",
       "9     41728    38268     1553    41606   8000\n",
       "10    46945    43051     1746    46807   9000\n",
       "11    52166    47830     1938    52013  10000"
      ]
     },
     "execution_count": 395,
     "metadata": {},
     "output_type": "execute_result"
    }
   ],
   "source": [
    "all_inspect"
   ]
  },
  {
   "cell_type": "code",
   "execution_count": 406,
   "id": "5678f54a-f003-4500-96e8-585b01e3b958",
   "metadata": {},
   "outputs": [
    {
     "name": "stdout",
     "output_type": "stream",
     "text": [
      "-97\n",
      "-5105\n",
      "-5215\n",
      "-5219\n",
      "-5220\n",
      "-5217\n",
      "-5219\n",
      "-5214\n",
      "-5220\n",
      "-5217\n",
      "-5221\n"
     ]
    }
   ],
   "source": [
    "for i in range(0,11):\n",
    "    print(all_inspect['monkey0'].iloc[i]-all_inspect['monkey0'].iloc[i+1])"
   ]
  },
  {
   "cell_type": "code",
   "execution_count": 399,
   "id": "4d717d20-a8b8-46e5-8eaf-ce7b4b52909a",
   "metadata": {},
   "outputs": [
    {
     "data": {
      "text/plain": [
       "5217"
      ]
     },
     "execution_count": 399,
     "metadata": {},
     "output_type": "execute_result"
    }
   ],
   "source": [
    "all_inspect['monkey0'].iloc[-2]-all_inspect['monkey0'].iloc[-3]"
   ]
  },
  {
   "cell_type": "code",
   "execution_count": 400,
   "id": "6d9a81ed-8665-4476-aa5d-006ffb358ef7",
   "metadata": {},
   "outputs": [
    {
     "data": {
      "text/plain": [
       "5220"
      ]
     },
     "execution_count": 400,
     "metadata": {},
     "output_type": "execute_result"
    }
   ],
   "source": [
    "all_inspect['monkey0'].iloc[-3]-all_inspect['monkey0'].iloc[-4]"
   ]
  },
  {
   "cell_type": "code",
   "execution_count": 401,
   "id": "36004da6-37a8-4c37-a5e6-c96b3df9530f",
   "metadata": {},
   "outputs": [
    {
     "data": {
      "text/plain": [
       "5214"
      ]
     },
     "execution_count": 401,
     "metadata": {},
     "output_type": "execute_result"
    }
   ],
   "source": [
    "all_inspect['monkey0'].iloc[-4]-all_inspect['monkey0'].iloc[-5]"
   ]
  },
  {
   "cell_type": "code",
   "execution_count": 402,
   "id": "d0325261-7929-4379-8a7b-73c57dc6bc3f",
   "metadata": {},
   "outputs": [
    {
     "data": {
      "text/plain": [
       "5219"
      ]
     },
     "execution_count": 402,
     "metadata": {},
     "output_type": "execute_result"
    }
   ],
   "source": [
    "all_inspect['monkey0'].iloc[-5]-all_inspect['monkey0'].iloc[-6]"
   ]
  },
  {
   "cell_type": "code",
   "execution_count": 403,
   "id": "2950f036-b3cc-46fc-9463-ecf783c68f8c",
   "metadata": {},
   "outputs": [
    {
     "data": {
      "text/plain": [
       "5217"
      ]
     },
     "execution_count": 403,
     "metadata": {},
     "output_type": "execute_result"
    }
   ],
   "source": [
    "all_inspect['monkey0'].iloc[-6]-all_inspect['monkey0'].iloc[-7]"
   ]
  },
  {
   "cell_type": "code",
   "execution_count": 404,
   "id": "ca83c7f8-cc87-48b5-9fb2-a304f85fe45c",
   "metadata": {},
   "outputs": [
    {
     "data": {
      "text/plain": [
       "5220"
      ]
     },
     "execution_count": 404,
     "metadata": {},
     "output_type": "execute_result"
    }
   ],
   "source": [
    "all_inspect['monkey0'].iloc[-7]-all_inspect['monkey0'].iloc[-8]"
   ]
  },
  {
   "cell_type": "code",
   "execution_count": 405,
   "id": "017795af-b32e-4adf-a1ad-f6ed4a59996d",
   "metadata": {},
   "outputs": [
    {
     "data": {
      "text/plain": [
       "5219"
      ]
     },
     "execution_count": 405,
     "metadata": {},
     "output_type": "execute_result"
    }
   ],
   "source": [
    "all_inspect['monkey0'].iloc[-8]-all_inspect['monkey0'].iloc[-9]"
   ]
  },
  {
   "cell_type": "code",
   "execution_count": null,
   "id": "8056049a-3711-41a7-95b6-9ae356555277",
   "metadata": {},
   "outputs": [],
   "source": []
  },
  {
   "cell_type": "code",
   "execution_count": 394,
   "id": "3a1c4155-d906-4048-b7d7-1916c4a3f91d",
   "metadata": {},
   "outputs": [
    {
     "data": {
      "text/plain": [
       "<AxesSubplot:ylabel='monkey0'>"
      ]
     },
     "execution_count": 394,
     "metadata": {},
     "output_type": "execute_result"
    },
    {
     "data": {
      "image/png": "[encoded data removed]",
      "text/plain": [
       "<Figure size 432x288 with 1 Axes>"
      ]
     },
     "metadata": {
      "needs_background": "light"
     },
     "output_type": "display_data"
    }
   ],
   "source": [
    "sns.scatterplot(data=all_inspect, x=rd,y='monkey0')\n",
    "sns.scatterplot(data=all_inspect, x=rd,y='monkey1')\n",
    "sns.scatterplot(data=all_inspect, x=rd,y='monkey2')\n",
    "sns.scatterplot(data=all_inspect, x=rd,y='monkey3')"
   ]
  },
  {
   "cell_type": "code",
   "execution_count": null,
   "id": "54d11f35-5047-485f-9f92-7e427a5ce194",
   "metadata": {},
   "outputs": [],
   "source": []
  }
 ],
 "metadata": {
  "kernelspec": {
   "display_name": "cuda11_torch",
   "language": "python",
   "name": "cuda11_torch"
  },
  "language_info": {
   "codemirror_mode": {
    "name": "ipython",
    "version": 3
   },
   "file_extension": ".py",
   "mimetype": "text/x-python",
   "name": "python",
   "nbconvert_exporter": "python",
   "pygments_lexer": "ipython3",
   "version": "3.9.13"
  }
 },
 "nbformat": 4,
 "nbformat_minor": 5
}
