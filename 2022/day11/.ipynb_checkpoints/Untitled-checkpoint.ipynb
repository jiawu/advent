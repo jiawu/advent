{
 "cells": [
  {
   "cell_type": "code",
   "execution_count": 241,
   "id": "b76045a8-1aad-4af6-a8ce-c20c0eb5e382",
   "metadata": {},
   "outputs": [],
   "source": [
    "import numpy as np\n",
    "import pandas as pd\n",
    "import re\n",
    "import ast\n",
    "import pdb\n",
    "import copy"
   ]
  },
  {
   "cell_type": "code",
   "execution_count": 273,
   "id": "5eb57a25-d14b-418c-bf27-62b9245a9d58",
   "metadata": {},
   "outputs": [],
   "source": [
    "with open('input_e.txt') as fin:\n",
    "    monkeys=fin.readlines()"
   ]
  },
  {
   "cell_type": "code",
   "execution_count": 274,
   "id": "39338668-2932-4c8a-a459-9f2c52dfd693",
   "metadata": {},
   "outputs": [
    {
     "data": {
      "text/plain": [
       "['Monkey 0:\\n',\n",
       " '  Starting items: 79, 98\\n',\n",
       " '  Operation: new = old * 19\\n',\n",
       " '  Test: divisible by 23\\n',\n",
       " '    If true: throw to monkey 2\\n',\n",
       " '    If false: throw to monkey 3\\n',\n",
       " '\\n',\n",
       " 'Monkey 1:\\n',\n",
       " '  Starting items: 54, 65, 75, 74\\n',\n",
       " '  Operation: new = old + 6\\n',\n",
       " '  Test: divisible by 19\\n',\n",
       " '    If true: throw to monkey 2\\n',\n",
       " '    If false: throw to monkey 0\\n',\n",
       " '\\n',\n",
       " 'Monkey 2:\\n',\n",
       " '  Starting items: 79, 60, 97\\n',\n",
       " '  Operation: new = old * old\\n',\n",
       " '  Test: divisible by 13\\n',\n",
       " '    If true: throw to monkey 1\\n',\n",
       " '    If false: throw to monkey 3\\n',\n",
       " '\\n',\n",
       " 'Monkey 3:\\n',\n",
       " '  Starting items: 74\\n',\n",
       " '  Operation: new = old + 3\\n',\n",
       " '  Test: divisible by 17\\n',\n",
       " '    If true: throw to monkey 0\\n',\n",
       " '    If false: throw to monkey 1']"
      ]
     },
     "execution_count": 274,
     "metadata": {},
     "output_type": "execute_result"
    }
   ],
   "source": [
    "monkeys"
   ]
  },
  {
   "cell_type": "code",
   "execution_count": 275,
   "id": "33e227a5-bee3-4d06-a16f-0d1f52200c94",
   "metadata": {},
   "outputs": [],
   "source": [
    "m_ind = re.findall('Monkey (\\d+):', ' '.join(monkeys))\n",
    "m_ind = [int(x) for x in m_ind]\n",
    "starting_items = re.findall('Starting items: ([a-z, A-Z0-9_.-]*)', ' '.join(monkeys))\n",
    "starting_items=[x.split(',') for x in starting_items]\n",
    "#starting_items = [y.strip() for x in starting_items for y in x]\n",
    "operation = re.findall('Operation: ([a-z, =+\\*A-Z0-9_.-]*)', ' '.join(monkeys))\n",
    "operation = [x.split(' = ')[1] for x in operation]\n",
    "test = re.findall('Test: divisible by ([a-z, =+\\*A-Z0-9_.-]*)', ' '.join(monkeys))\n",
    "ifT = re.findall('If true: throw to monkey ([a-z, =+\\*A-Z0-9_.-]*)', ' '.join(monkeys))\n",
    "ifF = re.findall('If false: throw to monkey ([a-z, =+\\*A-Z0-9_.-]*)', ' '.join(monkeys))\n"
   ]
  },
  {
   "cell_type": "code",
   "execution_count": 276,
   "id": "ef179c1d-de00-4f24-a743-4e0f1343030f",
   "metadata": {},
   "outputs": [],
   "source": [
    "all_current_items = copy.deepcopy(starting_items)\n",
    "inspection_track = [list() for x in range(0,len(m_ind))]\n",
    "\n",
    "for r in range(0,20):\n",
    "    for monkey in m_ind:\n",
    "        current_items = all_current_items[int(monkey)].copy()\n",
    "        for item in current_items:\n",
    "            inspection_track[monkey].append(item)\n",
    "            old = int(item)\n",
    "            new = np.floor(eval(operation[monkey])/3)\n",
    "            test_result = new % int(test[monkey]) == 0\n",
    "            all_current_items[monkey].pop(0)\n",
    "            if test_result:\n",
    "                all_current_items[int(ifT[monkey])].append(new)\n",
    "            else:\n",
    "                all_current_items[int(ifF[monkey])].append(new)"
   ]
  },
  {
   "cell_type": "code",
   "execution_count": 277,
   "id": "8980278c-7449-4bc4-8630-e894764d4c8a",
   "metadata": {},
   "outputs": [],
   "source": [
    "inspect_sum=[len(x) for x in inspection_track]"
   ]
  },
  {
   "cell_type": "code",
   "execution_count": 278,
   "id": "d4991746-a82d-48b8-8b5c-295833bd78a2",
   "metadata": {},
   "outputs": [
    {
     "data": {
      "text/plain": [
       "[101, 95, 7, 105]"
      ]
     },
     "execution_count": 278,
     "metadata": {},
     "output_type": "execute_result"
    }
   ],
   "source": [
    "inspect_sum"
   ]
  },
  {
   "cell_type": "code",
   "execution_count": 279,
   "id": "52e145d5-7f15-4f47-910d-9d77d7e031f5",
   "metadata": {},
   "outputs": [],
   "source": [
    "inspect_sum = sorted(inspect_sum)"
   ]
  },
  {
   "cell_type": "code",
   "execution_count": 280,
   "id": "dcdb8601-9447-43ce-841f-45fc6e92911e",
   "metadata": {},
   "outputs": [
    {
     "data": {
      "text/plain": [
       "[7, 95, 101, 105]"
      ]
     },
     "execution_count": 280,
     "metadata": {},
     "output_type": "execute_result"
    }
   ],
   "source": [
    "inspect_sum"
   ]
  },
  {
   "cell_type": "code",
   "execution_count": 281,
   "id": "4a83456e-8451-4659-b2a2-7742fef4ee66",
   "metadata": {},
   "outputs": [
    {
     "data": {
      "text/plain": [
       "10605"
      ]
     },
     "execution_count": 281,
     "metadata": {},
     "output_type": "execute_result"
    }
   ],
   "source": [
    "inspect_sum[-1] * inspect_sum[-2]"
   ]
  },
  {
   "cell_type": "code",
   "execution_count": 282,
   "id": "6612b725-daf9-41d5-9387-c75a4b83d79c",
   "metadata": {},
   "outputs": [
    {
     "data": {
      "text/html": [
       "<div>\n",
       "<style scoped>\n",
       "    .dataframe tbody tr th:only-of-type {\n",
       "        vertical-align: middle;\n",
       "    }\n",
       "\n",
       "    .dataframe tbody tr th {\n",
       "        vertical-align: top;\n",
       "    }\n",
       "\n",
       "    .dataframe thead th {\n",
       "        text-align: right;\n",
       "    }\n",
       "</style>\n",
       "<table border=\"1\" class=\"dataframe\">\n",
       "  <thead>\n",
       "    <tr style=\"text-align: right;\">\n",
       "      <th></th>\n",
       "      <th>0</th>\n",
       "      <th>1</th>\n",
       "      <th>2</th>\n",
       "      <th>3</th>\n",
       "      <th>4</th>\n",
       "      <th>5</th>\n",
       "      <th>6</th>\n",
       "      <th>7</th>\n",
       "      <th>8</th>\n",
       "      <th>9</th>\n",
       "      <th>...</th>\n",
       "      <th>95</th>\n",
       "      <th>96</th>\n",
       "      <th>97</th>\n",
       "      <th>98</th>\n",
       "      <th>99</th>\n",
       "      <th>100</th>\n",
       "      <th>101</th>\n",
       "      <th>102</th>\n",
       "      <th>103</th>\n",
       "      <th>104</th>\n",
       "    </tr>\n",
       "  </thead>\n",
       "  <tbody>\n",
       "    <tr>\n",
       "      <th>0</th>\n",
       "      <td>79</td>\n",
       "      <td>98</td>\n",
       "      <td>20.0</td>\n",
       "      <td>23.0</td>\n",
       "      <td>27.0</td>\n",
       "      <td>26.0</td>\n",
       "      <td>695.0</td>\n",
       "      <td>10.0</td>\n",
       "      <td>71.0</td>\n",
       "      <td>135.0</td>\n",
       "      <td>...</td>\n",
       "      <td>116.0</td>\n",
       "      <td>44.0</td>\n",
       "      <td>25.0</td>\n",
       "      <td>94.0</td>\n",
       "      <td>16.0</td>\n",
       "      <td>54.0</td>\n",
       "      <td>NaN</td>\n",
       "      <td>NaN</td>\n",
       "      <td>NaN</td>\n",
       "      <td>NaN</td>\n",
       "    </tr>\n",
       "    <tr>\n",
       "      <th>1</th>\n",
       "      <td>54</td>\n",
       "      <td>65</td>\n",
       "      <td>75</td>\n",
       "      <td>74</td>\n",
       "      <td>2080.0</td>\n",
       "      <td>25.0</td>\n",
       "      <td>167.0</td>\n",
       "      <td>207.0</td>\n",
       "      <td>401.0</td>\n",
       "      <td>1046.0</td>\n",
       "      <td>...</td>\n",
       "      <td>NaN</td>\n",
       "      <td>NaN</td>\n",
       "      <td>NaN</td>\n",
       "      <td>NaN</td>\n",
       "      <td>NaN</td>\n",
       "      <td>NaN</td>\n",
       "      <td>NaN</td>\n",
       "      <td>NaN</td>\n",
       "      <td>NaN</td>\n",
       "      <td>NaN</td>\n",
       "    </tr>\n",
       "    <tr>\n",
       "      <th>2</th>\n",
       "      <td>79</td>\n",
       "      <td>60</td>\n",
       "      <td>97</td>\n",
       "      <td>57.0</td>\n",
       "      <td>38.0</td>\n",
       "      <td>38.0</td>\n",
       "      <td>38.0</td>\n",
       "      <td>NaN</td>\n",
       "      <td>NaN</td>\n",
       "      <td>NaN</td>\n",
       "      <td>...</td>\n",
       "      <td>NaN</td>\n",
       "      <td>NaN</td>\n",
       "      <td>NaN</td>\n",
       "      <td>NaN</td>\n",
       "      <td>NaN</td>\n",
       "      <td>NaN</td>\n",
       "      <td>NaN</td>\n",
       "      <td>NaN</td>\n",
       "      <td>NaN</td>\n",
       "      <td>NaN</td>\n",
       "    </tr>\n",
       "    <tr>\n",
       "      <th>3</th>\n",
       "      <td>74</td>\n",
       "      <td>500.0</td>\n",
       "      <td>620.0</td>\n",
       "      <td>1200.0</td>\n",
       "      <td>3136.0</td>\n",
       "      <td>126.0</td>\n",
       "      <td>145.0</td>\n",
       "      <td>171.0</td>\n",
       "      <td>164.0</td>\n",
       "      <td>1083.0</td>\n",
       "      <td>...</td>\n",
       "      <td>76.0</td>\n",
       "      <td>88.0</td>\n",
       "      <td>107.0</td>\n",
       "      <td>215.0</td>\n",
       "      <td>734.0</td>\n",
       "      <td>278.0</td>\n",
       "      <td>158.0</td>\n",
       "      <td>595.0</td>\n",
       "      <td>101.0</td>\n",
       "      <td>342.0</td>\n",
       "    </tr>\n",
       "  </tbody>\n",
       "</table>\n",
       "<p>4 rows × 105 columns</p>\n",
       "</div>"
      ],
      "text/plain": [
       "  0      1      2       3       4      5      6      7      8       9    ...  \\\n",
       "0  79     98   20.0    23.0    27.0   26.0  695.0   10.0   71.0   135.0  ...   \n",
       "1  54     65     75      74  2080.0   25.0  167.0  207.0  401.0  1046.0  ...   \n",
       "2  79     60     97    57.0    38.0   38.0   38.0    NaN    NaN     NaN  ...   \n",
       "3  74  500.0  620.0  1200.0  3136.0  126.0  145.0  171.0  164.0  1083.0  ...   \n",
       "\n",
       "     95    96     97     98     99     100    101    102    103    104  \n",
       "0  116.0  44.0   25.0   94.0   16.0   54.0    NaN    NaN    NaN    NaN  \n",
       "1    NaN   NaN    NaN    NaN    NaN    NaN    NaN    NaN    NaN    NaN  \n",
       "2    NaN   NaN    NaN    NaN    NaN    NaN    NaN    NaN    NaN    NaN  \n",
       "3   76.0  88.0  107.0  215.0  734.0  278.0  158.0  595.0  101.0  342.0  \n",
       "\n",
       "[4 rows x 105 columns]"
      ]
     },
     "execution_count": 282,
     "metadata": {},
     "output_type": "execute_result"
    }
   ],
   "source": [
    "pd.DataFrame(inspection_track)"
   ]
  },
  {
   "cell_type": "markdown",
   "id": "ad6d9fd8-9666-4234-a8f9-b630d458070d",
   "metadata": {},
   "source": [
    "## Part 2"
   ]
  },
  {
   "cell_type": "code",
   "execution_count": 283,
   "id": "7e1f10da-2d3e-4b7a-83ce-ace23e87037d",
   "metadata": {},
   "outputs": [],
   "source": [
    "class Item:\n",
    "    def __init__(self, worry, item_index, current_monkey, current_round):\n",
    "        self.worry = worry\n",
    "        self.item_index = item_index\n",
    "        self.monkey_list = [(current_round, current_monkey)]\n",
    "        \n",
    "    def pass_it(self, current_round, next_monkey):\n",
    "        self.monkey_list.append((current_round, next_monkey))"
   ]
  },
  {
   "cell_type": "code",
   "execution_count": 284,
   "id": "c2bd585c-7991-479f-89d1-ce0d541550ae",
   "metadata": {},
   "outputs": [],
   "source": [
    "all_current_items = copy.deepcopy(starting_items)\n",
    "item_index = 0\n",
    "all_current_its = [list() for x in m_ind]\n",
    "for monkeyn, inv in enumerate(all_current_items):\n",
    "    for it in inv:\n",
    "        all_current_its[monkeyn].append(Item(int(it), item_index, monkeyn, 1))\n",
    "        item_index += 1"
   ]
  },
  {
   "cell_type": "code",
   "execution_count": null,
   "id": "dba67446-b542-4916-9fcb-b2d56affbae5",
   "metadata": {},
   "outputs": [],
   "source": [
    "all_current_items = copy.deepcopy(starting_items)\n",
    "item_index = 0\n",
    "all_current_its = [list() for x in m_ind]\n",
    "for monkeyn, inv in enumerate(all_current_items):\n",
    "    for it in inv:\n",
    "        all_current_its[monkeyn].append(Item(int(it), item_index, monkeyn, 1))\n",
    "        item_index += 1\n",
    "        \n",
    "inspection_track = [list() for x in range(0,len(m_ind))]\n",
    "\n",
    "for r in range(0,400):\n",
    "    for monkey in m_ind:\n",
    "        current_items = all_current_its[int(monkey)].copy()\n",
    "        for item in current_items:\n",
    "            inspection_track[monkey].append(item)\n",
    "            old = int(item.worry)\n",
    "            new = eval(operation[monkey])\n",
    "            item.worry = new\n",
    "            test_result = new % int(test[monkey]) == 0\n",
    "            all_current_its[monkey].pop(0)\n",
    "            if test_result:\n",
    "                item.pass_it(r+1, int(ifT[monkey]))\n",
    "                all_current_its[int(ifT[monkey])].append(item)\n",
    "            else:\n",
    "                item.pass_it(r+1, int(ifF[monkey]))\n",
    "                all_current_its[int(ifF[monkey])].append(item)"
   ]
  },
  {
   "cell_type": "code",
   "execution_count": 308,
   "id": "ed4246c3-a6dc-40af-a13b-5396a9fb9d4d",
   "metadata": {},
   "outputs": [
    {
     "data": {
      "text/plain": [
       "3"
      ]
     },
     "execution_count": 308,
     "metadata": {},
     "output_type": "execute_result"
    }
   ],
   "source": [
    "cycle_sample=''.join([str(y) for x,y in all_current_its[0][0].monkey_list])\n",
    "cycle_obj=re.finditer(cycle_sample[:3], cycle_sample)\n",
    "pattern_starts = [m.start(0) for m in cycle_obj]\n",
    "pattern_length = pattern_starts[1]-pattern_starts[0]\n",
    "pattern_length"
   ]
  },
  {
   "cell_type": "code",
   "execution_count": 311,
   "id": "a0748bdb-5f62-444d-8711-777f311e1acd",
   "metadata": {},
   "outputs": [
    {
     "data": {
      "text/plain": [
       "[<__main__.Item at 0x2aaaf34c6d00>,\n",
       " <__main__.Item at 0x2aaaf34c6bb0>,\n",
       " <__main__.Item at 0x2aaaf34c6940>,\n",
       " <__main__.Item at 0x2aaaf34c60a0>,\n",
       " <__main__.Item at 0x2aaaf34c68b0>]"
      ]
     },
     "execution_count": 311,
     "metadata": {},
     "output_type": "execute_result"
    }
   ],
   "source": [
    "its"
   ]
  },
  {
   "cell_type": "code",
   "execution_count": 320,
   "id": "1ef358eb-f0a0-4f62-a50b-7bc268a396a4",
   "metadata": {},
   "outputs": [
    {
     "name": "stdout",
     "output_type": "stream",
     "text": [
      "1031031031031031031031031031031031031031031031031031031031023103103103103103103103103103103103103103103103103103103103103103102310310310310303103103103103103031031031031031030310310310310310303103103103103103031031031031031030310310310310310303103103103102310310310310310310310310310310310310310310310310310\n",
      "> \u001b[0;32m/scratch/tmp/22879487.1.default.q/ipykernel_7423/86108198.py\u001b[0m(2)\u001b[0;36m<cell line: 1>\u001b[0;34m()\u001b[0m\n",
      "\u001b[0;32m      1 \u001b[0;31m\u001b[0;32mfor\u001b[0m \u001b[0minv\u001b[0m \u001b[0;32min\u001b[0m \u001b[0mall_current_its\u001b[0m\u001b[0;34m:\u001b[0m\u001b[0;34m\u001b[0m\u001b[0;34m\u001b[0m\u001b[0m\n",
      "\u001b[0m\u001b[0;32m----> 2 \u001b[0;31m    \u001b[0;32mfor\u001b[0m \u001b[0mits\u001b[0m \u001b[0;32min\u001b[0m \u001b[0minv\u001b[0m\u001b[0;34m:\u001b[0m\u001b[0;34m\u001b[0m\u001b[0;34m\u001b[0m\u001b[0m\n",
      "\u001b[0m\u001b[0;32m      3 \u001b[0;31m        \u001b[0mcycle_sample\u001b[0m \u001b[0;34m=\u001b[0m \u001b[0;34m''\u001b[0m\u001b[0;34m.\u001b[0m\u001b[0mjoin\u001b[0m\u001b[0;34m(\u001b[0m\u001b[0;34m[\u001b[0m\u001b[0mstr\u001b[0m\u001b[0;34m(\u001b[0m\u001b[0my\u001b[0m\u001b[0;34m)\u001b[0m \u001b[0;32mfor\u001b[0m \u001b[0mx\u001b[0m\u001b[0;34m,\u001b[0m\u001b[0my\u001b[0m \u001b[0;32min\u001b[0m \u001b[0mits\u001b[0m\u001b[0;34m.\u001b[0m\u001b[0mmonkey_list\u001b[0m\u001b[0;34m]\u001b[0m\u001b[0;34m)\u001b[0m\u001b[0;34m\u001b[0m\u001b[0;34m\u001b[0m\u001b[0m\n",
      "\u001b[0m\u001b[0;32m      4 \u001b[0;31m        \u001b[0mprint\u001b[0m\u001b[0;34m(\u001b[0m\u001b[0mcycle_sample\u001b[0m\u001b[0;34m)\u001b[0m\u001b[0;34m\u001b[0m\u001b[0;34m\u001b[0m\u001b[0m\n",
      "\u001b[0m\u001b[0;32m      5 \u001b[0;31m        \u001b[0;32mfor\u001b[0m \u001b[0mtlen\u001b[0m \u001b[0;32min\u001b[0m \u001b[0mrange\u001b[0m\u001b[0;34m(\u001b[0m\u001b[0;36m3\u001b[0m\u001b[0;34m,\u001b[0m\u001b[0;36m100\u001b[0m\u001b[0;34m)\u001b[0m\u001b[0;34m:\u001b[0m\u001b[0;34m\u001b[0m\u001b[0;34m\u001b[0m\u001b[0m\n",
      "\u001b[0m\n"
     ]
    },
    {
     "name": "stdin",
     "output_type": "stream",
     "text": [
      "ipdb>  its\n"
     ]
    },
    {
     "name": "stdout",
     "output_type": "stream",
     "text": [
      "<__main__.Item object at 0x2aaaf2ef6040>\n"
     ]
    },
    {
     "name": "stdin",
     "output_type": "stream",
     "text": [
      "ipdb>  its.cycle_length\n"
     ]
    },
    {
     "name": "stdout",
     "output_type": "stream",
     "text": [
      "67\n"
     ]
    },
    {
     "name": "stdin",
     "output_type": "stream",
     "text": [
      "ipdb>  exit\n"
     ]
    }
   ],
   "source": [
    "for inv in all_current_its:\n",
    "    for its in inv:\n",
    "        cycle_sample = ''.join([str(y) for x,y in its.monkey_list])\n",
    "        print(cycle_sample)\n",
    "        for tlen in range(3,200):\n",
    "            cycle_obj=re.finditer(cycle_sample[:tlen], cycle_sample)\n",
    "            pattern_starts = [m.start(0) for m in cycle_obj]\n",
    "            pattern_length = pattern_starts[1]-pattern_starts[0]\n",
    "            if all([x%tlen == 0 for x in pattern_starts]):\n",
    "                its.cycle_length = tlen\n",
    "                break\n",
    "            else:\n",
    "                continue\n",
    "            print(pattern_length)\n",
    "        pdb.set_trace()"
   ]
  },
  {
   "cell_type": "code",
   "execution_count": null,
   "id": "aeeb7266-02b2-4f69-8503-0818452989d0",
   "metadata": {},
   "outputs": [],
   "source": [
    "inspect_sum=[len(x) for x in inspection_track]"
   ]
  },
  {
   "cell_type": "code",
   "execution_count": null,
   "id": "258e4023-2464-42a1-938f-19bc9574030d",
   "metadata": {},
   "outputs": [],
   "source": [
    "inspect_sum = sorted(inspect_sum)"
   ]
  },
  {
   "cell_type": "code",
   "execution_count": null,
   "id": "fbd48b93-7d00-4996-a182-39cdfac4b93a",
   "metadata": {},
   "outputs": [],
   "source": [
    "inspect_sum[-1] * inspect_sum[-2]"
   ]
  },
  {
   "cell_type": "code",
   "execution_count": null,
   "id": "b29843ab-2a3d-4b63-b016-da4afc175866",
   "metadata": {},
   "outputs": [],
   "source": []
  }
 ],
 "metadata": {
  "kernelspec": {
   "display_name": "cuda11_torch",
   "language": "python",
   "name": "cuda11_torch"
  },
  "language_info": {
   "codemirror_mode": {
    "name": "ipython",
    "version": 3
   },
   "file_extension": ".py",
   "mimetype": "text/x-python",
   "name": "python",
   "nbconvert_exporter": "python",
   "pygments_lexer": "ipython3",
   "version": "3.9.13"
  }
 },
 "nbformat": 4,
 "nbformat_minor": 5
}
