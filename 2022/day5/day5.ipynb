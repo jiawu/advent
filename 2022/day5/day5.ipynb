{
 "cells": [
  {
   "cell_type": "code",
   "execution_count": 24,
   "id": "5c68e461-19e5-4bb5-bab8-918be2b78122",
   "metadata": {},
   "outputs": [],
   "source": [
    "import pandas as pd\n",
    "import numpy as np\n",
    "import re"
   ]
  },
  {
   "cell_type": "code",
   "execution_count": 12,
   "id": "e1a9388f-7500-4a22-b4ce-e33d27328d22",
   "metadata": {},
   "outputs": [],
   "source": [
    "with open('input.txt') as fin:\n",
    "    instructions=fin.readlines()"
   ]
  },
  {
   "cell_type": "code",
   "execution_count": 13,
   "id": "c753dfa2-b3af-4437-b4e7-16989bd05545",
   "metadata": {},
   "outputs": [],
   "source": [
    "instructions_p = instructions[10:]"
   ]
  },
  {
   "cell_type": "code",
   "execution_count": 14,
   "id": "99bb14a8-8219-4bd7-8e9b-b5d46f826886",
   "metadata": {},
   "outputs": [],
   "source": [
    "instructions_p = [x.strip() for x in instructions_p]"
   ]
  },
  {
   "cell_type": "code",
   "execution_count": 65,
   "id": "60cf6e7d-dbde-4741-af4e-d6fbc92d6cd4",
   "metadata": {},
   "outputs": [],
   "source": [
    "stacks = []\n",
    "stacks.append(['NRGP'])\n",
    "stacks.append(['JTBLFGDC'])\n",
    "stacks.append(['MSV'])\n",
    "stacks.append(['LSRCZP'])\n",
    "stacks.append(['PSLVCWDQ'])\n",
    "stacks.append(['CTNWDMS'])\n",
    "stacks.append(['HDGWP'])\n",
    "stacks.append(['ZLPHSCMV'])\n",
    "stacks.append(['RPFLWGZ'])"
   ]
  },
  {
   "cell_type": "code",
   "execution_count": 67,
   "id": "e4c4000f-4fac-4599-bdad-c556c0701a92",
   "metadata": {},
   "outputs": [],
   "source": [
    "stacks = [list(*x) for x in stacks]"
   ]
  },
  {
   "cell_type": "code",
   "execution_count": 62,
   "id": "13845afd-8693-4c97-8770-eb49c6baf16a",
   "metadata": {},
   "outputs": [
    {
     "data": {
      "text/plain": [
       "[['N', 'R', 'G', 'P'],\n",
       " ['J', 'T', 'B', 'L', 'F', 'G', 'D', 'C'],\n",
       " ['M', 'S', 'V'],\n",
       " ['L', 'S', 'R', 'C', 'Z', 'P'],\n",
       " ['P', 'S', 'L', 'V', 'C', 'W', 'D', 'Q'],\n",
       " ['C', 'T', 'N', 'W', 'D', 'M', 'S'],\n",
       " ['H', 'D', 'G', 'W', 'P'],\n",
       " ['Z', 'L', 'P', 'H', 'S', 'C', 'M', 'V'],\n",
       " ['R', 'P', 'F', 'L', 'W', 'G', 'Z']]"
      ]
     },
     "execution_count": 62,
     "metadata": {},
     "output_type": "execute_result"
    }
   ],
   "source": [
    "stacks"
   ]
  },
  {
   "cell_type": "code",
   "execution_count": 48,
   "id": "04517696-9511-4852-a4f5-f2c66b694463",
   "metadata": {},
   "outputs": [
    {
     "data": {
      "text/plain": [
       "['    [C]         [Q]         [V]    \\n',\n",
       " '    [D]         [D] [S]     [M] [Z]\\n',\n",
       " '    [G]     [P] [W] [M]     [C] [G]\\n',\n",
       " '    [F]     [Z] [C] [D] [P] [S] [W]\\n',\n",
       " '[P] [L]     [C] [V] [W] [W] [H] [L]\\n',\n",
       " '[G] [B] [V] [R] [L] [N] [G] [P] [F]\\n',\n",
       " '[R] [T] [S] [S] [S] [T] [D] [L] [P]\\n',\n",
       " '[N] [J] [M] [L] [P] [C] [H] [Z] [R]\\n',\n",
       " ' 1   2   3   4   5   6   7   8   9 \\n']"
      ]
     },
     "execution_count": 48,
     "metadata": {},
     "output_type": "execute_result"
    }
   ],
   "source": [
    "instructions[0:9]"
   ]
  },
  {
   "cell_type": "code",
   "execution_count": 68,
   "id": "28b1e24f-21f6-478c-a902-4f8c28f2b6f0",
   "metadata": {},
   "outputs": [],
   "source": [
    "for line in instructions_p:\n",
    "    #print(line)\n",
    "    match = re.search('move (\\d+) from', line)\n",
    "    move_box = int(match[1])\n",
    "    box_1 = re.search('from (\\d+) to', line)\n",
    "    box_1ind = int(box_1[1])-1\n",
    "    box_2 = re.search('to (\\d+)', line)\n",
    "    box_2ind = int(box_2[1])-1\n",
    "    #print(box_1ind)\n",
    "    #print(box_2ind)\n",
    "    for x in range(0,move_box):\n",
    "        stacks[box_2ind].append(stacks[box_1ind].pop())"
   ]
  },
  {
   "cell_type": "code",
   "execution_count": 69,
   "id": "e591cada-8273-4d0b-b658-69ea241aab70",
   "metadata": {},
   "outputs": [
    {
     "data": {
      "text/plain": [
       "[['L',\n",
       "  'S',\n",
       "  'T',\n",
       "  'C',\n",
       "  'S',\n",
       "  'R',\n",
       "  'Z',\n",
       "  'Z',\n",
       "  'P',\n",
       "  'F',\n",
       "  'D',\n",
       "  'S',\n",
       "  'W',\n",
       "  'P',\n",
       "  'N',\n",
       "  'D',\n",
       "  'P',\n",
       "  'M',\n",
       "  'G',\n",
       "  'R',\n",
       "  'R',\n",
       "  'V',\n",
       "  'V'],\n",
       " ['P', 'G', 'H', 'P'],\n",
       " ['W', 'P', 'C'],\n",
       " ['L', 'D', 'L', 'B', 'T', 'C', 'H', 'Q', 'D'],\n",
       " ['C', 'W', 'F', 'L', 'V', 'N', 'M'],\n",
       " ['M', 'S', 'S'],\n",
       " ['L'],\n",
       " ['G', 'W'],\n",
       " ['G', 'C', 'Z', 'J']]"
      ]
     },
     "execution_count": 69,
     "metadata": {},
     "output_type": "execute_result"
    }
   ],
   "source": [
    "stacks"
   ]
  },
  {
   "cell_type": "code",
   "execution_count": 112,
   "id": "77bf995f-12eb-46e2-af30-5b403e6de673",
   "metadata": {},
   "outputs": [],
   "source": [
    "stacks = []\n",
    "stacks.append(['NRGP'])\n",
    "stacks.append(['JTBLFGDC'])\n",
    "stacks.append(['MSV'])\n",
    "stacks.append(['LSRCZP'])\n",
    "stacks.append(['PSLVCWDQ'])\n",
    "stacks.append(['CTNWDMS'])\n",
    "stacks.append(['HDGWP'])\n",
    "stacks.append(['ZLPHSCMV'])\n",
    "stacks.append(['RPFLWGZ'])\n",
    "stacks = [list(*x) for x in stacks]"
   ]
  },
  {
   "cell_type": "code",
   "execution_count": 113,
   "id": "60068373-727b-45b9-a892-d8bd2c984ca4",
   "metadata": {},
   "outputs": [
    {
     "data": {
      "text/plain": [
       "'move 2 from 4 to 6'"
      ]
     },
     "execution_count": 113,
     "metadata": {},
     "output_type": "execute_result"
    }
   ],
   "source": [
    "instructions_p[0]"
   ]
  },
  {
   "cell_type": "code",
   "execution_count": 114,
   "id": "2380c2cc-07c8-41b3-b6d4-1824ccab70c9",
   "metadata": {},
   "outputs": [
    {
     "data": {
      "text/plain": [
       "[['N', 'R', 'G', 'P'],\n",
       " ['J', 'T', 'B', 'L', 'F', 'G', 'D', 'C'],\n",
       " ['M', 'S', 'V'],\n",
       " ['L', 'S', 'R', 'C', 'Z', 'P'],\n",
       " ['P', 'S', 'L', 'V', 'C', 'W', 'D', 'Q'],\n",
       " ['C', 'T', 'N', 'W', 'D', 'M', 'S'],\n",
       " ['H', 'D', 'G', 'W', 'P'],\n",
       " ['Z', 'L', 'P', 'H', 'S', 'C', 'M', 'V'],\n",
       " ['R', 'P', 'F', 'L', 'W', 'G', 'Z']]"
      ]
     },
     "execution_count": 114,
     "metadata": {},
     "output_type": "execute_result"
    }
   ],
   "source": [
    "stacks"
   ]
  },
  {
   "cell_type": "code",
   "execution_count": 85,
   "id": "30b77410-49a6-41c6-b73d-d8c7eb1c75cf",
   "metadata": {},
   "outputs": [
    {
     "data": {
      "text/plain": [
       "['NRGP']"
      ]
     },
     "execution_count": 85,
     "metadata": {},
     "output_type": "execute_result"
    }
   ],
   "source": [
    "stacks[0]"
   ]
  },
  {
   "cell_type": "code",
   "execution_count": 86,
   "id": "2ab85414-085f-482e-801c-51b92b95afd0",
   "metadata": {},
   "outputs": [
    {
     "data": {
      "text/plain": [
       "['NRGP']"
      ]
     },
     "execution_count": 86,
     "metadata": {},
     "output_type": "execute_result"
    }
   ],
   "source": [
    "stacks[0]"
   ]
  },
  {
   "cell_type": "code",
   "execution_count": 116,
   "id": "6a81d081-0921-49eb-9cd9-8cc03dfe2e64",
   "metadata": {},
   "outputs": [],
   "source": [
    "for line in instructions_p:\n",
    "    #print(line)\n",
    "    match = re.search('move (\\d+) from', line)\n",
    "    move_box = int(match[1])\n",
    "    box_1 = re.search('from (\\d+) to', line)\n",
    "    box_1ind = int(box_1[1])-1\n",
    "    box_2 = re.search('to (\\d+)', line)\n",
    "    box_2ind = int(box_2[1])-1\n",
    "    #print(box_1ind)\n",
    "    #print(box_2ind)\n",
    "    moved = stacks[box_1ind][-move_box:]\n",
    "    stacks[box_2ind].extend(moved)\n",
    "    del stacks[box_1ind][-move_box:]"
   ]
  },
  {
   "cell_type": "code",
   "execution_count": 117,
   "id": "4e5b0f41-c7f4-4472-ae7e-39db92e804de",
   "metadata": {},
   "outputs": [
    {
     "data": {
      "text/plain": [
       "[['F',\n",
       "  'W',\n",
       "  'P',\n",
       "  'D',\n",
       "  'P',\n",
       "  'H',\n",
       "  'L',\n",
       "  'G',\n",
       "  'J',\n",
       "  'D',\n",
       "  'C',\n",
       "  'S',\n",
       "  'G',\n",
       "  'N',\n",
       "  'V',\n",
       "  'T',\n",
       "  'S',\n",
       "  'M',\n",
       "  'Q',\n",
       "  'V',\n",
       "  'S',\n",
       "  'C',\n",
       "  'T'],\n",
       " ['R', 'P', 'L', 'P'],\n",
       " ['H', 'P', 'W'],\n",
       " ['Z', 'P', 'L', 'L', 'S', 'M', 'B', 'V', 'C'],\n",
       " ['S', 'L', 'Z', 'F', 'Z', 'R', 'G'],\n",
       " ['W', 'R', 'N'],\n",
       " ['C'],\n",
       " ['D', 'C'],\n",
       " ['W', 'M', 'D', 'G']]"
      ]
     },
     "execution_count": 117,
     "metadata": {},
     "output_type": "execute_result"
    }
   ],
   "source": [
    "stacks"
   ]
  },
  {
   "cell_type": "code",
   "execution_count": null,
   "id": "04ef8d59-5c8b-4614-8403-f1ec3a0d2b89",
   "metadata": {},
   "outputs": [],
   "source": []
  }
 ],
 "metadata": {
  "kernelspec": {
   "display_name": "cuda11_torch",
   "language": "python",
   "name": "cuda11_torch"
  },
  "language_info": {
   "codemirror_mode": {
    "name": "ipython",
    "version": 3
   },
   "file_extension": ".py",
   "mimetype": "text/x-python",
   "name": "python",
   "nbconvert_exporter": "python",
   "pygments_lexer": "ipython3",
   "version": "3.9.13"
  }
 },
 "nbformat": 4,
 "nbformat_minor": 5
}
