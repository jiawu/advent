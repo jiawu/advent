{
 "cells": [
  {
   "cell_type": "code",
   "execution_count": 427,
   "id": "70776fa5-3c80-49f0-81d0-264e8d6dc262",
   "metadata": {},
   "outputs": [],
   "source": [
    "from math import inf\n",
    "from os import path, sep\n",
    "from collections import defaultdict\n",
    "import pandas as pd\n",
    "import numpy as np\n",
    "import pdb\n",
    "import re"
   ]
  },
  {
   "cell_type": "code",
   "execution_count": 6,
   "id": "ed3c80c1-a9fe-442b-8739-0f25552db34c",
   "metadata": {},
   "outputs": [],
   "source": [
    "df = pd.read_csv('input.txt', header=None)"
   ]
  },
  {
   "cell_type": "code",
   "execution_count": 8,
   "id": "3301b06f-c7ef-4934-9a1d-9f6a98f4fec7",
   "metadata": {},
   "outputs": [],
   "source": [
    "df.columns = ['command']"
   ]
  },
  {
   "cell_type": "code",
   "execution_count": 73,
   "id": "7cebf406-20a2-4622-b846-e8cb203e5da5",
   "metadata": {},
   "outputs": [
    {
     "data": {
      "text/html": [
       "<div>\n",
       "<style scoped>\n",
       "    .dataframe tbody tr th:only-of-type {\n",
       "        vertical-align: middle;\n",
       "    }\n",
       "\n",
       "    .dataframe tbody tr th {\n",
       "        vertical-align: top;\n",
       "    }\n",
       "\n",
       "    .dataframe thead th {\n",
       "        text-align: right;\n",
       "    }\n",
       "</style>\n",
       "<table border=\"1\" class=\"dataframe\">\n",
       "  <thead>\n",
       "    <tr style=\"text-align: right;\">\n",
       "      <th></th>\n",
       "      <th>command</th>\n",
       "    </tr>\n",
       "  </thead>\n",
       "  <tbody>\n",
       "    <tr>\n",
       "      <th>0</th>\n",
       "      <td>$ cd /</td>\n",
       "    </tr>\n",
       "    <tr>\n",
       "      <th>1</th>\n",
       "      <td>$ ls</td>\n",
       "    </tr>\n",
       "    <tr>\n",
       "      <th>2</th>\n",
       "      <td>dir dfmhjhd</td>\n",
       "    </tr>\n",
       "    <tr>\n",
       "      <th>3</th>\n",
       "      <td>307728 ghpqs</td>\n",
       "    </tr>\n",
       "    <tr>\n",
       "      <th>4</th>\n",
       "      <td>dir hztjntff</td>\n",
       "    </tr>\n",
       "    <tr>\n",
       "      <th>...</th>\n",
       "      <td>...</td>\n",
       "    </tr>\n",
       "    <tr>\n",
       "      <th>1042</th>\n",
       "      <td>$ cd ..</td>\n",
       "    </tr>\n",
       "    <tr>\n",
       "      <th>1043</th>\n",
       "      <td>$ cd wrmm</td>\n",
       "    </tr>\n",
       "    <tr>\n",
       "      <th>1044</th>\n",
       "      <td>$ ls</td>\n",
       "    </tr>\n",
       "    <tr>\n",
       "      <th>1045</th>\n",
       "      <td>212937 frcqrdm</td>\n",
       "    </tr>\n",
       "    <tr>\n",
       "      <th>1046</th>\n",
       "      <td>153487 zjnll.zjl</td>\n",
       "    </tr>\n",
       "  </tbody>\n",
       "</table>\n",
       "<p>1047 rows × 1 columns</p>\n",
       "</div>"
      ],
      "text/plain": [
       "               command\n",
       "0               $ cd /\n",
       "1                 $ ls\n",
       "2          dir dfmhjhd\n",
       "3         307728 ghpqs\n",
       "4         dir hztjntff\n",
       "...                ...\n",
       "1042           $ cd ..\n",
       "1043         $ cd wrmm\n",
       "1044              $ ls\n",
       "1045    212937 frcqrdm\n",
       "1046  153487 zjnll.zjl\n",
       "\n",
       "[1047 rows x 1 columns]"
      ]
     },
     "execution_count": 73,
     "metadata": {},
     "output_type": "execute_result"
    }
   ],
   "source": [
    "df"
   ]
  },
  {
   "cell_type": "code",
   "execution_count": 12,
   "id": "5df2b98e-a46e-4d33-8c77-0b190d69653f",
   "metadata": {},
   "outputs": [],
   "source": [
    "nav_df = df[df['command'].str.startswith('$ cd')]"
   ]
  },
  {
   "cell_type": "code",
   "execution_count": 21,
   "id": "917d1323-a3cb-4002-975c-114d2a4b731f",
   "metadata": {},
   "outputs": [
    {
     "data": {
      "text/html": [
       "<div>\n",
       "<style scoped>\n",
       "    .dataframe tbody tr th:only-of-type {\n",
       "        vertical-align: middle;\n",
       "    }\n",
       "\n",
       "    .dataframe tbody tr th {\n",
       "        vertical-align: top;\n",
       "    }\n",
       "\n",
       "    .dataframe thead th {\n",
       "        text-align: right;\n",
       "    }\n",
       "</style>\n",
       "<table border=\"1\" class=\"dataframe\">\n",
       "  <thead>\n",
       "    <tr style=\"text-align: right;\">\n",
       "      <th></th>\n",
       "      <th>command</th>\n",
       "    </tr>\n",
       "  </thead>\n",
       "  <tbody>\n",
       "    <tr>\n",
       "      <th>13</th>\n",
       "      <td>$ cd ..</td>\n",
       "    </tr>\n",
       "    <tr>\n",
       "      <th>31</th>\n",
       "      <td>$ cd ..</td>\n",
       "    </tr>\n",
       "    <tr>\n",
       "      <th>32</th>\n",
       "      <td>$ cd ..</td>\n",
       "    </tr>\n",
       "    <tr>\n",
       "      <th>36</th>\n",
       "      <td>$ cd ..</td>\n",
       "    </tr>\n",
       "    <tr>\n",
       "      <th>37</th>\n",
       "      <td>$ cd ..</td>\n",
       "    </tr>\n",
       "    <tr>\n",
       "      <th>...</th>\n",
       "      <td>...</td>\n",
       "    </tr>\n",
       "    <tr>\n",
       "      <th>1031</th>\n",
       "      <td>$ cd ..</td>\n",
       "    </tr>\n",
       "    <tr>\n",
       "      <th>1036</th>\n",
       "      <td>$ cd ..</td>\n",
       "    </tr>\n",
       "    <tr>\n",
       "      <th>1040</th>\n",
       "      <td>$ cd ..</td>\n",
       "    </tr>\n",
       "    <tr>\n",
       "      <th>1041</th>\n",
       "      <td>$ cd ..</td>\n",
       "    </tr>\n",
       "    <tr>\n",
       "      <th>1042</th>\n",
       "      <td>$ cd ..</td>\n",
       "    </tr>\n",
       "  </tbody>\n",
       "</table>\n",
       "<p>186 rows × 1 columns</p>\n",
       "</div>"
      ],
      "text/plain": [
       "      command\n",
       "13    $ cd ..\n",
       "31    $ cd ..\n",
       "32    $ cd ..\n",
       "36    $ cd ..\n",
       "37    $ cd ..\n",
       "...       ...\n",
       "1031  $ cd ..\n",
       "1036  $ cd ..\n",
       "1040  $ cd ..\n",
       "1041  $ cd ..\n",
       "1042  $ cd ..\n",
       "\n",
       "[186 rows x 1 columns]"
      ]
     },
     "execution_count": 21,
     "metadata": {},
     "output_type": "execute_result"
    }
   ],
   "source": [
    "nav_df[nav_df['command'].str.contains('\\.\\.')]"
   ]
  },
  {
   "cell_type": "code",
   "execution_count": 22,
   "id": "fcd7ea35-9230-4f81-89d7-e446897d32fc",
   "metadata": {},
   "outputs": [
    {
     "data": {
      "text/html": [
       "<div>\n",
       "<style scoped>\n",
       "    .dataframe tbody tr th:only-of-type {\n",
       "        vertical-align: middle;\n",
       "    }\n",
       "\n",
       "    .dataframe tbody tr th {\n",
       "        vertical-align: top;\n",
       "    }\n",
       "\n",
       "    .dataframe thead th {\n",
       "        text-align: right;\n",
       "    }\n",
       "</style>\n",
       "<table border=\"1\" class=\"dataframe\">\n",
       "  <thead>\n",
       "    <tr style=\"text-align: right;\">\n",
       "      <th></th>\n",
       "      <th>command</th>\n",
       "    </tr>\n",
       "  </thead>\n",
       "  <tbody>\n",
       "    <tr>\n",
       "      <th>0</th>\n",
       "      <td>$ cd /</td>\n",
       "    </tr>\n",
       "    <tr>\n",
       "      <th>9</th>\n",
       "      <td>$ cd dfmhjhd</td>\n",
       "    </tr>\n",
       "    <tr>\n",
       "      <th>13</th>\n",
       "      <td>$ cd ..</td>\n",
       "    </tr>\n",
       "    <tr>\n",
       "      <th>14</th>\n",
       "      <td>$ cd hztjntff</td>\n",
       "    </tr>\n",
       "    <tr>\n",
       "      <th>22</th>\n",
       "      <td>$ cd cwsf</td>\n",
       "    </tr>\n",
       "    <tr>\n",
       "      <th>...</th>\n",
       "      <td>...</td>\n",
       "    </tr>\n",
       "    <tr>\n",
       "      <th>1037</th>\n",
       "      <td>$ cd vdqmtjw</td>\n",
       "    </tr>\n",
       "    <tr>\n",
       "      <th>1040</th>\n",
       "      <td>$ cd ..</td>\n",
       "    </tr>\n",
       "    <tr>\n",
       "      <th>1041</th>\n",
       "      <td>$ cd ..</td>\n",
       "    </tr>\n",
       "    <tr>\n",
       "      <th>1042</th>\n",
       "      <td>$ cd ..</td>\n",
       "    </tr>\n",
       "    <tr>\n",
       "      <th>1043</th>\n",
       "      <td>$ cd wrmm</td>\n",
       "    </tr>\n",
       "  </tbody>\n",
       "</table>\n",
       "<p>374 rows × 1 columns</p>\n",
       "</div>"
      ],
      "text/plain": [
       "            command\n",
       "0            $ cd /\n",
       "9      $ cd dfmhjhd\n",
       "13          $ cd ..\n",
       "14    $ cd hztjntff\n",
       "22        $ cd cwsf\n",
       "...             ...\n",
       "1037   $ cd vdqmtjw\n",
       "1040        $ cd ..\n",
       "1041        $ cd ..\n",
       "1042        $ cd ..\n",
       "1043      $ cd wrmm\n",
       "\n",
       "[374 rows x 1 columns]"
      ]
     },
     "execution_count": 22,
     "metadata": {},
     "output_type": "execute_result"
    }
   ],
   "source": [
    "nav_df"
   ]
  },
  {
   "cell_type": "code",
   "execution_count": 43,
   "id": "5578f9f6-0906-4482-9a6a-1b97d529efbd",
   "metadata": {},
   "outputs": [],
   "source": [
    "class folder:\n",
    "    def __init__(self, folder_name, parent_folder=None):\n",
    "        self.parent_folder = parent_folder\n",
    "        self.subfolders = {}\n",
    "        self.files = {}\n",
    "        self.folder_name = folder_name\n",
    "    "
   ]
  },
  {
   "cell_type": "code",
   "execution_count": 50,
   "id": "c0804209-4ea9-4ac6-9b97-dcae322652a0",
   "metadata": {},
   "outputs": [
    {
     "data": {
      "text/html": [
       "<div>\n",
       "<style scoped>\n",
       "    .dataframe tbody tr th:only-of-type {\n",
       "        vertical-align: middle;\n",
       "    }\n",
       "\n",
       "    .dataframe tbody tr th {\n",
       "        vertical-align: top;\n",
       "    }\n",
       "\n",
       "    .dataframe thead th {\n",
       "        text-align: right;\n",
       "    }\n",
       "</style>\n",
       "<table border=\"1\" class=\"dataframe\">\n",
       "  <thead>\n",
       "    <tr style=\"text-align: right;\">\n",
       "      <th></th>\n",
       "      <th>command</th>\n",
       "    </tr>\n",
       "  </thead>\n",
       "  <tbody>\n",
       "    <tr>\n",
       "      <th>9</th>\n",
       "      <td>$ cd dfmhjhd</td>\n",
       "    </tr>\n",
       "    <tr>\n",
       "      <th>13</th>\n",
       "      <td>$ cd ..</td>\n",
       "    </tr>\n",
       "    <tr>\n",
       "      <th>14</th>\n",
       "      <td>$ cd hztjntff</td>\n",
       "    </tr>\n",
       "    <tr>\n",
       "      <th>22</th>\n",
       "      <td>$ cd cwsf</td>\n",
       "    </tr>\n",
       "    <tr>\n",
       "      <th>28</th>\n",
       "      <td>$ cd msr</td>\n",
       "    </tr>\n",
       "    <tr>\n",
       "      <th>...</th>\n",
       "      <td>...</td>\n",
       "    </tr>\n",
       "    <tr>\n",
       "      <th>1037</th>\n",
       "      <td>$ cd vdqmtjw</td>\n",
       "    </tr>\n",
       "    <tr>\n",
       "      <th>1040</th>\n",
       "      <td>$ cd ..</td>\n",
       "    </tr>\n",
       "    <tr>\n",
       "      <th>1041</th>\n",
       "      <td>$ cd ..</td>\n",
       "    </tr>\n",
       "    <tr>\n",
       "      <th>1042</th>\n",
       "      <td>$ cd ..</td>\n",
       "    </tr>\n",
       "    <tr>\n",
       "      <th>1043</th>\n",
       "      <td>$ cd wrmm</td>\n",
       "    </tr>\n",
       "  </tbody>\n",
       "</table>\n",
       "<p>373 rows × 1 columns</p>\n",
       "</div>"
      ],
      "text/plain": [
       "            command\n",
       "9      $ cd dfmhjhd\n",
       "13          $ cd ..\n",
       "14    $ cd hztjntff\n",
       "22        $ cd cwsf\n",
       "28         $ cd msr\n",
       "...             ...\n",
       "1037   $ cd vdqmtjw\n",
       "1040        $ cd ..\n",
       "1041        $ cd ..\n",
       "1042        $ cd ..\n",
       "1043      $ cd wrmm\n",
       "\n",
       "[373 rows x 1 columns]"
      ]
     },
     "execution_count": 50,
     "metadata": {},
     "output_type": "execute_result"
    }
   ],
   "source": [
    "nav_df.iloc[1:]"
   ]
  },
  {
   "cell_type": "code",
   "execution_count": 142,
   "id": "64e929ec-bef5-4a8d-b6b4-d2b8c764ea01",
   "metadata": {},
   "outputs": [],
   "source": [
    "current_directory_level = 0\n",
    "fs = folder(folder_name = 'root', parent_folder=None)\n",
    "current_directory = fs\n",
    "\n",
    "all_folders = []\n",
    "\n",
    "for enum, row in df.iloc[1:].iterrows():\n",
    "    if (row['command'] == '$ ls') & (row['command'].startswith('dir ')):\n",
    "        continue\n",
    "    folder_name = re.search('cd (\\w+|..)', row['command'])\n",
    "    if folder_name:\n",
    "        folder_name = folder_name.groups()[0]\n",
    "        \n",
    "        if folder_name != '..':\n",
    "            current_directory.subfolders[folder_name] = folder(folder_name, parent_folder=current_directory)\n",
    "            current_directory = current_directory.subfolders[folder_name]\n",
    "            current_directory_level = current_directory_level+1\n",
    "            all_folders.append((current_directory.folder_name,current_directory, current_directory_level))\n",
    "            continue\n",
    "        else:\n",
    "            current_directory = current_directory.parent_folder\n",
    "            current_directory_level = current_directory_level-1\n",
    "            continue\n",
    "    file_info = re.search('(\\d+) ', row['command'])\n",
    "    if file_info:\n",
    "        current_directory.files[row['command'].split(' ')[1]]=int(row['command'].split(' ')[0])"
   ]
  },
  {
   "cell_type": "code",
   "execution_count": 145,
   "id": "439bb5dd-a920-47fe-9b57-7dc69691352a",
   "metadata": {},
   "outputs": [],
   "source": [
    "all_folders = pd.DataFrame(all_folders)"
   ]
  },
  {
   "cell_type": "code",
   "execution_count": 147,
   "id": "f9fcbe4f-4a4c-4dc0-8fdd-440a5ff4fdb9",
   "metadata": {},
   "outputs": [],
   "source": [
    "all_folders.columns = ['folder_name', 'folder_obj', 'depth']"
   ]
  },
  {
   "cell_type": "code",
   "execution_count": 155,
   "id": "2a23e51b-7588-49e3-a737-be516e71ade9",
   "metadata": {},
   "outputs": [],
   "source": [
    "has_children = []\n",
    "for enum, row in all_folders.iterrows():\n",
    "    if len(row['folder_obj'].subfolders) == 0:\n",
    "        has_children.append(False)\n",
    "    else:\n",
    "        has_children.append(True)"
   ]
  },
  {
   "cell_type": "code",
   "execution_count": 156,
   "id": "15b9837e-5d96-442c-b1fb-bc7a47a8efa8",
   "metadata": {},
   "outputs": [],
   "source": [
    "all_folders['has_children'] = has_children"
   ]
  },
  {
   "cell_type": "code",
   "execution_count": 159,
   "id": "09c708e6-7c0f-4b08-a8db-688a0ba5123c",
   "metadata": {},
   "outputs": [
    {
     "data": {
      "text/html": [
       "<div>\n",
       "<style scoped>\n",
       "    .dataframe tbody tr th:only-of-type {\n",
       "        vertical-align: middle;\n",
       "    }\n",
       "\n",
       "    .dataframe tbody tr th {\n",
       "        vertical-align: top;\n",
       "    }\n",
       "\n",
       "    .dataframe thead th {\n",
       "        text-align: right;\n",
       "    }\n",
       "</style>\n",
       "<table border=\"1\" class=\"dataframe\">\n",
       "  <thead>\n",
       "    <tr style=\"text-align: right;\">\n",
       "      <th></th>\n",
       "      <th>folder_name</th>\n",
       "      <th>folder_obj</th>\n",
       "      <th>depth</th>\n",
       "      <th>has_children</th>\n",
       "    </tr>\n",
       "  </thead>\n",
       "  <tbody>\n",
       "    <tr>\n",
       "      <th>0</th>\n",
       "      <td>dfmhjhd</td>\n",
       "      <td>&lt;__main__.folder object at 0x2aaaf8544f70&gt;</td>\n",
       "      <td>1</td>\n",
       "      <td>False</td>\n",
       "    </tr>\n",
       "    <tr>\n",
       "      <th>1</th>\n",
       "      <td>hztjntff</td>\n",
       "      <td>&lt;__main__.folder object at 0x2aaaf7ed9dc0&gt;</td>\n",
       "      <td>1</td>\n",
       "      <td>True</td>\n",
       "    </tr>\n",
       "    <tr>\n",
       "      <th>2</th>\n",
       "      <td>cwsf</td>\n",
       "      <td>&lt;__main__.folder object at 0x2aaaf7043fa0&gt;</td>\n",
       "      <td>2</td>\n",
       "      <td>True</td>\n",
       "    </tr>\n",
       "    <tr>\n",
       "      <th>3</th>\n",
       "      <td>msr</td>\n",
       "      <td>&lt;__main__.folder object at 0x2aaaf7043c70&gt;</td>\n",
       "      <td>3</td>\n",
       "      <td>False</td>\n",
       "    </tr>\n",
       "    <tr>\n",
       "      <th>4</th>\n",
       "      <td>sthqhrc</td>\n",
       "      <td>&lt;__main__.folder object at 0x2aaaf7043670&gt;</td>\n",
       "      <td>2</td>\n",
       "      <td>False</td>\n",
       "    </tr>\n",
       "    <tr>\n",
       "      <th>...</th>\n",
       "      <td>...</td>\n",
       "      <td>...</td>\n",
       "      <td>...</td>\n",
       "      <td>...</td>\n",
       "    </tr>\n",
       "    <tr>\n",
       "      <th>182</th>\n",
       "      <td>zmtmr</td>\n",
       "      <td>&lt;__main__.folder object at 0x2aaaf8c6cf10&gt;</td>\n",
       "      <td>2</td>\n",
       "      <td>True</td>\n",
       "    </tr>\n",
       "    <tr>\n",
       "      <th>183</th>\n",
       "      <td>sms</td>\n",
       "      <td>&lt;__main__.folder object at 0x2aaaf8c6cf70&gt;</td>\n",
       "      <td>3</td>\n",
       "      <td>False</td>\n",
       "    </tr>\n",
       "    <tr>\n",
       "      <th>184</th>\n",
       "      <td>vdn</td>\n",
       "      <td>&lt;__main__.folder object at 0x2aaaf8c6ce20&gt;</td>\n",
       "      <td>3</td>\n",
       "      <td>False</td>\n",
       "    </tr>\n",
       "    <tr>\n",
       "      <th>185</th>\n",
       "      <td>vdqmtjw</td>\n",
       "      <td>&lt;__main__.folder object at 0x2aaaf8c6cd90&gt;</td>\n",
       "      <td>3</td>\n",
       "      <td>False</td>\n",
       "    </tr>\n",
       "    <tr>\n",
       "      <th>186</th>\n",
       "      <td>wrmm</td>\n",
       "      <td>&lt;__main__.folder object at 0x2aaaf8c6ceb0&gt;</td>\n",
       "      <td>1</td>\n",
       "      <td>False</td>\n",
       "    </tr>\n",
       "  </tbody>\n",
       "</table>\n",
       "<p>187 rows × 4 columns</p>\n",
       "</div>"
      ],
      "text/plain": [
       "    folder_name                                  folder_obj  depth  \\\n",
       "0       dfmhjhd  <__main__.folder object at 0x2aaaf8544f70>      1   \n",
       "1      hztjntff  <__main__.folder object at 0x2aaaf7ed9dc0>      1   \n",
       "2          cwsf  <__main__.folder object at 0x2aaaf7043fa0>      2   \n",
       "3           msr  <__main__.folder object at 0x2aaaf7043c70>      3   \n",
       "4       sthqhrc  <__main__.folder object at 0x2aaaf7043670>      2   \n",
       "..          ...                                         ...    ...   \n",
       "182       zmtmr  <__main__.folder object at 0x2aaaf8c6cf10>      2   \n",
       "183         sms  <__main__.folder object at 0x2aaaf8c6cf70>      3   \n",
       "184         vdn  <__main__.folder object at 0x2aaaf8c6ce20>      3   \n",
       "185     vdqmtjw  <__main__.folder object at 0x2aaaf8c6cd90>      3   \n",
       "186        wrmm  <__main__.folder object at 0x2aaaf8c6ceb0>      1   \n",
       "\n",
       "     has_children  \n",
       "0           False  \n",
       "1            True  \n",
       "2            True  \n",
       "3           False  \n",
       "4           False  \n",
       "..            ...  \n",
       "182          True  \n",
       "183         False  \n",
       "184         False  \n",
       "185         False  \n",
       "186         False  \n",
       "\n",
       "[187 rows x 4 columns]"
      ]
     },
     "execution_count": 159,
     "metadata": {},
     "output_type": "execute_result"
    }
   ],
   "source": [
    "all_folders"
   ]
  },
  {
   "cell_type": "code",
   "execution_count": 420,
   "id": "e0bea173-ff5b-49d4-a0e9-49d02b3d8809",
   "metadata": {},
   "outputs": [],
   "source": [
    "def addUpFiles(folder):\n",
    "    if len(folder.files) > 0:\n",
    "        return(np.sum(list(folder.files.values())))\n",
    "    else:\n",
    "        return(int(0))\n",
    "def traverse(folder, running_total):\n",
    "    #print(folder.folder_name)\n",
    "    for folder_name, foldo in folder.subfolders.items():\n",
    "        if len(foldo.subfolders.items()) == 0:\n",
    "            running_total = running_total + addUpFiles(foldo)\n",
    "        else:\n",
    "            running_total = traverse(foldo, running_total)\n",
    "    return(running_total)\n"
   ]
  },
  {
   "cell_type": "code",
   "execution_count": 421,
   "id": "672402c6-813b-47d0-8f31-65d17e59dec1",
   "metadata": {
    "tags": []
   },
   "outputs": [],
   "source": [
    "recursive_folder_size = []\n",
    "for enum, row in all_folders.iterrows():\n",
    "    if row['has_children'] == False:\n",
    "        recursive_folder_size.append(addUpFiles(row['folder_obj']))\n",
    "    else:\n",
    "        running_total = addUpFiles(row['folder_obj'])\n",
    "        running_total = traverse(row['folder_obj'], running_total)\n",
    "        recursive_folder_size.append(running_total)\n",
    "all_folders['recursive_folder_size'] = recursive_folder_size"
   ]
  },
  {
   "cell_type": "code",
   "execution_count": 422,
   "id": "f4c5c3dd-fb53-41a3-acfc-db1fc56a3b8d",
   "metadata": {},
   "outputs": [
    {
     "data": {
      "text/plain": [
       "1824177"
      ]
     },
     "execution_count": 422,
     "metadata": {},
     "output_type": "execute_result"
    }
   ],
   "source": [
    "all_folders[all_folders['recursive_folder_size'] < 100000]['recursive_folder_size'].sum()"
   ]
  },
  {
   "cell_type": "code",
   "execution_count": 318,
   "id": "c8b823f0-dc64-4ced-bb57-c8d51c7d9694",
   "metadata": {},
   "outputs": [
    {
     "data": {
      "text/plain": [
       "1188290"
      ]
     },
     "execution_count": 318,
     "metadata": {},
     "output_type": "execute_result"
    }
   ],
   "source": [
    "283543 + 327156 + 291828 +285763\n"
   ]
  },
  {
   "cell_type": "code",
   "execution_count": 319,
   "id": "fef24493-b869-4f1a-8920-e6ca764f5214",
   "metadata": {},
   "outputs": [
    {
     "data": {
      "text/plain": [
       "285763"
      ]
     },
     "execution_count": 319,
     "metadata": {},
     "output_type": "execute_result"
    }
   ],
   "source": [
    "addUpFiles(all_folders.iloc[182]['folder_obj'])"
   ]
  },
  {
   "cell_type": "code",
   "execution_count": 320,
   "id": "d3c558bc-c0fc-4f0b-bd37-8845c8864c1b",
   "metadata": {},
   "outputs": [
    {
     "ename": "KeyError",
     "evalue": "'fmhjh'",
     "output_type": "error",
     "traceback": [
      "\u001b[0;31m---------------------------------------------------------------------------\u001b[0m",
      "\u001b[0;31mKeyError\u001b[0m                                  Traceback (most recent call last)",
      "Input \u001b[0;32mIn [320]\u001b[0m, in \u001b[0;36m<cell line: 1>\u001b[0;34m()\u001b[0m\n\u001b[0;32m----> 1\u001b[0m \u001b[43mfs\u001b[49m\u001b[38;5;241;43m.\u001b[39;49m\u001b[43msubfolders\u001b[49m\u001b[43m[\u001b[49m\u001b[38;5;124;43m'\u001b[39;49m\u001b[38;5;124;43mfmhjh\u001b[39;49m\u001b[38;5;124;43m'\u001b[39;49m\u001b[43m]\u001b[49m\n",
      "\u001b[0;31mKeyError\u001b[0m: 'fmhjh'"
     ]
    }
   ],
   "source": [
    "fs.subfolders['fmhjh']"
   ]
  },
  {
   "cell_type": "code",
   "execution_count": null,
   "id": "e7407af7-e215-4600-9d0a-29f4b79b8115",
   "metadata": {},
   "outputs": [
    {
     "name": "stdout",
     "output_type": "stream",
     "text": [
      "> \u001b[0;32m/scratch/tmp/22797403.1.default.q/ipykernel_26346/4144310828.py\u001b[0m(17)\u001b[0;36m<cell line: 6>\u001b[0;34m()\u001b[0m\n",
      "\u001b[0;32m     15 \u001b[0;31m            \u001b[0;32mfor\u001b[0m \u001b[0mi\u001b[0m \u001b[0;32min\u001b[0m \u001b[0mrange\u001b[0m\u001b[0;34m(\u001b[0m\u001b[0mlen\u001b[0m\u001b[0;34m(\u001b[0m\u001b[0mdirs\u001b[0m\u001b[0;34m)\u001b[0m\u001b[0;34m)\u001b[0m\u001b[0;34m:\u001b[0m\u001b[0;34m\u001b[0m\u001b[0;34m\u001b[0m\u001b[0m\n",
      "\u001b[0m\u001b[0;32m     16 \u001b[0;31m                \u001b[0mpdb\u001b[0m\u001b[0;34m.\u001b[0m\u001b[0mset_trace\u001b[0m\u001b[0;34m(\u001b[0m\u001b[0;34m)\u001b[0m\u001b[0;34m\u001b[0m\u001b[0;34m\u001b[0m\u001b[0m\n",
      "\u001b[0m\u001b[0;32m---> 17 \u001b[0;31m                \u001b[0mdir_path\u001b[0m \u001b[0;34m=\u001b[0m \u001b[0mpath\u001b[0m\u001b[0;34m.\u001b[0m\u001b[0mnormpath\u001b[0m\u001b[0;34m(\u001b[0m\u001b[0mpath\u001b[0m\u001b[0;34m.\u001b[0m\u001b[0mjoin\u001b[0m\u001b[0;34m(\u001b[0m\u001b[0;34m*\u001b[0m\u001b[0mdirs\u001b[0m\u001b[0;34m[\u001b[0m\u001b[0;34m:\u001b[0m \u001b[0mi\u001b[0m \u001b[0;34m+\u001b[0m \u001b[0;36m1\u001b[0m\u001b[0;34m]\u001b[0m\u001b[0;34m)\u001b[0m\u001b[0;34m)\u001b[0m\u001b[0;34m\u001b[0m\u001b[0;34m\u001b[0m\u001b[0m\n",
      "\u001b[0m\u001b[0;32m     18 \u001b[0;31m                \u001b[0mdir_sizes\u001b[0m\u001b[0;34m[\u001b[0m\u001b[0mdir_path\u001b[0m\u001b[0;34m]\u001b[0m \u001b[0;34m+=\u001b[0m \u001b[0mint\u001b[0m\u001b[0;34m(\u001b[0m\u001b[0mparts\u001b[0m\u001b[0;34m[\u001b[0m\u001b[0;36m0\u001b[0m\u001b[0;34m]\u001b[0m\u001b[0;34m)\u001b[0m\u001b[0;34m\u001b[0m\u001b[0;34m\u001b[0m\u001b[0m\n",
      "\u001b[0m\u001b[0;32m     19 \u001b[0;31m\u001b[0;34m\u001b[0m\u001b[0m\n",
      "\u001b[0m\n"
     ]
    },
    {
     "name": "stdin",
     "output_type": "stream",
     "text": [
      "ipdb>  dirs\n"
     ]
    },
    {
     "name": "stdout",
     "output_type": "stream",
     "text": [
      "['', '']\n"
     ]
    },
    {
     "name": "stdin",
     "output_type": "stream",
     "text": [
      "ipdb>  n\n"
     ]
    },
    {
     "name": "stdout",
     "output_type": "stream",
     "text": [
      "> \u001b[0;32m/scratch/tmp/22797403.1.default.q/ipykernel_26346/4144310828.py\u001b[0m(18)\u001b[0;36m<cell line: 6>\u001b[0;34m()\u001b[0m\n",
      "\u001b[0;32m     16 \u001b[0;31m                \u001b[0mpdb\u001b[0m\u001b[0;34m.\u001b[0m\u001b[0mset_trace\u001b[0m\u001b[0;34m(\u001b[0m\u001b[0;34m)\u001b[0m\u001b[0;34m\u001b[0m\u001b[0;34m\u001b[0m\u001b[0m\n",
      "\u001b[0m\u001b[0;32m     17 \u001b[0;31m                \u001b[0mdir_path\u001b[0m \u001b[0;34m=\u001b[0m \u001b[0mpath\u001b[0m\u001b[0;34m.\u001b[0m\u001b[0mnormpath\u001b[0m\u001b[0;34m(\u001b[0m\u001b[0mpath\u001b[0m\u001b[0;34m.\u001b[0m\u001b[0mjoin\u001b[0m\u001b[0;34m(\u001b[0m\u001b[0;34m*\u001b[0m\u001b[0mdirs\u001b[0m\u001b[0;34m[\u001b[0m\u001b[0;34m:\u001b[0m \u001b[0mi\u001b[0m \u001b[0;34m+\u001b[0m \u001b[0;36m1\u001b[0m\u001b[0;34m]\u001b[0m\u001b[0;34m)\u001b[0m\u001b[0;34m)\u001b[0m\u001b[0;34m\u001b[0m\u001b[0;34m\u001b[0m\u001b[0m\n",
      "\u001b[0m\u001b[0;32m---> 18 \u001b[0;31m                \u001b[0mdir_sizes\u001b[0m\u001b[0;34m[\u001b[0m\u001b[0mdir_path\u001b[0m\u001b[0;34m]\u001b[0m \u001b[0;34m+=\u001b[0m \u001b[0mint\u001b[0m\u001b[0;34m(\u001b[0m\u001b[0mparts\u001b[0m\u001b[0;34m[\u001b[0m\u001b[0;36m0\u001b[0m\u001b[0;34m]\u001b[0m\u001b[0;34m)\u001b[0m\u001b[0;34m\u001b[0m\u001b[0;34m\u001b[0m\u001b[0m\n",
      "\u001b[0m\u001b[0;32m     19 \u001b[0;31m\u001b[0;34m\u001b[0m\u001b[0m\n",
      "\u001b[0m\u001b[0;32m     20 \u001b[0;31m\u001b[0mavail_space\u001b[0m \u001b[0;34m=\u001b[0m \u001b[0;36m7e7\u001b[0m \u001b[0;34m-\u001b[0m \u001b[0mdir_sizes\u001b[0m\u001b[0;34m[\u001b[0m\u001b[0;34m\".\"\u001b[0m\u001b[0;34m]\u001b[0m\u001b[0;34m\u001b[0m\u001b[0;34m\u001b[0m\u001b[0m\n",
      "\u001b[0m\n"
     ]
    },
    {
     "name": "stdin",
     "output_type": "stream",
     "text": [
      "ipdb>  n\n"
     ]
    },
    {
     "name": "stdout",
     "output_type": "stream",
     "text": [
      "> \u001b[0;32m/scratch/tmp/22797403.1.default.q/ipykernel_26346/4144310828.py\u001b[0m(15)\u001b[0;36m<cell line: 6>\u001b[0;34m()\u001b[0m\n",
      "\u001b[0;32m     13 \u001b[0;31m        \u001b[0;32mif\u001b[0m \u001b[0mparts\u001b[0m\u001b[0;34m[\u001b[0m\u001b[0;36m0\u001b[0m\u001b[0;34m]\u001b[0m\u001b[0;34m.\u001b[0m\u001b[0misnumeric\u001b[0m\u001b[0;34m(\u001b[0m\u001b[0;34m)\u001b[0m\u001b[0;34m:\u001b[0m\u001b[0;34m\u001b[0m\u001b[0;34m\u001b[0m\u001b[0m\n",
      "\u001b[0m\u001b[0;32m     14 \u001b[0;31m            \u001b[0mdirs\u001b[0m \u001b[0;34m=\u001b[0m \u001b[0mcwd\u001b[0m\u001b[0;34m.\u001b[0m\u001b[0msplit\u001b[0m\u001b[0;34m(\u001b[0m\u001b[0msep\u001b[0m\u001b[0;34m)\u001b[0m\u001b[0;34m\u001b[0m\u001b[0;34m\u001b[0m\u001b[0m\n",
      "\u001b[0m\u001b[0;32m---> 15 \u001b[0;31m            \u001b[0;32mfor\u001b[0m \u001b[0mi\u001b[0m \u001b[0;32min\u001b[0m \u001b[0mrange\u001b[0m\u001b[0;34m(\u001b[0m\u001b[0mlen\u001b[0m\u001b[0;34m(\u001b[0m\u001b[0mdirs\u001b[0m\u001b[0;34m)\u001b[0m\u001b[0;34m)\u001b[0m\u001b[0;34m:\u001b[0m\u001b[0;34m\u001b[0m\u001b[0;34m\u001b[0m\u001b[0m\n",
      "\u001b[0m\u001b[0;32m     16 \u001b[0;31m                \u001b[0mpdb\u001b[0m\u001b[0;34m.\u001b[0m\u001b[0mset_trace\u001b[0m\u001b[0;34m(\u001b[0m\u001b[0;34m)\u001b[0m\u001b[0;34m\u001b[0m\u001b[0;34m\u001b[0m\u001b[0m\n",
      "\u001b[0m\u001b[0;32m     17 \u001b[0;31m                \u001b[0mdir_path\u001b[0m \u001b[0;34m=\u001b[0m \u001b[0mpath\u001b[0m\u001b[0;34m.\u001b[0m\u001b[0mnormpath\u001b[0m\u001b[0;34m(\u001b[0m\u001b[0mpath\u001b[0m\u001b[0;34m.\u001b[0m\u001b[0mjoin\u001b[0m\u001b[0;34m(\u001b[0m\u001b[0;34m*\u001b[0m\u001b[0mdirs\u001b[0m\u001b[0;34m[\u001b[0m\u001b[0;34m:\u001b[0m \u001b[0mi\u001b[0m \u001b[0;34m+\u001b[0m \u001b[0;36m1\u001b[0m\u001b[0;34m]\u001b[0m\u001b[0;34m)\u001b[0m\u001b[0;34m)\u001b[0m\u001b[0;34m\u001b[0m\u001b[0;34m\u001b[0m\u001b[0m\n",
      "\u001b[0m\n"
     ]
    },
    {
     "name": "stdin",
     "output_type": "stream",
     "text": [
      "ipdb>  dirs\n"
     ]
    },
    {
     "name": "stdout",
     "output_type": "stream",
     "text": [
      "['', '']\n"
     ]
    },
    {
     "name": "stdin",
     "output_type": "stream",
     "text": [
      "ipdb>  n\n"
     ]
    },
    {
     "name": "stdout",
     "output_type": "stream",
     "text": [
      "> \u001b[0;32m/scratch/tmp/22797403.1.default.q/ipykernel_26346/4144310828.py\u001b[0m(16)\u001b[0;36m<cell line: 6>\u001b[0;34m()\u001b[0m\n",
      "\u001b[0;32m     14 \u001b[0;31m            \u001b[0mdirs\u001b[0m \u001b[0;34m=\u001b[0m \u001b[0mcwd\u001b[0m\u001b[0;34m.\u001b[0m\u001b[0msplit\u001b[0m\u001b[0;34m(\u001b[0m\u001b[0msep\u001b[0m\u001b[0;34m)\u001b[0m\u001b[0;34m\u001b[0m\u001b[0;34m\u001b[0m\u001b[0m\n",
      "\u001b[0m\u001b[0;32m     15 \u001b[0;31m            \u001b[0;32mfor\u001b[0m \u001b[0mi\u001b[0m \u001b[0;32min\u001b[0m \u001b[0mrange\u001b[0m\u001b[0;34m(\u001b[0m\u001b[0mlen\u001b[0m\u001b[0;34m(\u001b[0m\u001b[0mdirs\u001b[0m\u001b[0;34m)\u001b[0m\u001b[0;34m)\u001b[0m\u001b[0;34m:\u001b[0m\u001b[0;34m\u001b[0m\u001b[0;34m\u001b[0m\u001b[0m\n",
      "\u001b[0m\u001b[0;32m---> 16 \u001b[0;31m                \u001b[0mpdb\u001b[0m\u001b[0;34m.\u001b[0m\u001b[0mset_trace\u001b[0m\u001b[0;34m(\u001b[0m\u001b[0;34m)\u001b[0m\u001b[0;34m\u001b[0m\u001b[0;34m\u001b[0m\u001b[0m\n",
      "\u001b[0m\u001b[0;32m     17 \u001b[0;31m                \u001b[0mdir_path\u001b[0m \u001b[0;34m=\u001b[0m \u001b[0mpath\u001b[0m\u001b[0;34m.\u001b[0m\u001b[0mnormpath\u001b[0m\u001b[0;34m(\u001b[0m\u001b[0mpath\u001b[0m\u001b[0;34m.\u001b[0m\u001b[0mjoin\u001b[0m\u001b[0;34m(\u001b[0m\u001b[0;34m*\u001b[0m\u001b[0mdirs\u001b[0m\u001b[0;34m[\u001b[0m\u001b[0;34m:\u001b[0m \u001b[0mi\u001b[0m \u001b[0;34m+\u001b[0m \u001b[0;36m1\u001b[0m\u001b[0;34m]\u001b[0m\u001b[0;34m)\u001b[0m\u001b[0;34m)\u001b[0m\u001b[0;34m\u001b[0m\u001b[0;34m\u001b[0m\u001b[0m\n",
      "\u001b[0m\u001b[0;32m     18 \u001b[0;31m                \u001b[0mdir_sizes\u001b[0m\u001b[0;34m[\u001b[0m\u001b[0mdir_path\u001b[0m\u001b[0;34m]\u001b[0m \u001b[0;34m+=\u001b[0m \u001b[0mint\u001b[0m\u001b[0;34m(\u001b[0m\u001b[0mparts\u001b[0m\u001b[0;34m[\u001b[0m\u001b[0;36m0\u001b[0m\u001b[0;34m]\u001b[0m\u001b[0;34m)\u001b[0m\u001b[0;34m\u001b[0m\u001b[0;34m\u001b[0m\u001b[0m\n",
      "\u001b[0m\n"
     ]
    },
    {
     "name": "stdin",
     "output_type": "stream",
     "text": [
      "ipdb>  n\n"
     ]
    },
    {
     "name": "stdout",
     "output_type": "stream",
     "text": [
      "> \u001b[0;32m/scratch/tmp/22797403.1.default.q/ipykernel_26346/4144310828.py\u001b[0m(17)\u001b[0;36m<cell line: 6>\u001b[0;34m()\u001b[0m\n",
      "\u001b[0;32m     15 \u001b[0;31m            \u001b[0;32mfor\u001b[0m \u001b[0mi\u001b[0m \u001b[0;32min\u001b[0m \u001b[0mrange\u001b[0m\u001b[0;34m(\u001b[0m\u001b[0mlen\u001b[0m\u001b[0;34m(\u001b[0m\u001b[0mdirs\u001b[0m\u001b[0;34m)\u001b[0m\u001b[0;34m)\u001b[0m\u001b[0;34m:\u001b[0m\u001b[0;34m\u001b[0m\u001b[0;34m\u001b[0m\u001b[0m\n",
      "\u001b[0m\u001b[0;32m     16 \u001b[0;31m                \u001b[0mpdb\u001b[0m\u001b[0;34m.\u001b[0m\u001b[0mset_trace\u001b[0m\u001b[0;34m(\u001b[0m\u001b[0;34m)\u001b[0m\u001b[0;34m\u001b[0m\u001b[0;34m\u001b[0m\u001b[0m\n",
      "\u001b[0m\u001b[0;32m---> 17 \u001b[0;31m                \u001b[0mdir_path\u001b[0m \u001b[0;34m=\u001b[0m \u001b[0mpath\u001b[0m\u001b[0;34m.\u001b[0m\u001b[0mnormpath\u001b[0m\u001b[0;34m(\u001b[0m\u001b[0mpath\u001b[0m\u001b[0;34m.\u001b[0m\u001b[0mjoin\u001b[0m\u001b[0;34m(\u001b[0m\u001b[0;34m*\u001b[0m\u001b[0mdirs\u001b[0m\u001b[0;34m[\u001b[0m\u001b[0;34m:\u001b[0m \u001b[0mi\u001b[0m \u001b[0;34m+\u001b[0m \u001b[0;36m1\u001b[0m\u001b[0;34m]\u001b[0m\u001b[0;34m)\u001b[0m\u001b[0;34m)\u001b[0m\u001b[0;34m\u001b[0m\u001b[0;34m\u001b[0m\u001b[0m\n",
      "\u001b[0m\u001b[0;32m     18 \u001b[0;31m                \u001b[0mdir_sizes\u001b[0m\u001b[0;34m[\u001b[0m\u001b[0mdir_path\u001b[0m\u001b[0;34m]\u001b[0m \u001b[0;34m+=\u001b[0m \u001b[0mint\u001b[0m\u001b[0;34m(\u001b[0m\u001b[0mparts\u001b[0m\u001b[0;34m[\u001b[0m\u001b[0;36m0\u001b[0m\u001b[0;34m]\u001b[0m\u001b[0;34m)\u001b[0m\u001b[0;34m\u001b[0m\u001b[0;34m\u001b[0m\u001b[0m\n",
      "\u001b[0m\u001b[0;32m     19 \u001b[0;31m\u001b[0;34m\u001b[0m\u001b[0m\n",
      "\u001b[0m\n"
     ]
    },
    {
     "name": "stdin",
     "output_type": "stream",
     "text": [
      "ipdb>  n\n"
     ]
    },
    {
     "name": "stdout",
     "output_type": "stream",
     "text": [
      "> \u001b[0;32m/scratch/tmp/22797403.1.default.q/ipykernel_26346/4144310828.py\u001b[0m(18)\u001b[0;36m<cell line: 6>\u001b[0;34m()\u001b[0m\n",
      "\u001b[0;32m     16 \u001b[0;31m                \u001b[0mpdb\u001b[0m\u001b[0;34m.\u001b[0m\u001b[0mset_trace\u001b[0m\u001b[0;34m(\u001b[0m\u001b[0;34m)\u001b[0m\u001b[0;34m\u001b[0m\u001b[0;34m\u001b[0m\u001b[0m\n",
      "\u001b[0m\u001b[0;32m     17 \u001b[0;31m                \u001b[0mdir_path\u001b[0m \u001b[0;34m=\u001b[0m \u001b[0mpath\u001b[0m\u001b[0;34m.\u001b[0m\u001b[0mnormpath\u001b[0m\u001b[0;34m(\u001b[0m\u001b[0mpath\u001b[0m\u001b[0;34m.\u001b[0m\u001b[0mjoin\u001b[0m\u001b[0;34m(\u001b[0m\u001b[0;34m*\u001b[0m\u001b[0mdirs\u001b[0m\u001b[0;34m[\u001b[0m\u001b[0;34m:\u001b[0m \u001b[0mi\u001b[0m \u001b[0;34m+\u001b[0m \u001b[0;36m1\u001b[0m\u001b[0;34m]\u001b[0m\u001b[0;34m)\u001b[0m\u001b[0;34m)\u001b[0m\u001b[0;34m\u001b[0m\u001b[0;34m\u001b[0m\u001b[0m\n",
      "\u001b[0m\u001b[0;32m---> 18 \u001b[0;31m                \u001b[0mdir_sizes\u001b[0m\u001b[0;34m[\u001b[0m\u001b[0mdir_path\u001b[0m\u001b[0;34m]\u001b[0m \u001b[0;34m+=\u001b[0m \u001b[0mint\u001b[0m\u001b[0;34m(\u001b[0m\u001b[0mparts\u001b[0m\u001b[0;34m[\u001b[0m\u001b[0;36m0\u001b[0m\u001b[0;34m]\u001b[0m\u001b[0;34m)\u001b[0m\u001b[0;34m\u001b[0m\u001b[0;34m\u001b[0m\u001b[0m\n",
      "\u001b[0m\u001b[0;32m     19 \u001b[0;31m\u001b[0;34m\u001b[0m\u001b[0m\n",
      "\u001b[0m\u001b[0;32m     20 \u001b[0;31m\u001b[0mavail_space\u001b[0m \u001b[0;34m=\u001b[0m \u001b[0;36m7e7\u001b[0m \u001b[0;34m-\u001b[0m \u001b[0mdir_sizes\u001b[0m\u001b[0;34m[\u001b[0m\u001b[0;34m\".\"\u001b[0m\u001b[0;34m]\u001b[0m\u001b[0;34m\u001b[0m\u001b[0;34m\u001b[0m\u001b[0m\n",
      "\u001b[0m\n"
     ]
    },
    {
     "name": "stdin",
     "output_type": "stream",
     "text": [
      "ipdb>  c\n"
     ]
    },
    {
     "name": "stdout",
     "output_type": "stream",
     "text": [
      "> \u001b[0;32m/scratch/tmp/22797403.1.default.q/ipykernel_26346/4144310828.py\u001b[0m(16)\u001b[0;36m<cell line: 6>\u001b[0;34m()\u001b[0m\n",
      "\u001b[0;32m     14 \u001b[0;31m            \u001b[0mdirs\u001b[0m \u001b[0;34m=\u001b[0m \u001b[0mcwd\u001b[0m\u001b[0;34m.\u001b[0m\u001b[0msplit\u001b[0m\u001b[0;34m(\u001b[0m\u001b[0msep\u001b[0m\u001b[0;34m)\u001b[0m\u001b[0;34m\u001b[0m\u001b[0;34m\u001b[0m\u001b[0m\n",
      "\u001b[0m\u001b[0;32m     15 \u001b[0;31m            \u001b[0;32mfor\u001b[0m \u001b[0mi\u001b[0m \u001b[0;32min\u001b[0m \u001b[0mrange\u001b[0m\u001b[0;34m(\u001b[0m\u001b[0mlen\u001b[0m\u001b[0;34m(\u001b[0m\u001b[0mdirs\u001b[0m\u001b[0;34m)\u001b[0m\u001b[0;34m)\u001b[0m\u001b[0;34m:\u001b[0m\u001b[0;34m\u001b[0m\u001b[0;34m\u001b[0m\u001b[0m\n",
      "\u001b[0m\u001b[0;32m---> 16 \u001b[0;31m                \u001b[0mpdb\u001b[0m\u001b[0;34m.\u001b[0m\u001b[0mset_trace\u001b[0m\u001b[0;34m(\u001b[0m\u001b[0;34m)\u001b[0m\u001b[0;34m\u001b[0m\u001b[0;34m\u001b[0m\u001b[0m\n",
      "\u001b[0m\u001b[0;32m     17 \u001b[0;31m                \u001b[0mdir_path\u001b[0m \u001b[0;34m=\u001b[0m \u001b[0mpath\u001b[0m\u001b[0;34m.\u001b[0m\u001b[0mnormpath\u001b[0m\u001b[0;34m(\u001b[0m\u001b[0mpath\u001b[0m\u001b[0;34m.\u001b[0m\u001b[0mjoin\u001b[0m\u001b[0;34m(\u001b[0m\u001b[0;34m*\u001b[0m\u001b[0mdirs\u001b[0m\u001b[0;34m[\u001b[0m\u001b[0;34m:\u001b[0m \u001b[0mi\u001b[0m \u001b[0;34m+\u001b[0m \u001b[0;36m1\u001b[0m\u001b[0;34m]\u001b[0m\u001b[0;34m)\u001b[0m\u001b[0;34m)\u001b[0m\u001b[0;34m\u001b[0m\u001b[0;34m\u001b[0m\u001b[0m\n",
      "\u001b[0m\u001b[0;32m     18 \u001b[0;31m                \u001b[0mdir_sizes\u001b[0m\u001b[0;34m[\u001b[0m\u001b[0mdir_path\u001b[0m\u001b[0;34m]\u001b[0m \u001b[0;34m+=\u001b[0m \u001b[0mint\u001b[0m\u001b[0;34m(\u001b[0m\u001b[0mparts\u001b[0m\u001b[0;34m[\u001b[0m\u001b[0;36m0\u001b[0m\u001b[0;34m]\u001b[0m\u001b[0;34m)\u001b[0m\u001b[0;34m\u001b[0m\u001b[0;34m\u001b[0m\u001b[0m\n",
      "\u001b[0m\n"
     ]
    },
    {
     "name": "stdin",
     "output_type": "stream",
     "text": [
      "ipdb>  dirs\n"
     ]
    },
    {
     "name": "stdout",
     "output_type": "stream",
     "text": [
      "['', '']\n"
     ]
    },
    {
     "name": "stdin",
     "output_type": "stream",
     "text": [
      "ipdb>  c\n"
     ]
    },
    {
     "name": "stdout",
     "output_type": "stream",
     "text": [
      "> \u001b[0;32m/scratch/tmp/22797403.1.default.q/ipykernel_26346/4144310828.py\u001b[0m(17)\u001b[0;36m<cell line: 6>\u001b[0;34m()\u001b[0m\n",
      "\u001b[0;32m     15 \u001b[0;31m            \u001b[0;32mfor\u001b[0m \u001b[0mi\u001b[0m \u001b[0;32min\u001b[0m \u001b[0mrange\u001b[0m\u001b[0;34m(\u001b[0m\u001b[0mlen\u001b[0m\u001b[0;34m(\u001b[0m\u001b[0mdirs\u001b[0m\u001b[0;34m)\u001b[0m\u001b[0;34m)\u001b[0m\u001b[0;34m:\u001b[0m\u001b[0;34m\u001b[0m\u001b[0;34m\u001b[0m\u001b[0m\n",
      "\u001b[0m\u001b[0;32m     16 \u001b[0;31m                \u001b[0mpdb\u001b[0m\u001b[0;34m.\u001b[0m\u001b[0mset_trace\u001b[0m\u001b[0;34m(\u001b[0m\u001b[0;34m)\u001b[0m\u001b[0;34m\u001b[0m\u001b[0;34m\u001b[0m\u001b[0m\n",
      "\u001b[0m\u001b[0;32m---> 17 \u001b[0;31m                \u001b[0mdir_path\u001b[0m \u001b[0;34m=\u001b[0m \u001b[0mpath\u001b[0m\u001b[0;34m.\u001b[0m\u001b[0mnormpath\u001b[0m\u001b[0;34m(\u001b[0m\u001b[0mpath\u001b[0m\u001b[0;34m.\u001b[0m\u001b[0mjoin\u001b[0m\u001b[0;34m(\u001b[0m\u001b[0;34m*\u001b[0m\u001b[0mdirs\u001b[0m\u001b[0;34m[\u001b[0m\u001b[0;34m:\u001b[0m \u001b[0mi\u001b[0m \u001b[0;34m+\u001b[0m \u001b[0;36m1\u001b[0m\u001b[0;34m]\u001b[0m\u001b[0;34m)\u001b[0m\u001b[0;34m)\u001b[0m\u001b[0;34m\u001b[0m\u001b[0;34m\u001b[0m\u001b[0m\n",
      "\u001b[0m\u001b[0;32m     18 \u001b[0;31m                \u001b[0mdir_sizes\u001b[0m\u001b[0;34m[\u001b[0m\u001b[0mdir_path\u001b[0m\u001b[0;34m]\u001b[0m \u001b[0;34m+=\u001b[0m \u001b[0mint\u001b[0m\u001b[0;34m(\u001b[0m\u001b[0mparts\u001b[0m\u001b[0;34m[\u001b[0m\u001b[0;36m0\u001b[0m\u001b[0;34m]\u001b[0m\u001b[0;34m)\u001b[0m\u001b[0;34m\u001b[0m\u001b[0;34m\u001b[0m\u001b[0m\n",
      "\u001b[0m\u001b[0;32m     19 \u001b[0;31m\u001b[0;34m\u001b[0m\u001b[0m\n",
      "\u001b[0m\n"
     ]
    },
    {
     "name": "stdin",
     "output_type": "stream",
     "text": [
      "ipdb>  dirs\n"
     ]
    },
    {
     "name": "stdout",
     "output_type": "stream",
     "text": [
      "['', '']\n"
     ]
    },
    {
     "name": "stdin",
     "output_type": "stream",
     "text": [
      "ipdb>  dir_sizes\n"
     ]
    },
    {
     "name": "stdout",
     "output_type": "stream",
     "text": [
      "defaultdict(<class 'int'>, {'.': 736035})\n"
     ]
    },
    {
     "name": "stdin",
     "output_type": "stream",
     "text": [
      "ipdb>  c\n"
     ]
    },
    {
     "name": "stdout",
     "output_type": "stream",
     "text": [
      "> \u001b[0;32m/scratch/tmp/22797403.1.default.q/ipykernel_26346/4144310828.py\u001b[0m(16)\u001b[0;36m<cell line: 6>\u001b[0;34m()\u001b[0m\n",
      "\u001b[0;32m     14 \u001b[0;31m            \u001b[0mdirs\u001b[0m \u001b[0;34m=\u001b[0m \u001b[0mcwd\u001b[0m\u001b[0;34m.\u001b[0m\u001b[0msplit\u001b[0m\u001b[0;34m(\u001b[0m\u001b[0msep\u001b[0m\u001b[0;34m)\u001b[0m\u001b[0;34m\u001b[0m\u001b[0;34m\u001b[0m\u001b[0m\n",
      "\u001b[0m\u001b[0;32m     15 \u001b[0;31m            \u001b[0;32mfor\u001b[0m \u001b[0mi\u001b[0m \u001b[0;32min\u001b[0m \u001b[0mrange\u001b[0m\u001b[0;34m(\u001b[0m\u001b[0mlen\u001b[0m\u001b[0;34m(\u001b[0m\u001b[0mdirs\u001b[0m\u001b[0;34m)\u001b[0m\u001b[0;34m)\u001b[0m\u001b[0;34m:\u001b[0m\u001b[0;34m\u001b[0m\u001b[0;34m\u001b[0m\u001b[0m\n",
      "\u001b[0m\u001b[0;32m---> 16 \u001b[0;31m                \u001b[0mpdb\u001b[0m\u001b[0;34m.\u001b[0m\u001b[0mset_trace\u001b[0m\u001b[0;34m(\u001b[0m\u001b[0;34m)\u001b[0m\u001b[0;34m\u001b[0m\u001b[0;34m\u001b[0m\u001b[0m\n",
      "\u001b[0m\u001b[0;32m     17 \u001b[0;31m                \u001b[0mdir_path\u001b[0m \u001b[0;34m=\u001b[0m \u001b[0mpath\u001b[0m\u001b[0;34m.\u001b[0m\u001b[0mnormpath\u001b[0m\u001b[0;34m(\u001b[0m\u001b[0mpath\u001b[0m\u001b[0;34m.\u001b[0m\u001b[0mjoin\u001b[0m\u001b[0;34m(\u001b[0m\u001b[0;34m*\u001b[0m\u001b[0mdirs\u001b[0m\u001b[0;34m[\u001b[0m\u001b[0;34m:\u001b[0m \u001b[0mi\u001b[0m \u001b[0;34m+\u001b[0m \u001b[0;36m1\u001b[0m\u001b[0;34m]\u001b[0m\u001b[0;34m)\u001b[0m\u001b[0;34m)\u001b[0m\u001b[0;34m\u001b[0m\u001b[0;34m\u001b[0m\u001b[0m\n",
      "\u001b[0m\u001b[0;32m     18 \u001b[0;31m                \u001b[0mdir_sizes\u001b[0m\u001b[0;34m[\u001b[0m\u001b[0mdir_path\u001b[0m\u001b[0;34m]\u001b[0m \u001b[0;34m+=\u001b[0m \u001b[0mint\u001b[0m\u001b[0;34m(\u001b[0m\u001b[0mparts\u001b[0m\u001b[0;34m[\u001b[0m\u001b[0;36m0\u001b[0m\u001b[0;34m]\u001b[0m\u001b[0;34m)\u001b[0m\u001b[0;34m\u001b[0m\u001b[0;34m\u001b[0m\u001b[0m\n",
      "\u001b[0m\n"
     ]
    },
    {
     "name": "stdin",
     "output_type": "stream",
     "text": [
      "ipdb>  dir_sizes\n"
     ]
    },
    {
     "name": "stdout",
     "output_type": "stream",
     "text": [
      "defaultdict(<class 'int'>, {'.': 856614})\n"
     ]
    },
    {
     "name": "stdin",
     "output_type": "stream",
     "text": [
      "ipdb>  c\n"
     ]
    },
    {
     "name": "stdout",
     "output_type": "stream",
     "text": [
      "> \u001b[0;32m/scratch/tmp/22797403.1.default.q/ipykernel_26346/4144310828.py\u001b[0m(17)\u001b[0;36m<cell line: 6>\u001b[0;34m()\u001b[0m\n",
      "\u001b[0;32m     15 \u001b[0;31m            \u001b[0;32mfor\u001b[0m \u001b[0mi\u001b[0m \u001b[0;32min\u001b[0m \u001b[0mrange\u001b[0m\u001b[0;34m(\u001b[0m\u001b[0mlen\u001b[0m\u001b[0;34m(\u001b[0m\u001b[0mdirs\u001b[0m\u001b[0;34m)\u001b[0m\u001b[0;34m)\u001b[0m\u001b[0;34m:\u001b[0m\u001b[0;34m\u001b[0m\u001b[0;34m\u001b[0m\u001b[0m\n",
      "\u001b[0m\u001b[0;32m     16 \u001b[0;31m                \u001b[0mpdb\u001b[0m\u001b[0;34m.\u001b[0m\u001b[0mset_trace\u001b[0m\u001b[0;34m(\u001b[0m\u001b[0;34m)\u001b[0m\u001b[0;34m\u001b[0m\u001b[0;34m\u001b[0m\u001b[0m\n",
      "\u001b[0m\u001b[0;32m---> 17 \u001b[0;31m                \u001b[0mdir_path\u001b[0m \u001b[0;34m=\u001b[0m \u001b[0mpath\u001b[0m\u001b[0;34m.\u001b[0m\u001b[0mnormpath\u001b[0m\u001b[0;34m(\u001b[0m\u001b[0mpath\u001b[0m\u001b[0;34m.\u001b[0m\u001b[0mjoin\u001b[0m\u001b[0;34m(\u001b[0m\u001b[0;34m*\u001b[0m\u001b[0mdirs\u001b[0m\u001b[0;34m[\u001b[0m\u001b[0;34m:\u001b[0m \u001b[0mi\u001b[0m \u001b[0;34m+\u001b[0m \u001b[0;36m1\u001b[0m\u001b[0;34m]\u001b[0m\u001b[0;34m)\u001b[0m\u001b[0;34m)\u001b[0m\u001b[0;34m\u001b[0m\u001b[0;34m\u001b[0m\u001b[0m\n",
      "\u001b[0m\u001b[0;32m     18 \u001b[0;31m                \u001b[0mdir_sizes\u001b[0m\u001b[0;34m[\u001b[0m\u001b[0mdir_path\u001b[0m\u001b[0;34m]\u001b[0m \u001b[0;34m+=\u001b[0m \u001b[0mint\u001b[0m\u001b[0;34m(\u001b[0m\u001b[0mparts\u001b[0m\u001b[0;34m[\u001b[0m\u001b[0;36m0\u001b[0m\u001b[0;34m]\u001b[0m\u001b[0;34m)\u001b[0m\u001b[0;34m\u001b[0m\u001b[0;34m\u001b[0m\u001b[0m\n",
      "\u001b[0m\u001b[0;32m     19 \u001b[0;31m\u001b[0;34m\u001b[0m\u001b[0m\n",
      "\u001b[0m\n"
     ]
    },
    {
     "name": "stdin",
     "output_type": "stream",
     "text": [
      "ipdb>  dirs\n"
     ]
    },
    {
     "name": "stdout",
     "output_type": "stream",
     "text": [
      "['', 'dfmhjhd']\n"
     ]
    },
    {
     "name": "stdin",
     "output_type": "stream",
     "text": [
      "ipdb>  dirs\n"
     ]
    },
    {
     "name": "stdout",
     "output_type": "stream",
     "text": [
      "['', 'dfmhjhd']\n"
     ]
    },
    {
     "name": "stdin",
     "output_type": "stream",
     "text": [
      "ipdb>  n\n"
     ]
    },
    {
     "name": "stdout",
     "output_type": "stream",
     "text": [
      "> \u001b[0;32m/scratch/tmp/22797403.1.default.q/ipykernel_26346/4144310828.py\u001b[0m(18)\u001b[0;36m<cell line: 6>\u001b[0;34m()\u001b[0m\n",
      "\u001b[0;32m     16 \u001b[0;31m                \u001b[0mpdb\u001b[0m\u001b[0;34m.\u001b[0m\u001b[0mset_trace\u001b[0m\u001b[0;34m(\u001b[0m\u001b[0;34m)\u001b[0m\u001b[0;34m\u001b[0m\u001b[0;34m\u001b[0m\u001b[0m\n",
      "\u001b[0m\u001b[0;32m     17 \u001b[0;31m                \u001b[0mdir_path\u001b[0m \u001b[0;34m=\u001b[0m \u001b[0mpath\u001b[0m\u001b[0;34m.\u001b[0m\u001b[0mnormpath\u001b[0m\u001b[0;34m(\u001b[0m\u001b[0mpath\u001b[0m\u001b[0;34m.\u001b[0m\u001b[0mjoin\u001b[0m\u001b[0;34m(\u001b[0m\u001b[0;34m*\u001b[0m\u001b[0mdirs\u001b[0m\u001b[0;34m[\u001b[0m\u001b[0;34m:\u001b[0m \u001b[0mi\u001b[0m \u001b[0;34m+\u001b[0m \u001b[0;36m1\u001b[0m\u001b[0;34m]\u001b[0m\u001b[0;34m)\u001b[0m\u001b[0;34m)\u001b[0m\u001b[0;34m\u001b[0m\u001b[0;34m\u001b[0m\u001b[0m\n",
      "\u001b[0m\u001b[0;32m---> 18 \u001b[0;31m                \u001b[0mdir_sizes\u001b[0m\u001b[0;34m[\u001b[0m\u001b[0mdir_path\u001b[0m\u001b[0;34m]\u001b[0m \u001b[0;34m+=\u001b[0m \u001b[0mint\u001b[0m\u001b[0;34m(\u001b[0m\u001b[0mparts\u001b[0m\u001b[0;34m[\u001b[0m\u001b[0;36m0\u001b[0m\u001b[0;34m]\u001b[0m\u001b[0;34m)\u001b[0m\u001b[0;34m\u001b[0m\u001b[0;34m\u001b[0m\u001b[0m\n",
      "\u001b[0m\u001b[0;32m     19 \u001b[0;31m\u001b[0;34m\u001b[0m\u001b[0m\n",
      "\u001b[0m\u001b[0;32m     20 \u001b[0;31m\u001b[0mavail_space\u001b[0m \u001b[0;34m=\u001b[0m \u001b[0;36m7e7\u001b[0m \u001b[0;34m-\u001b[0m \u001b[0mdir_sizes\u001b[0m\u001b[0;34m[\u001b[0m\u001b[0;34m\".\"\u001b[0m\u001b[0;34m]\u001b[0m\u001b[0;34m\u001b[0m\u001b[0;34m\u001b[0m\u001b[0m\n",
      "\u001b[0m\n"
     ]
    },
    {
     "name": "stdin",
     "output_type": "stream",
     "text": [
      "ipdb>  parts\n"
     ]
    },
    {
     "name": "stdout",
     "output_type": "stream",
     "text": [
      "['301486', 'ngtqtf']\n"
     ]
    },
    {
     "name": "stdin",
     "output_type": "stream",
     "text": [
      "ipdb>  dirs\n"
     ]
    },
    {
     "name": "stdout",
     "output_type": "stream",
     "text": [
      "['', 'dfmhjhd']\n"
     ]
    },
    {
     "name": "stdin",
     "output_type": "stream",
     "text": [
      "ipdb>  parts[0]\n"
     ]
    },
    {
     "name": "stdout",
     "output_type": "stream",
     "text": [
      "'301486'\n"
     ]
    }
   ],
   "source": [
    "p1 = 0\n",
    "p2 = inf\n",
    "cwd = \"\"\n",
    "dir_sizes = defaultdict(int)\n",
    "\n",
    "with open(\"./input.txt\") as f:\n",
    "    for line in f:\n",
    "        parts = line.strip().split(\" \")\n",
    "\n",
    "        if parts[0] == \"$\" and parts[1] == \"cd\":\n",
    "            cwd = path.normpath(path.join(cwd, parts[2]))\n",
    "\n",
    "        if parts[0].isnumeric():\n",
    "            dirs = cwd.split(sep)\n",
    "            for i in range(len(dirs)):\n",
    "                pdb.set_trace()\n",
    "                dir_path = path.normpath(path.join(*dirs[: i + 1]))\n",
    "                dir_sizes[dir_path] += int(parts[0])\n",
    "\n",
    "avail_space = 7e7 - dir_sizes[\".\"]\n",
    "sizes = dir_sizes.values()\n",
    "\n",
    "p1 = sum((v for v in sizes if v <= 1e5))\n",
    "p2 = min((v for v in sizes if v + avail_space >= 3e7))\n",
    "\n",
    "print(f\"p1: {p1}, p2: {p2}\")\n",
    "\n"
   ]
  },
  {
   "cell_type": "code",
   "execution_count": 430,
   "id": "bd412595-3ddd-4f71-913c-2ac07b89a2ee",
   "metadata": {},
   "outputs": [
    {
     "data": {
      "text/plain": [
       "defaultdict(int,\n",
       "            {'.': 47870706,\n",
       "             'dfmhjhd': 314974,\n",
       "             'hztjntff': 1926974,\n",
       "             'hztjntff/cwsf': 1023208,\n",
       "             'hztjntff/cwsf/msr': 272198,\n",
       "             'hztjntff/sthqhrc': 45847,\n",
       "             'rvstq': 24509789,\n",
       "             'rvstq/nzdgz': 4488747,\n",
       "             'rvstq/nzdgz/fplqm': 961527,\n",
       "             'rvstq/nzdgz/fplqm/cwsf': 330050,\n",
       "             'rvstq/nzdgz/fplqm/cwsf/fld': 330050,\n",
       "             'rvstq/nzdgz/fplqm/cwsf/fld/jdpz': 299969,\n",
       "             'rvstq/nzdgz/fplqm/cwsf/fld/trjltfq': 30081,\n",
       "             'rvstq/nzdgz/fplqm/cwzstq': 305925,\n",
       "             'rvstq/nzdgz/hzpqfj': 1179441,\n",
       "             'rvstq/nzdgz/hzpqfj/sztz': 430383,\n",
       "             'rvstq/nzdgz/hzpqfj/sztz/mjmbld': 101870,\n",
       "             'rvstq/nzdgz/hzpqfj/sztz/nzdgz': 86208,\n",
       "             'rvstq/nzdgz/hzpqfj/sztz/wrmm': 242305,\n",
       "             'rvstq/nzdgz/hztjntff': 952301,\n",
       "             'rvstq/nzdgz/hztjntff/hztjntff': 318839,\n",
       "             'rvstq/nzdgz/hztjntff/hztjntff/hztjntff': 210571,\n",
       "             'rvstq/nzdgz/hztjntff/hztjntff/tfdnvnn': 108268,\n",
       "             'rvstq/nzdgz/jcszc': 341563,\n",
       "             'rvstq/nzdgz/nzwzq': 6875,\n",
       "             'rvstq/nzdgz/prbptvql': 177069,\n",
       "             'rvstq/nzdgz/tnpshhml': 227272,\n",
       "             'rvstq/nzdgz/tsjsfg': 525172,\n",
       "             'rvstq/nzdgz/tsjsfg/fjhjl': 54983,\n",
       "             'rvstq/vtlj': 1047289,\n",
       "             'rvstq/vtlj/hztjntff': 58108,\n",
       "             'rvstq/vtlj/tzwfnn': 282278,\n",
       "             'rvstq/vtlj/tzwfnn/grznq': 282278,\n",
       "             'rvstq/vtlj/wrmm': 112688,\n",
       "             'rvstq/wmjbt': 5456274,\n",
       "             'rvstq/wmjbt/bpqjsnr': 1861317,\n",
       "             'rvstq/wmjbt/bpqjsnr/bqg': 1728487,\n",
       "             'rvstq/wmjbt/bpqjsnr/bqg/hztjntff': 569556,\n",
       "             'rvstq/wmjbt/bpqjsnr/bqg/hztjntff/bqg': 188558,\n",
       "             'rvstq/wmjbt/bpqjsnr/bqg/hztjntff/hljm': 380998,\n",
       "             'rvstq/wmjbt/bpqjsnr/bqg/hztjntff/hljm/clblt': 380998,\n",
       "             'rvstq/wmjbt/bpqjsnr/bqg/hztjntff/hljm/clblt/qdjj': 152548,\n",
       "             'rvstq/wmjbt/bpqjsnr/bqg/jvzn': 265757,\n",
       "             'rvstq/wmjbt/bqg': 785817,\n",
       "             'rvstq/wmjbt/cwsf': 242327,\n",
       "             'rvstq/wmjbt/vlhr': 156011,\n",
       "             'rvstq/wmjbt/wrmm': 1894108,\n",
       "             'rvstq/wmjbt/wrmm/cwsf': 479326,\n",
       "             'rvstq/wmjbt/wrmm/cwsf/bstnjc': 11588,\n",
       "             'rvstq/wmjbt/wrmm/ljpn': 712653,\n",
       "             'rvstq/wmjbt/wrmm/ljpn/cgghhhlf': 14765,\n",
       "             'rvstq/wmjbt/wrmm/ljpn/qfwrrp': 256670,\n",
       "             'rvstq/wmjbt/wrmm/ljpn/smpltb': 65336,\n",
       "             'rvstq/wmjbt/wrmm/ljpn/smpltb/bgvfj': 65336,\n",
       "             'rvstq/wmjbt/wrmm/vzwtzl': 53337,\n",
       "             'rvstq/wmjbt/wrmm/wjsf': 648792,\n",
       "             'rvstq/wmjbt/zgljrz': 134867,\n",
       "             'rvstq/wmjbt/zgt': 350435,\n",
       "             'rvstq/wrmm': 12714750,\n",
       "             'rvstq/wrmm/clt': 62449,\n",
       "             'rvstq/wrmm/mjpw': 147523,\n",
       "             'rvstq/wrmm/nlwpspl': 11327531,\n",
       "             'rvstq/wrmm/nlwpspl/bmmmhnbc': 8319096,\n",
       "             'rvstq/wrmm/nlwpspl/bmmmhnbc/bldfbzr': 1198965,\n",
       "             'rvstq/wrmm/nlwpspl/bmmmhnbc/bldfbzr/bqg': 187091,\n",
       "             'rvstq/wrmm/nlwpspl/bmmmhnbc/bldfbzr/nzdgz': 201546,\n",
       "             'rvstq/wrmm/nlwpspl/bmmmhnbc/bldfbzr/nzdgz/nhmts': 105545,\n",
       "             'rvstq/wrmm/nlwpspl/bmmmhnbc/bldfbzr/nzdgz/tqhthh': 96001,\n",
       "             'rvstq/wrmm/nlwpspl/bmmmhnbc/bldfbzr/qjzh': 162159,\n",
       "             'rvstq/wrmm/nlwpspl/bmmmhnbc/cwsf': 1920412,\n",
       "             'rvstq/wrmm/nlwpspl/bmmmhnbc/cwsf/bqg': 269163,\n",
       "             'rvstq/wrmm/nlwpspl/bmmmhnbc/cwsf/frc': 101058,\n",
       "             'rvstq/wrmm/nlwpspl/bmmmhnbc/cwsf/frc/wrmm': 101058,\n",
       "             'rvstq/wrmm/nlwpspl/bmmmhnbc/cwsf/frc/wrmm/ctrbwhpr': 94535,\n",
       "             'rvstq/wrmm/nlwpspl/bmmmhnbc/cwsf/frc/wrmm/shmjt': 6523,\n",
       "             'rvstq/wrmm/nlwpspl/bmmmhnbc/cwsf/jbgrgz': 1133578,\n",
       "             'rvstq/wrmm/nlwpspl/bmmmhnbc/cwsf/jbgrgz/frvlnww': 423143,\n",
       "             'rvstq/wrmm/nlwpspl/bmmmhnbc/cwsf/jbgrgz/qszdtg': 497389,\n",
       "             'rvstq/wrmm/nlwpspl/bmmmhnbc/dmj': 899539,\n",
       "             'rvstq/wrmm/nlwpspl/bmmmhnbc/dmj/bqg': 379291,\n",
       "             'rvstq/wrmm/nlwpspl/bmmmhnbc/dmj/rhd': 353728,\n",
       "             'rvstq/wrmm/nlwpspl/bmmmhnbc/hztjntff': 1030133,\n",
       "             'rvstq/wrmm/nlwpspl/bmmmhnbc/hztjntff/mczrpf': 575675,\n",
       "             'rvstq/wrmm/nlwpspl/bmmmhnbc/hztjntff/mzd': 26174,\n",
       "             'rvstq/wrmm/nlwpspl/bmmmhnbc/wmgwfvq': 2461483,\n",
       "             'rvstq/wrmm/nlwpspl/bmmmhnbc/wmgwfvq/hztjntff': 1953875,\n",
       "             'rvstq/wrmm/nlwpspl/bmmmhnbc/wmgwfvq/hztjntff/bqg': 14092,\n",
       "             'rvstq/wrmm/nlwpspl/bmmmhnbc/wmgwfvq/hztjntff/vhdqhfqv': 350269,\n",
       "             'rvstq/wrmm/nlwpspl/bmmmhnbc/wmgwfvq/hztjntff/wrmm': 1010276,\n",
       "             'rvstq/wrmm/nlwpspl/bmmmhnbc/wmgwfvq/hztjntff/wrmm/grlgcgrl': 164027,\n",
       "             'rvstq/wrmm/nlwpspl/bmmmhnbc/wmgwfvq/hztjntff/wrmm/nmm': 101722,\n",
       "             'rvstq/wrmm/nlwpspl/bmmmhnbc/wmgwfvq/hztjntff/wrmm/tlrztbh': 213889,\n",
       "             'rvstq/wrmm/nlwpspl/bmmmhnbc/wmgwfvq/rvwhms': 314729,\n",
       "             'rvstq/wrmm/nlwpspl/jjjdlj': 624936,\n",
       "             'rvstq/wrmm/nlwpspl/jjjdlj/dnpf': 258139,\n",
       "             'rvstq/wrmm/nlwpspl/jjjdlj/mwlvndml': 366797,\n",
       "             'rvstq/wrmm/nlwpspl/jjjdlj/mwlvndml/nzdgz': 111500,\n",
       "             'rvstq/wrmm/nlwpspl/vctf': 1619354,\n",
       "             'rvstq/wrmm/nlwpspl/vctf/bqg': 219667,\n",
       "             'rvstq/wrmm/nlwpspl/vctf/gcgqr': 71948,\n",
       "             'rvstq/wrmm/nlwpspl/vctf/vbqjbq': 329159,\n",
       "             'rvstq/wrmm/nlwpspl/vctf/vbqjbq/sltqnp': 329159,\n",
       "             'rvstq/wrmm/qwvjnwsf': 636686,\n",
       "             'rvstq/wrmm/qwvjnwsf/hqlv': 250002,\n",
       "             'rvstq/wrsmnpwf': 205662,\n",
       "             'sjt': 19895931,\n",
       "             'sjt/cwsf': 3432257,\n",
       "             'sjt/cwsf/dtpf': 417193,\n",
       "             'sjt/cwsf/fjtsb': 489881,\n",
       "             'sjt/cwsf/gdnnndj': 1480623,\n",
       "             'sjt/cwsf/gdnnndj/sljmpls': 1245914,\n",
       "             'sjt/cwsf/gdnnndj/sljmpls/cnzhjqbm': 196818,\n",
       "             'sjt/cwsf/gdnnndj/sljmpls/cttgctwb': 270727,\n",
       "             'sjt/cwsf/gdnnndj/sljmpls/cttgctwb/bqg': 270727,\n",
       "             'sjt/cwsf/gdnnndj/sljmpls/rwwmcmt': 363451,\n",
       "             'sjt/cwsf/gdnnndj/zhn': 234709,\n",
       "             'sjt/cwsf/gdnnndj/zhn/mpfvnslm': 83650,\n",
       "             'sjt/cwsf/gdnnndj/zhn/mpfvnslm/qvtr': 83650,\n",
       "             'sjt/cwsf/gdnnndj/zhn/zlqns': 36937,\n",
       "             'sjt/cwsf/mfbp': 199935,\n",
       "             'sjt/cwsf/nzdgz': 121541,\n",
       "             'sjt/cwsf/zclzqz': 274497,\n",
       "             'sjt/nzdgz': 781615,\n",
       "             'sjt/nzdgz/qscww': 421186,\n",
       "             'sjt/nzdgz/tdthnm': 360429,\n",
       "             'sjt/nzdgz/tdthnm/hmq': 172261,\n",
       "             'sjt/nzdgz/tdthnm/tcdm': 188168,\n",
       "             'sjt/qsd': 1389061,\n",
       "             'sjt/qsd/bqg': 1102048,\n",
       "             'sjt/qsd/bqg/mnrrmcc': 33961,\n",
       "             'sjt/qsd/pbfc': 287013,\n",
       "             'sjt/qsd/pbfc/hwbdld': 287013,\n",
       "             'sjt/rdzsr': 45590,\n",
       "             'sjt/zgrf': 12731614,\n",
       "             'sjt/zgrf/bqg': 188545,\n",
       "             'sjt/zgrf/cbc': 930034,\n",
       "             'sjt/zgrf/cbc/dsmmcjtg': 343038,\n",
       "             'sjt/zgrf/cbc/wrmm': 207747,\n",
       "             'sjt/zgrf/cclw': 245438,\n",
       "             'sjt/zgrf/cwsf': 607626,\n",
       "             'sjt/zgrf/fph': 1014910,\n",
       "             'sjt/zgrf/fph/hztjntff': 380534,\n",
       "             'sjt/zgrf/fph/mbgv': 890,\n",
       "             'sjt/zgrf/fph/nbzvd': 95080,\n",
       "             'sjt/zgrf/fph/tzjtsqlj': 224995,\n",
       "             'sjt/zgrf/hvvvv': 361113,\n",
       "             'sjt/zgrf/hvvvv/zrpvfzz': 361113,\n",
       "             'sjt/zgrf/hvvvv/zrpvfzz/nlcds': 80960,\n",
       "             'sjt/zgrf/hztjntff': 6979736,\n",
       "             'sjt/zgrf/hztjntff/fwmvqhj': 1146246,\n",
       "             'sjt/zgrf/hztjntff/fwmvqhj/cwsf': 552249,\n",
       "             'sjt/zgrf/hztjntff/fwmvqhj/hjgpzwf': 157649,\n",
       "             'sjt/zgrf/hztjntff/fwmvqhj/njtbnt': 87474,\n",
       "             'sjt/zgrf/hztjntff/fwmvqhj/njtbnt/lvhqrjzn': 11465,\n",
       "             'sjt/zgrf/hztjntff/fwmvqhj/njtbnt/mgtjfhvf': 44518,\n",
       "             'sjt/zgrf/hztjntff/fwmvqhj/njtbnt/mgtjfhvf/wmnwrn': 44518,\n",
       "             'sjt/zgrf/hztjntff/hnwn': 361483,\n",
       "             'sjt/zgrf/hztjntff/hnwn/bqg': 96072,\n",
       "             'sjt/zgrf/hztjntff/wrmm': 4582300,\n",
       "             'sjt/zgrf/hztjntff/wrmm/jgdjp': 165322,\n",
       "             'sjt/zgrf/hztjntff/wrmm/qzlt': 3044591,\n",
       "             'sjt/zgrf/hztjntff/wrmm/qzlt/jcgt': 199928,\n",
       "             'sjt/zgrf/hztjntff/wrmm/qzlt/vmsnrhb': 2292394,\n",
       "             'sjt/zgrf/hztjntff/wrmm/qzlt/vmsnrhb/csvhwb': 1363873,\n",
       "             'sjt/zgrf/hztjntff/wrmm/qzlt/vmsnrhb/csvhwb/hztjntff': 270565,\n",
       "             'sjt/zgrf/hztjntff/wrmm/qzlt/vmsnrhb/csvhwb/prqf': 782438,\n",
       "             'sjt/zgrf/hztjntff/wrmm/qzlt/vmsnrhb/mnwwdf': 161210,\n",
       "             'sjt/zgrf/hztjntff/wrmm/qzlt/vmsnrhb/pzwvh': 767311,\n",
       "             'sjt/zgrf/hztjntff/wrmm/qzlt/vmsnrhb/pzwvh/jbhjjjs': 48808,\n",
       "             'sjt/zgrf/hztjntff/wrmm/qzlt/vmsnrhb/pzwvh/lql': 101686,\n",
       "             'sjt/zgrf/hztjntff/wrmm/qzlt/vmsnrhb/pzwvh/lql/tzcjpj': 101686,\n",
       "             'sjt/zgrf/hztjntff/wrmm/qzlt/vmsnrhb/pzwvh/wcrsqtz': 562973,\n",
       "             'sjt/zgrf/hztjntff/wrmm/qzlt/vmsnrhb/pzwvh/wcrsqtz/rngvpc': 220454,\n",
       "             'sjt/zgrf/hztjntff/wrmm/qzlt/wrmm': 507506,\n",
       "             'sjt/zgrf/hztjntff/wrmm/qzlt/wrmm/mvrqsc': 507506,\n",
       "             'sjt/zgrf/hztjntff/wrmm/tmzgrts': 446496,\n",
       "             'sjt/zgrf/hztjntff/wrmm/tmzgrts/jrbjdghc': 85458,\n",
       "             'sjt/zgrf/tqqqv': 1907608,\n",
       "             'sjt/zgrf/tqqqv/qmwpfp': 1548811,\n",
       "             'sjt/zgrf/tqqqv/qmwpfp/cwsf': 827155,\n",
       "             'sjt/zgrf/tqqqv/qmwpfp/cwsf/wlpcb': 280918,\n",
       "             'sjt/zgrf/tqqqv/qmwpfp/lndh': 433170,\n",
       "             'sjt/zgrf/tqqqv/qmwpfp/nvjsvvln': 288486,\n",
       "             'sjt/zmtmr': 1188290,\n",
       "             'sjt/zmtmr/sms': 283543,\n",
       "             'sjt/zmtmr/vdn': 327156,\n",
       "             'sjt/zmtmr/vdqmtjw': 291828,\n",
       "             'wrmm': 366424})"
      ]
     },
     "execution_count": 430,
     "metadata": {},
     "output_type": "execute_result"
    }
   ],
   "source": [
    "dir_sizes"
   ]
  },
  {
   "cell_type": "code",
   "execution_count": null,
   "id": "64363e57-b831-4140-940b-dcaaa80b262c",
   "metadata": {},
   "outputs": [],
   "source": []
  },
  {
   "cell_type": "code",
   "execution_count": 121,
   "id": "f699f20a-102f-420c-abca-43feca9c6986",
   "metadata": {},
   "outputs": [
    {
     "data": {
      "text/plain": [
       "428307"
      ]
     },
     "execution_count": 121,
     "metadata": {},
     "output_type": "execute_result"
    }
   ],
   "source": [
    "addUpFiles(fs)"
   ]
  },
  {
   "cell_type": "code",
   "execution_count": 137,
   "id": "767dccb4-eec9-4703-9c09-9fc925568c2d",
   "metadata": {},
   "outputs": [],
   "source": []
  },
  {
   "cell_type": "code",
   "execution_count": 139,
   "id": "d503434f-d6b3-44d0-8da3-9d546960cdda",
   "metadata": {},
   "outputs": [
    {
     "name": "stdout",
     "output_type": "stream",
     "text": [
      "hztjntff\n",
      "cwsf\n",
      "msr\n"
     ]
    },
    {
     "data": {
      "text/plain": [
       "0"
      ]
     },
     "execution_count": 139,
     "metadata": {},
     "output_type": "execute_result"
    }
   ],
   "source": [
    "traverse(fs.subfolders['hztjntff'])"
   ]
  },
  {
   "cell_type": "code",
   "execution_count": 114,
   "id": "7c6227ec-9809-4a72-988d-d0b31d41f8c3",
   "metadata": {},
   "outputs": [
    {
     "name": "stdout",
     "output_type": "stream",
     "text": [
      "<__main__.folder object at 0x2aaaf851c850>\n",
      "<__main__.folder object at 0x2aaaf851c8e0>\n",
      "<__main__.folder object at 0x2aaaf851c790>\n",
      "<__main__.folder object at 0x2aaaf8505760>\n",
      "<__main__.folder object at 0x2aaaf954b1c0>\n"
     ]
    }
   ],
   "source": [
    "for curdir,fol in fs.subfolders.items():\n",
    "    for fol.subfolder.items()\n",
    "    "
   ]
  },
  {
   "cell_type": "code",
   "execution_count": 107,
   "id": "db6a4e90-c1d2-48d7-8f0f-a896c273f0b8",
   "metadata": {},
   "outputs": [
    {
     "data": {
      "text/plain": [
       "{'dfmhjhd': <__main__.folder at 0x2aaaf851c850>,\n",
       " 'hztjntff': <__main__.folder at 0x2aaaf851c8e0>,\n",
       " 'rvstq': <__main__.folder at 0x2aaaf851c790>,\n",
       " 'sjt': <__main__.folder at 0x2aaaf8505760>,\n",
       " 'wrmm': <__main__.folder at 0x2aaaf954b1c0>}"
      ]
     },
     "execution_count": 107,
     "metadata": {},
     "output_type": "execute_result"
    }
   ],
   "source": [
    "fs.subfolders"
   ]
  },
  {
   "cell_type": "code",
   "execution_count": null,
   "id": "c62a9dc5-3012-4a16-954f-7f8cc4345653",
   "metadata": {},
   "outputs": [],
   "source": []
  }
 ],
 "metadata": {
  "kernelspec": {
   "display_name": "cuda11_torch",
   "language": "python",
   "name": "cuda11_torch"
  },
  "language_info": {
   "codemirror_mode": {
    "name": "ipython",
    "version": 3
   },
   "file_extension": ".py",
   "mimetype": "text/x-python",
   "name": "python",
   "nbconvert_exporter": "python",
   "pygments_lexer": "ipython3",
   "version": "3.9.13"
  }
 },
 "nbformat": 4,
 "nbformat_minor": 5
}
