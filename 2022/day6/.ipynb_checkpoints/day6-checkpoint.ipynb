{
 "cells": [
  {
   "cell_type": "markdown",
   "id": "a7ddf81d-105c-4d08-b960-4fcda7e5475e",
   "metadata": {},
   "source": [
    "# Day 6"
   ]
  },
  {
   "cell_type": "code",
   "execution_count": 1,
   "id": "2d725c9b-3366-4d68-aa51-6d33a1d5960b",
   "metadata": {},
   "outputs": [],
   "source": [
    "import pandas as pd\n",
    "import numpy as np"
   ]
  },
  {
   "cell_type": "code",
   "execution_count": 2,
   "id": "16715a98-a4dc-47d1-8b52-313f11062432",
   "metadata": {},
   "outputs": [],
   "source": [
    "with open('input.txt') as fin:\n",
    "    line = fin.readlines()"
   ]
  },
  {
   "cell_type": "code",
   "execution_count": 7,
   "id": "23ef7541-bf6f-4548-bfd1-ed872c753e58",
   "metadata": {},
   "outputs": [],
   "source": [
    "signal = line[0].rstrip()"
   ]
  },
  {
   "cell_type": "code",
   "execution_count": 11,
   "id": "604f8731-c6eb-44d0-ad42-abd594a14f13",
   "metadata": {},
   "outputs": [
    {
     "data": {
      "text/plain": [
       "4095"
      ]
     },
     "execution_count": 11,
     "metadata": {},
     "output_type": "execute_result"
    }
   ],
   "source": [
    "len(signal)\n"
   ]
  },
  {
   "cell_type": "code",
   "execution_count": 21,
   "id": "34897845-af1f-47b1-8b25-348aa3cc1b98",
   "metadata": {},
   "outputs": [
    {
     "data": {
      "text/html": [
       "<div>\n",
       "<style scoped>\n",
       "    .dataframe tbody tr th:only-of-type {\n",
       "        vertical-align: middle;\n",
       "    }\n",
       "\n",
       "    .dataframe tbody tr th {\n",
       "        vertical-align: top;\n",
       "    }\n",
       "\n",
       "    .dataframe thead th {\n",
       "        text-align: right;\n",
       "    }\n",
       "</style>\n",
       "<table border=\"1\" class=\"dataframe\">\n",
       "  <thead>\n",
       "    <tr style=\"text-align: right;\">\n",
       "      <th></th>\n",
       "      <th>0</th>\n",
       "      <th>1</th>\n",
       "      <th>2</th>\n",
       "      <th>3</th>\n",
       "    </tr>\n",
       "  </thead>\n",
       "  <tbody>\n",
       "    <tr>\n",
       "      <th>0</th>\n",
       "      <td>d</td>\n",
       "      <td>f</td>\n",
       "      <td>s</td>\n",
       "      <td>f</td>\n",
       "    </tr>\n",
       "  </tbody>\n",
       "</table>\n",
       "</div>"
      ],
      "text/plain": [
       "   0  1  2  3\n",
       "0  d  f  s  f"
      ]
     },
     "execution_count": 21,
     "metadata": {},
     "output_type": "execute_result"
    }
   ],
   "source": [
    "pd.DataFrame(sig_window).transpose()"
   ]
  },
  {
   "cell_type": "code",
   "execution_count": 139,
   "id": "fdabf9c2-aa06-4063-8acf-61ce026534ca",
   "metadata": {},
   "outputs": [],
   "source": [
    "sig_windows = pd.DataFrame()\n",
    "sig = list(signal)\n",
    "for x in range(0,len(signal)-3):\n",
    "    sig_window = sig[x:x+4]\n",
    "    sig_windows = pd.concat([sig_windows,pd.DataFrame(sig_window).transpose()])"
   ]
  },
  {
   "cell_type": "code",
   "execution_count": 140,
   "id": "e108e039-7246-4031-b4f6-07f6a1ed00f3",
   "metadata": {},
   "outputs": [],
   "source": [
    "res = []\n",
    "for num, row in sig_windows.iterrows():\n",
    "    res.append(len(row.unique()) == 4)"
   ]
  },
  {
   "cell_type": "code",
   "execution_count": 141,
   "id": "bc602b74-34db-47c6-90c9-74b2ffaaa3fb",
   "metadata": {},
   "outputs": [],
   "source": [
    "sig_windows['unique'] = res"
   ]
  },
  {
   "cell_type": "code",
   "execution_count": 142,
   "id": "fef51be4-677a-4766-92ee-3c517c1bd284",
   "metadata": {},
   "outputs": [],
   "source": [
    "sig_windows = sig_windows.reset_index()"
   ]
  },
  {
   "cell_type": "code",
   "execution_count": 143,
   "id": "89928225-e92c-48ae-8b79-776f581c9f4a",
   "metadata": {},
   "outputs": [
    {
     "data": {
      "text/html": [
       "<div>\n",
       "<style scoped>\n",
       "    .dataframe tbody tr th:only-of-type {\n",
       "        vertical-align: middle;\n",
       "    }\n",
       "\n",
       "    .dataframe tbody tr th {\n",
       "        vertical-align: top;\n",
       "    }\n",
       "\n",
       "    .dataframe thead th {\n",
       "        text-align: right;\n",
       "    }\n",
       "</style>\n",
       "<table border=\"1\" class=\"dataframe\">\n",
       "  <thead>\n",
       "    <tr style=\"text-align: right;\">\n",
       "      <th></th>\n",
       "      <th>index</th>\n",
       "      <th>0</th>\n",
       "      <th>1</th>\n",
       "      <th>2</th>\n",
       "      <th>3</th>\n",
       "      <th>unique</th>\n",
       "    </tr>\n",
       "  </thead>\n",
       "  <tbody>\n",
       "    <tr>\n",
       "      <th>1643</th>\n",
       "      <td>0</td>\n",
       "      <td>d</td>\n",
       "      <td>s</td>\n",
       "      <td>j</td>\n",
       "      <td>t</td>\n",
       "      <td>True</td>\n",
       "    </tr>\n",
       "    <tr>\n",
       "      <th>1644</th>\n",
       "      <td>0</td>\n",
       "      <td>s</td>\n",
       "      <td>j</td>\n",
       "      <td>t</td>\n",
       "      <td>z</td>\n",
       "      <td>True</td>\n",
       "    </tr>\n",
       "    <tr>\n",
       "      <th>1645</th>\n",
       "      <td>0</td>\n",
       "      <td>j</td>\n",
       "      <td>t</td>\n",
       "      <td>z</td>\n",
       "      <td>v</td>\n",
       "      <td>True</td>\n",
       "    </tr>\n",
       "    <tr>\n",
       "      <th>1646</th>\n",
       "      <td>0</td>\n",
       "      <td>t</td>\n",
       "      <td>z</td>\n",
       "      <td>v</td>\n",
       "      <td>f</td>\n",
       "      <td>True</td>\n",
       "    </tr>\n",
       "    <tr>\n",
       "      <th>1647</th>\n",
       "      <td>0</td>\n",
       "      <td>z</td>\n",
       "      <td>v</td>\n",
       "      <td>f</td>\n",
       "      <td>m</td>\n",
       "      <td>True</td>\n",
       "    </tr>\n",
       "    <tr>\n",
       "      <th>...</th>\n",
       "      <td>...</td>\n",
       "      <td>...</td>\n",
       "      <td>...</td>\n",
       "      <td>...</td>\n",
       "      <td>...</td>\n",
       "      <td>...</td>\n",
       "    </tr>\n",
       "    <tr>\n",
       "      <th>4086</th>\n",
       "      <td>0</td>\n",
       "      <td>b</td>\n",
       "      <td>p</td>\n",
       "      <td>g</td>\n",
       "      <td>l</td>\n",
       "      <td>True</td>\n",
       "    </tr>\n",
       "    <tr>\n",
       "      <th>4087</th>\n",
       "      <td>0</td>\n",
       "      <td>p</td>\n",
       "      <td>g</td>\n",
       "      <td>l</td>\n",
       "      <td>s</td>\n",
       "      <td>True</td>\n",
       "    </tr>\n",
       "    <tr>\n",
       "      <th>4089</th>\n",
       "      <td>0</td>\n",
       "      <td>l</td>\n",
       "      <td>s</td>\n",
       "      <td>g</td>\n",
       "      <td>t</td>\n",
       "      <td>True</td>\n",
       "    </tr>\n",
       "    <tr>\n",
       "      <th>4090</th>\n",
       "      <td>0</td>\n",
       "      <td>s</td>\n",
       "      <td>g</td>\n",
       "      <td>t</td>\n",
       "      <td>p</td>\n",
       "      <td>True</td>\n",
       "    </tr>\n",
       "    <tr>\n",
       "      <th>4091</th>\n",
       "      <td>0</td>\n",
       "      <td>g</td>\n",
       "      <td>t</td>\n",
       "      <td>p</td>\n",
       "      <td>j</td>\n",
       "      <td>True</td>\n",
       "    </tr>\n",
       "  </tbody>\n",
       "</table>\n",
       "<p>1732 rows × 6 columns</p>\n",
       "</div>"
      ],
      "text/plain": [
       "      index  0  1  2  3  unique\n",
       "1643      0  d  s  j  t    True\n",
       "1644      0  s  j  t  z    True\n",
       "1645      0  j  t  z  v    True\n",
       "1646      0  t  z  v  f    True\n",
       "1647      0  z  v  f  m    True\n",
       "...     ... .. .. .. ..     ...\n",
       "4086      0  b  p  g  l    True\n",
       "4087      0  p  g  l  s    True\n",
       "4089      0  l  s  g  t    True\n",
       "4090      0  s  g  t  p    True\n",
       "4091      0  g  t  p  j    True\n",
       "\n",
       "[1732 rows x 6 columns]"
      ]
     },
     "execution_count": 143,
     "metadata": {},
     "output_type": "execute_result"
    }
   ],
   "source": [
    "sig_windows[sig_windows['unique'] == True]"
   ]
  },
  {
   "cell_type": "code",
   "execution_count": 144,
   "id": "caf471d9-b2d1-43e1-89b9-a977f330dcd0",
   "metadata": {},
   "outputs": [
    {
     "data": {
      "text/plain": [
       "Int64Index([1647, 1648, 1649, 1650, 1651, 1652, 1653, 1654, 1655, 1660,\n",
       "            ...\n",
       "            4083, 4084, 4087, 4088, 4089, 4090, 4091, 4093, 4094, 4095],\n",
       "           dtype='int64', length=1732)"
      ]
     },
     "execution_count": 144,
     "metadata": {},
     "output_type": "execute_result"
    }
   ],
   "source": [
    "sig_windows[sig_windows['unique'] == True].index+4"
   ]
  }
 ],
 "metadata": {
  "kernelspec": {
   "display_name": "cuda11_torch",
   "language": "python",
   "name": "cuda11_torch"
  },
  "language_info": {
   "codemirror_mode": {
    "name": "ipython",
    "version": 3
   },
   "file_extension": ".py",
   "mimetype": "text/x-python",
   "name": "python",
   "nbconvert_exporter": "python",
   "pygments_lexer": "ipython3",
   "version": "3.9.13"
  }
 },
 "nbformat": 4,
 "nbformat_minor": 5
}
