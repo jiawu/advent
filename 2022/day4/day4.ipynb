{
 "cells": [
  {
   "cell_type": "code",
   "execution_count": 1,
   "id": "e28ec182-137f-421d-a40b-b52e5d78edde",
   "metadata": {},
   "outputs": [],
   "source": [
    "import pandas as pd"
   ]
  },
  {
   "cell_type": "code",
   "execution_count": 5,
   "id": "7d9c0901-5aae-4a0f-b65c-00e3dd77fcd1",
   "metadata": {},
   "outputs": [],
   "source": [
    "df=pd.read_csv('input.txt', header=None)"
   ]
  },
  {
   "cell_type": "code",
   "execution_count": 11,
   "id": "e5c1f90b-21f4-4cf1-ba70-4fbbe2370d6e",
   "metadata": {},
   "outputs": [],
   "source": [
    "df['elf1']=df[0].str.split('-')\n",
    "df['elf2']=df[1].str.split('-')"
   ]
  },
  {
   "cell_type": "code",
   "execution_count": 31,
   "id": "e8390eae-4734-44e0-917c-30e58248193f",
   "metadata": {},
   "outputs": [],
   "source": [
    "all_elf1 = []\n",
    "all_elf2 = []\n",
    "\n",
    "for i in range(0,1000):\n",
    "    elf1_l = ([x for x in range(int(df['elf1'].iloc[i][0]), int(df['elf1'].iloc[i][1])+1)])\n",
    "    elf2_l = ([x for x in range(int(df['elf2'].iloc[i][0]), int(df['elf2'].iloc[i][1])+1)])\n",
    "    all_elf1.append(elf1_l)\n",
    "    all_elf2.append(elf2_l)"
   ]
  },
  {
   "cell_type": "code",
   "execution_count": 34,
   "id": "f835a195-5b5f-4b2e-b776-e1fd6c0f7b98",
   "metadata": {},
   "outputs": [],
   "source": [
    "df['all_elf1'] = all_elf1\n",
    "df['all_elf2'] = all_elf2"
   ]
  },
  {
   "cell_type": "code",
   "execution_count": 65,
   "id": "fa67b8d9-2146-4bb9-a437-5870dd4abb11",
   "metadata": {},
   "outputs": [],
   "source": [
    "contains = []\n",
    "intersections = []\n",
    "for i, row in df.iterrows():\n",
    "    interse=set(row['all_elf1']).intersection(set(row['all_elf2']))\n",
    "    intersections.append(interse)\n",
    "    if len(list(interse)) == len(row['all_elf1']) or len(list(interse)) == len(row['all_elf2']):\n",
    "        contains.append(True)\n",
    "    else:\n",
    "        contains.append(False)\n",
    "            "
   ]
  },
  {
   "cell_type": "code",
   "execution_count": 66,
   "id": "57a0daa2-a494-4da3-aadd-c1da411204c2",
   "metadata": {},
   "outputs": [],
   "source": [
    "df['interse'] = intersections\n",
    "df['contains'] = contains"
   ]
  },
  {
   "cell_type": "code",
   "execution_count": 67,
   "id": "95e2d660-e3a7-4571-bbdf-7bf9f79b5bac",
   "metadata": {},
   "outputs": [
    {
     "data": {
      "text/html": [
       "<div>\n",
       "<style scoped>\n",
       "    .dataframe tbody tr th:only-of-type {\n",
       "        vertical-align: middle;\n",
       "    }\n",
       "\n",
       "    .dataframe tbody tr th {\n",
       "        vertical-align: top;\n",
       "    }\n",
       "\n",
       "    .dataframe thead th {\n",
       "        text-align: right;\n",
       "    }\n",
       "</style>\n",
       "<table border=\"1\" class=\"dataframe\">\n",
       "  <thead>\n",
       "    <tr style=\"text-align: right;\">\n",
       "      <th></th>\n",
       "      <th>0</th>\n",
       "      <th>1</th>\n",
       "      <th>elf1</th>\n",
       "      <th>elf2</th>\n",
       "      <th>all_elf1</th>\n",
       "      <th>all_elf2</th>\n",
       "      <th>contains</th>\n",
       "      <th>interse</th>\n",
       "    </tr>\n",
       "  </thead>\n",
       "  <tbody>\n",
       "    <tr>\n",
       "      <th>0</th>\n",
       "      <td>71-71</td>\n",
       "      <td>42-72</td>\n",
       "      <td>[71, 71]</td>\n",
       "      <td>[42, 72]</td>\n",
       "      <td>[71]</td>\n",
       "      <td>[42, 43, 44, 45, 46, 47, 48, 49, 50, 51, 52, 5...</td>\n",
       "      <td>True</td>\n",
       "      <td>{71}</td>\n",
       "    </tr>\n",
       "    <tr>\n",
       "      <th>1</th>\n",
       "      <td>27-28</td>\n",
       "      <td>27-99</td>\n",
       "      <td>[27, 28]</td>\n",
       "      <td>[27, 99]</td>\n",
       "      <td>[27, 28]</td>\n",
       "      <td>[27, 28, 29, 30, 31, 32, 33, 34, 35, 36, 37, 3...</td>\n",
       "      <td>True</td>\n",
       "      <td>{27, 28}</td>\n",
       "    </tr>\n",
       "    <tr>\n",
       "      <th>2</th>\n",
       "      <td>15-79</td>\n",
       "      <td>14-78</td>\n",
       "      <td>[15, 79]</td>\n",
       "      <td>[14, 78]</td>\n",
       "      <td>[15, 16, 17, 18, 19, 20, 21, 22, 23, 24, 25, 2...</td>\n",
       "      <td>[14, 15, 16, 17, 18, 19, 20, 21, 22, 23, 24, 2...</td>\n",
       "      <td>False</td>\n",
       "      <td>{15, 16, 17, 18, 19, 20, 21, 22, 23, 24, 25, 2...</td>\n",
       "    </tr>\n",
       "    <tr>\n",
       "      <th>3</th>\n",
       "      <td>3-36</td>\n",
       "      <td>4-36</td>\n",
       "      <td>[3, 36]</td>\n",
       "      <td>[4, 36]</td>\n",
       "      <td>[3, 4, 5, 6, 7, 8, 9, 10, 11, 12, 13, 14, 15, ...</td>\n",
       "      <td>[4, 5, 6, 7, 8, 9, 10, 11, 12, 13, 14, 15, 16,...</td>\n",
       "      <td>True</td>\n",
       "      <td>{4, 5, 6, 7, 8, 9, 10, 11, 12, 13, 14, 15, 16,...</td>\n",
       "    </tr>\n",
       "    <tr>\n",
       "      <th>4</th>\n",
       "      <td>5-67</td>\n",
       "      <td>32-57</td>\n",
       "      <td>[5, 67]</td>\n",
       "      <td>[32, 57]</td>\n",
       "      <td>[5, 6, 7, 8, 9, 10, 11, 12, 13, 14, 15, 16, 17...</td>\n",
       "      <td>[32, 33, 34, 35, 36, 37, 38, 39, 40, 41, 42, 4...</td>\n",
       "      <td>True</td>\n",
       "      <td>{32, 33, 34, 35, 36, 37, 38, 39, 40, 41, 42, 4...</td>\n",
       "    </tr>\n",
       "    <tr>\n",
       "      <th>...</th>\n",
       "      <td>...</td>\n",
       "      <td>...</td>\n",
       "      <td>...</td>\n",
       "      <td>...</td>\n",
       "      <td>...</td>\n",
       "      <td>...</td>\n",
       "      <td>...</td>\n",
       "      <td>...</td>\n",
       "    </tr>\n",
       "    <tr>\n",
       "      <th>995</th>\n",
       "      <td>46-63</td>\n",
       "      <td>38-62</td>\n",
       "      <td>[46, 63]</td>\n",
       "      <td>[38, 62]</td>\n",
       "      <td>[46, 47, 48, 49, 50, 51, 52, 53, 54, 55, 56, 5...</td>\n",
       "      <td>[38, 39, 40, 41, 42, 43, 44, 45, 46, 47, 48, 4...</td>\n",
       "      <td>False</td>\n",
       "      <td>{46, 47, 48, 49, 50, 51, 52, 53, 54, 55, 56, 5...</td>\n",
       "    </tr>\n",
       "    <tr>\n",
       "      <th>996</th>\n",
       "      <td>31-95</td>\n",
       "      <td>3-94</td>\n",
       "      <td>[31, 95]</td>\n",
       "      <td>[3, 94]</td>\n",
       "      <td>[31, 32, 33, 34, 35, 36, 37, 38, 39, 40, 41, 4...</td>\n",
       "      <td>[3, 4, 5, 6, 7, 8, 9, 10, 11, 12, 13, 14, 15, ...</td>\n",
       "      <td>False</td>\n",
       "      <td>{31, 32, 33, 34, 35, 36, 37, 38, 39, 40, 41, 4...</td>\n",
       "    </tr>\n",
       "    <tr>\n",
       "      <th>997</th>\n",
       "      <td>76-82</td>\n",
       "      <td>41-75</td>\n",
       "      <td>[76, 82]</td>\n",
       "      <td>[41, 75]</td>\n",
       "      <td>[76, 77, 78, 79, 80, 81, 82]</td>\n",
       "      <td>[41, 42, 43, 44, 45, 46, 47, 48, 49, 50, 51, 5...</td>\n",
       "      <td>False</td>\n",
       "      <td>{}</td>\n",
       "    </tr>\n",
       "    <tr>\n",
       "      <th>998</th>\n",
       "      <td>87-88</td>\n",
       "      <td>4-88</td>\n",
       "      <td>[87, 88]</td>\n",
       "      <td>[4, 88]</td>\n",
       "      <td>[87, 88]</td>\n",
       "      <td>[4, 5, 6, 7, 8, 9, 10, 11, 12, 13, 14, 15, 16,...</td>\n",
       "      <td>True</td>\n",
       "      <td>{88, 87}</td>\n",
       "    </tr>\n",
       "    <tr>\n",
       "      <th>999</th>\n",
       "      <td>21-33</td>\n",
       "      <td>20-32</td>\n",
       "      <td>[21, 33]</td>\n",
       "      <td>[20, 32]</td>\n",
       "      <td>[21, 22, 23, 24, 25, 26, 27, 28, 29, 30, 31, 3...</td>\n",
       "      <td>[20, 21, 22, 23, 24, 25, 26, 27, 28, 29, 30, 3...</td>\n",
       "      <td>False</td>\n",
       "      <td>{32, 21, 22, 23, 24, 25, 26, 27, 28, 29, 30, 31}</td>\n",
       "    </tr>\n",
       "  </tbody>\n",
       "</table>\n",
       "<p>1000 rows × 8 columns</p>\n",
       "</div>"
      ],
      "text/plain": [
       "         0      1      elf1      elf2  \\\n",
       "0    71-71  42-72  [71, 71]  [42, 72]   \n",
       "1    27-28  27-99  [27, 28]  [27, 99]   \n",
       "2    15-79  14-78  [15, 79]  [14, 78]   \n",
       "3     3-36   4-36   [3, 36]   [4, 36]   \n",
       "4     5-67  32-57   [5, 67]  [32, 57]   \n",
       "..     ...    ...       ...       ...   \n",
       "995  46-63  38-62  [46, 63]  [38, 62]   \n",
       "996  31-95   3-94  [31, 95]   [3, 94]   \n",
       "997  76-82  41-75  [76, 82]  [41, 75]   \n",
       "998  87-88   4-88  [87, 88]   [4, 88]   \n",
       "999  21-33  20-32  [21, 33]  [20, 32]   \n",
       "\n",
       "                                              all_elf1  \\\n",
       "0                                                 [71]   \n",
       "1                                             [27, 28]   \n",
       "2    [15, 16, 17, 18, 19, 20, 21, 22, 23, 24, 25, 2...   \n",
       "3    [3, 4, 5, 6, 7, 8, 9, 10, 11, 12, 13, 14, 15, ...   \n",
       "4    [5, 6, 7, 8, 9, 10, 11, 12, 13, 14, 15, 16, 17...   \n",
       "..                                                 ...   \n",
       "995  [46, 47, 48, 49, 50, 51, 52, 53, 54, 55, 56, 5...   \n",
       "996  [31, 32, 33, 34, 35, 36, 37, 38, 39, 40, 41, 4...   \n",
       "997                       [76, 77, 78, 79, 80, 81, 82]   \n",
       "998                                           [87, 88]   \n",
       "999  [21, 22, 23, 24, 25, 26, 27, 28, 29, 30, 31, 3...   \n",
       "\n",
       "                                              all_elf2  contains  \\\n",
       "0    [42, 43, 44, 45, 46, 47, 48, 49, 50, 51, 52, 5...      True   \n",
       "1    [27, 28, 29, 30, 31, 32, 33, 34, 35, 36, 37, 3...      True   \n",
       "2    [14, 15, 16, 17, 18, 19, 20, 21, 22, 23, 24, 2...     False   \n",
       "3    [4, 5, 6, 7, 8, 9, 10, 11, 12, 13, 14, 15, 16,...      True   \n",
       "4    [32, 33, 34, 35, 36, 37, 38, 39, 40, 41, 42, 4...      True   \n",
       "..                                                 ...       ...   \n",
       "995  [38, 39, 40, 41, 42, 43, 44, 45, 46, 47, 48, 4...     False   \n",
       "996  [3, 4, 5, 6, 7, 8, 9, 10, 11, 12, 13, 14, 15, ...     False   \n",
       "997  [41, 42, 43, 44, 45, 46, 47, 48, 49, 50, 51, 5...     False   \n",
       "998  [4, 5, 6, 7, 8, 9, 10, 11, 12, 13, 14, 15, 16,...      True   \n",
       "999  [20, 21, 22, 23, 24, 25, 26, 27, 28, 29, 30, 3...     False   \n",
       "\n",
       "                                               interse  \n",
       "0                                                 {71}  \n",
       "1                                             {27, 28}  \n",
       "2    {15, 16, 17, 18, 19, 20, 21, 22, 23, 24, 25, 2...  \n",
       "3    {4, 5, 6, 7, 8, 9, 10, 11, 12, 13, 14, 15, 16,...  \n",
       "4    {32, 33, 34, 35, 36, 37, 38, 39, 40, 41, 42, 4...  \n",
       "..                                                 ...  \n",
       "995  {46, 47, 48, 49, 50, 51, 52, 53, 54, 55, 56, 5...  \n",
       "996  {31, 32, 33, 34, 35, 36, 37, 38, 39, 40, 41, 4...  \n",
       "997                                                 {}  \n",
       "998                                           {88, 87}  \n",
       "999   {32, 21, 22, 23, 24, 25, 26, 27, 28, 29, 30, 31}  \n",
       "\n",
       "[1000 rows x 8 columns]"
      ]
     },
     "execution_count": 67,
     "metadata": {},
     "output_type": "execute_result"
    }
   ],
   "source": [
    "df"
   ]
  },
  {
   "cell_type": "code",
   "execution_count": 72,
   "id": "dbadb493-3349-4c7f-94e7-cd26cc370607",
   "metadata": {},
   "outputs": [
    {
     "data": {
      "text/plain": [
       "True     571\n",
       "False    429\n",
       "Name: contains, dtype: int64"
      ]
     },
     "execution_count": 72,
     "metadata": {},
     "output_type": "execute_result"
    }
   ],
   "source": [
    "df['contains'].value_counts()"
   ]
  },
  {
   "cell_type": "code",
   "execution_count": 55,
   "id": "e68673f2-4371-4b14-ae4b-d5fd9d8928a2",
   "metadata": {},
   "outputs": [
    {
     "data": {
      "text/plain": [
       "1"
      ]
     },
     "execution_count": 55,
     "metadata": {},
     "output_type": "execute_result"
    }
   ],
   "source": [
    "len(df.iloc[0]['all_elf1'])"
   ]
  },
  {
   "cell_type": "code",
   "execution_count": 58,
   "id": "3d70ffc5-8aa4-4008-a0d9-cb0470f9ac84",
   "metadata": {},
   "outputs": [
    {
     "data": {
      "text/plain": [
       "1"
      ]
     },
     "execution_count": 58,
     "metadata": {},
     "output_type": "execute_result"
    }
   ],
   "source": [
    "len(df.iloc[0]['interse'])"
   ]
  },
  {
   "cell_type": "markdown",
   "id": "dd9e7fda-cc13-4a15-88c2-97de4bda66de",
   "metadata": {},
   "source": [
    "# part 2"
   ]
  },
  {
   "cell_type": "code",
   "execution_count": 77,
   "id": "2d95321a-b5f5-4274-ae1d-32fe0bd543b5",
   "metadata": {},
   "outputs": [],
   "source": [
    "df['overlapping_sections']=df['interse'].apply(lambda x: len(x))"
   ]
  },
  {
   "cell_type": "code",
   "execution_count": 85,
   "id": "f774fb79-6120-4bd8-aeef-873bde182f28",
   "metadata": {},
   "outputs": [],
   "source": [
    "df['is_not_overlapping'] = df['overlapping_sections'] == 0"
   ]
  },
  {
   "cell_type": "code",
   "execution_count": 86,
   "id": "08051668-c912-4ae3-89d7-aaed9635d3c1",
   "metadata": {},
   "outputs": [
    {
     "data": {
      "text/plain": [
       "False    917\n",
       "True      83\n",
       "Name: is_not_overlapping, dtype: int64"
      ]
     },
     "execution_count": 86,
     "metadata": {},
     "output_type": "execute_result"
    }
   ],
   "source": [
    "df['is_not_overlapping'].value_counts()"
   ]
  },
  {
   "cell_type": "code",
   "execution_count": null,
   "id": "ed4a521c-bda5-47d0-9c28-24f4bf273d26",
   "metadata": {},
   "outputs": [],
   "source": []
  }
 ],
 "metadata": {
  "kernelspec": {
   "display_name": "cuda11_torch",
   "language": "python",
   "name": "cuda11_torch"
  },
  "language_info": {
   "codemirror_mode": {
    "name": "ipython",
    "version": 3
   },
   "file_extension": ".py",
   "mimetype": "text/x-python",
   "name": "python",
   "nbconvert_exporter": "python",
   "pygments_lexer": "ipython3",
   "version": "3.9.13"
  }
 },
 "nbformat": 4,
 "nbformat_minor": 5
}
