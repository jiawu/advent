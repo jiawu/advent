{
 "cells": [
  {
   "cell_type": "code",
   "execution_count": 30,
   "id": "d9ebfdfd-fa3b-46a9-9285-241a1318bd99",
   "metadata": {
    "execution": {
     "iopub.execute_input": "2023-12-02T05:12:31.485999Z",
     "iopub.status.busy": "2023-12-02T05:12:31.485661Z",
     "iopub.status.idle": "2023-12-02T05:12:31.488594Z",
     "shell.execute_reply": "2023-12-02T05:12:31.488129Z",
     "shell.execute_reply.started": "2023-12-02T05:12:31.485980Z"
    },
    "tags": []
   },
   "outputs": [],
   "source": [
    "import pandas as pd\n",
    "import re"
   ]
  },
  {
   "cell_type": "code",
   "execution_count": 6,
   "id": "99efa8f5-6267-49eb-b4d3-71cc9ce230af",
   "metadata": {
    "execution": {
     "iopub.execute_input": "2023-12-02T05:05:19.281710Z",
     "iopub.status.busy": "2023-12-02T05:05:19.281090Z",
     "iopub.status.idle": "2023-12-02T05:05:19.284482Z",
     "shell.execute_reply": "2023-12-02T05:05:19.284013Z",
     "shell.execute_reply.started": "2023-12-02T05:05:19.281674Z"
    },
    "tags": []
   },
   "outputs": [],
   "source": [
    "with open(\"input.txt\") as f:\n",
    "    data = f.read().strip()"
   ]
  },
  {
   "cell_type": "code",
   "execution_count": 10,
   "id": "57fab6cf-585a-4f11-a27a-f0eec49e7905",
   "metadata": {
    "execution": {
     "iopub.execute_input": "2023-12-02T05:06:07.061766Z",
     "iopub.status.busy": "2023-12-02T05:06:07.061384Z",
     "iopub.status.idle": "2023-12-02T05:06:07.064513Z",
     "shell.execute_reply": "2023-12-02T05:06:07.064027Z",
     "shell.execute_reply.started": "2023-12-02T05:06:07.061743Z"
    },
    "tags": []
   },
   "outputs": [],
   "source": [
    "parsed = data.split('\\n')"
   ]
  },
  {
   "cell_type": "code",
   "execution_count": 84,
   "id": "f39710cd-729d-42b8-8667-20207af12807",
   "metadata": {
    "execution": {
     "iopub.execute_input": "2023-12-02T05:25:56.018237Z",
     "iopub.status.busy": "2023-12-02T05:25:56.017782Z",
     "iopub.status.idle": "2023-12-02T05:25:56.031661Z",
     "shell.execute_reply": "2023-12-02T05:25:56.030686Z",
     "shell.execute_reply.started": "2023-12-02T05:25:56.018211Z"
    },
    "tags": []
   },
   "outputs": [],
   "source": [
    "g_list = []\n",
    "\n",
    "\n",
    "good_index = []\n",
    "for ind,x in enumerate(parsed):\n",
    "    green_matches = []\n",
    "    red_matches = []\n",
    "    blue_matches = []\n",
    "    g_list.append(x.split(':')[0])\n",
    "    res = x.split(':')[1]\n",
    "    res=res.split(';')\n",
    "    res = [x.strip() for x in res]\n",
    "    for x in res:\n",
    "        green_matches.extend([x.group().strip(' green') for x in re.finditer(r'\\d+ green', x)])\n",
    "        red_matches.extend([x.group().strip(' red') for x in re.finditer(r'\\d+ red', x)])\n",
    "        blue_matches.extend([x.group().strip(' blue') for x in re.finditer(r'\\d+ blue', x)])\n",
    "    \n",
    "    isBad = any([True for x in red_matches if int(x) > 12]) | any([True for x in green_matches if int(x) > 13]) | any([True for x in blue_matches if int(x) > 14])\n",
    "    if not isBad:\n",
    "        good_index.append(ind+1)\n",
    "    "
   ]
  },
  {
   "cell_type": "code",
   "execution_count": 86,
   "id": "4b50548c-a7be-44ed-9910-31e98a80758a",
   "metadata": {
    "execution": {
     "iopub.execute_input": "2023-12-02T05:26:02.486048Z",
     "iopub.status.busy": "2023-12-02T05:26:02.485689Z",
     "iopub.status.idle": "2023-12-02T05:26:02.489764Z",
     "shell.execute_reply": "2023-12-02T05:26:02.489280Z",
     "shell.execute_reply.started": "2023-12-02T05:26:02.486026Z"
    },
    "tags": []
   },
   "outputs": [
    {
     "data": {
      "text/plain": [
       "2348"
      ]
     },
     "execution_count": 86,
     "metadata": {},
     "output_type": "execute_result"
    }
   ],
   "source": [
    "sum(good_index)"
   ]
  },
  {
   "cell_type": "code",
   "execution_count": 91,
   "id": "0fef4425-410f-49e5-af17-e4d2cb33e4f3",
   "metadata": {
    "execution": {
     "iopub.execute_input": "2023-12-02T05:29:45.562670Z",
     "iopub.status.busy": "2023-12-02T05:29:45.562308Z",
     "iopub.status.idle": "2023-12-02T05:29:45.571179Z",
     "shell.execute_reply": "2023-12-02T05:29:45.570706Z",
     "shell.execute_reply.started": "2023-12-02T05:29:45.562650Z"
    },
    "tags": []
   },
   "outputs": [],
   "source": [
    "g_list = []\n",
    "\n",
    "\n",
    "good_index = []\n",
    "for ind,x in enumerate(parsed):\n",
    "    green_matches = []\n",
    "    red_matches = []\n",
    "    blue_matches = []\n",
    "    g_list.append(x.split(':')[0])\n",
    "    res = x.split(':')[1]\n",
    "    res=res.split(';')\n",
    "    res = [x.strip() for x in res]\n",
    "    for x in res:\n",
    "        green_matches.extend([x.group().strip(' green') for x in re.finditer(r'\\d+ green', x)])\n",
    "        red_matches.extend([x.group().strip(' red') for x in re.finditer(r'\\d+ red', x)])\n",
    "        blue_matches.extend([x.group().strip(' blue') for x in re.finditer(r'\\d+ blue', x)])\n",
    "    \n",
    "    max_green = max([int(x) for x in green_matches])\n",
    "    max_blue = max([int(x) for x in blue_matches])\n",
    "    max_red = max([int(x) for x in red_matches])\n",
    "    good_index.append(max_green*max_blue*max_red)\n",
    "    "
   ]
  },
  {
   "cell_type": "code",
   "execution_count": 93,
   "id": "75096ab5-b368-4735-acd1-bed4ceb86b46",
   "metadata": {
    "execution": {
     "iopub.execute_input": "2023-12-02T05:29:53.564690Z",
     "iopub.status.busy": "2023-12-02T05:29:53.564318Z",
     "iopub.status.idle": "2023-12-02T05:29:53.568183Z",
     "shell.execute_reply": "2023-12-02T05:29:53.567737Z",
     "shell.execute_reply.started": "2023-12-02T05:29:53.564672Z"
    },
    "tags": []
   },
   "outputs": [
    {
     "data": {
      "text/plain": [
       "76008"
      ]
     },
     "execution_count": 93,
     "metadata": {},
     "output_type": "execute_result"
    }
   ],
   "source": [
    "sum(good_index)"
   ]
  },
  {
   "cell_type": "code",
   "execution_count": 90,
   "id": "23111680-2aec-4efb-acbb-1e6bea3e4964",
   "metadata": {
    "execution": {
     "iopub.execute_input": "2023-12-02T05:28:44.481428Z",
     "iopub.status.busy": "2023-12-02T05:28:44.481073Z",
     "iopub.status.idle": "2023-12-02T05:28:44.485163Z",
     "shell.execute_reply": "2023-12-02T05:28:44.484722Z",
     "shell.execute_reply.started": "2023-12-02T05:28:44.481408Z"
    },
    "tags": []
   },
   "outputs": [
    {
     "data": {
      "text/plain": [
       "12"
      ]
     },
     "execution_count": 90,
     "metadata": {},
     "output_type": "execute_result"
    }
   ],
   "source": [
    "max([int(x) for x in green_matches])"
   ]
  },
  {
   "cell_type": "code",
   "execution_count": 79,
   "id": "73282461-4865-4801-aace-4f8f83589cdc",
   "metadata": {
    "execution": {
     "iopub.execute_input": "2023-12-02T05:23:26.183082Z",
     "iopub.status.busy": "2023-12-02T05:23:26.182645Z",
     "iopub.status.idle": "2023-12-02T05:23:26.187213Z",
     "shell.execute_reply": "2023-12-02T05:23:26.186720Z",
     "shell.execute_reply.started": "2023-12-02T05:23:26.183059Z"
    },
    "tags": []
   },
   "outputs": [
    {
     "data": {
      "text/plain": [
       "['1', '1']"
      ]
     },
     "execution_count": 79,
     "metadata": {},
     "output_type": "execute_result"
    }
   ],
   "source": [
    "red_matches"
   ]
  },
  {
   "cell_type": "code",
   "execution_count": 81,
   "id": "2b550f53-7c75-49f8-baa6-15e5f5cd9f0d",
   "metadata": {
    "execution": {
     "iopub.execute_input": "2023-12-02T05:23:42.810984Z",
     "iopub.status.busy": "2023-12-02T05:23:42.810306Z",
     "iopub.status.idle": "2023-12-02T05:23:42.815181Z",
     "shell.execute_reply": "2023-12-02T05:23:42.814705Z",
     "shell.execute_reply.started": "2023-12-02T05:23:42.810957Z"
    },
    "tags": []
   },
   "outputs": [
    {
     "data": {
      "text/plain": [
       "False"
      ]
     },
     "execution_count": 81,
     "metadata": {},
     "output_type": "execute_result"
    }
   ],
   "source": []
  },
  {
   "cell_type": "code",
   "execution_count": 63,
   "id": "5cc5c3e2-c9a4-48bb-8051-75a6781200ab",
   "metadata": {
    "execution": {
     "iopub.execute_input": "2023-12-02T05:18:09.490394Z",
     "iopub.status.busy": "2023-12-02T05:18:09.489961Z",
     "iopub.status.idle": "2023-12-02T05:18:09.494399Z",
     "shell.execute_reply": "2023-12-02T05:18:09.493941Z",
     "shell.execute_reply.started": "2023-12-02T05:18:09.490372Z"
    },
    "tags": []
   },
   "outputs": [
    {
     "data": {
      "text/plain": [
       "['1']"
      ]
     },
     "execution_count": 63,
     "metadata": {},
     "output_type": "execute_result"
    }
   ],
   "source": [
    "green_matches"
   ]
  },
  {
   "cell_type": "code",
   "execution_count": 5,
   "id": "e3872ffc-06cc-482f-971f-f928d08691d9",
   "metadata": {
    "execution": {
     "iopub.execute_input": "2023-12-02T05:05:01.486660Z",
     "iopub.status.busy": "2023-12-02T05:05:01.486276Z",
     "iopub.status.idle": "2023-12-02T05:05:01.557170Z",
     "shell.execute_reply": "2023-12-02T05:05:01.556332Z",
     "shell.execute_reply.started": "2023-12-02T05:05:01.486637Z"
    },
    "tags": []
   },
   "outputs": [
    {
     "ename": "ParserError",
     "evalue": "Error tokenizing data. C error: Expected 4 fields in line 4, saw 6\n",
     "output_type": "error",
     "traceback": [
      "\u001b[0;31m---------------------------------------------------------------------------\u001b[0m",
      "\u001b[0;31mParserError\u001b[0m                               Traceback (most recent call last)",
      "Cell \u001b[0;32mIn[5], line 1\u001b[0m\n\u001b[0;32m----> 1\u001b[0m df\u001b[38;5;241m=\u001b[39m\u001b[43mpd\u001b[49m\u001b[38;5;241;43m.\u001b[39;49m\u001b[43mread_csv\u001b[49m\u001b[43m(\u001b[49m\u001b[38;5;124;43m'\u001b[39;49m\u001b[38;5;124;43minput.txt\u001b[39;49m\u001b[38;5;124;43m'\u001b[39;49m\u001b[43m,\u001b[49m\u001b[43m \u001b[49m\u001b[43msep\u001b[49m\u001b[38;5;241;43m=\u001b[39;49m\u001b[38;5;124;43m'\u001b[39;49m\u001b[38;5;124;43m;\u001b[39;49m\u001b[38;5;124;43m'\u001b[39;49m\u001b[43m,\u001b[49m\u001b[43m \u001b[49m\u001b[43mheader\u001b[49m\u001b[38;5;241;43m=\u001b[39;49m\u001b[38;5;28;43;01mNone\u001b[39;49;00m\u001b[43m)\u001b[49m\n",
      "File \u001b[0;32m~/miniconda3/envs/kittens/lib/python3.10/site-packages/pandas/util/_decorators.py:311\u001b[0m, in \u001b[0;36mdeprecate_nonkeyword_arguments.<locals>.decorate.<locals>.wrapper\u001b[0;34m(*args, **kwargs)\u001b[0m\n\u001b[1;32m    305\u001b[0m \u001b[38;5;28;01mif\u001b[39;00m \u001b[38;5;28mlen\u001b[39m(args) \u001b[38;5;241m>\u001b[39m num_allow_args:\n\u001b[1;32m    306\u001b[0m     warnings\u001b[38;5;241m.\u001b[39mwarn(\n\u001b[1;32m    307\u001b[0m         msg\u001b[38;5;241m.\u001b[39mformat(arguments\u001b[38;5;241m=\u001b[39marguments),\n\u001b[1;32m    308\u001b[0m         \u001b[38;5;167;01mFutureWarning\u001b[39;00m,\n\u001b[1;32m    309\u001b[0m         stacklevel\u001b[38;5;241m=\u001b[39mstacklevel,\n\u001b[1;32m    310\u001b[0m     )\n\u001b[0;32m--> 311\u001b[0m \u001b[38;5;28;01mreturn\u001b[39;00m \u001b[43mfunc\u001b[49m\u001b[43m(\u001b[49m\u001b[38;5;241;43m*\u001b[39;49m\u001b[43margs\u001b[49m\u001b[43m,\u001b[49m\u001b[43m \u001b[49m\u001b[38;5;241;43m*\u001b[39;49m\u001b[38;5;241;43m*\u001b[39;49m\u001b[43mkwargs\u001b[49m\u001b[43m)\u001b[49m\n",
      "File \u001b[0;32m~/miniconda3/envs/kittens/lib/python3.10/site-packages/pandas/io/parsers/readers.py:680\u001b[0m, in \u001b[0;36mread_csv\u001b[0;34m(filepath_or_buffer, sep, delimiter, header, names, index_col, usecols, squeeze, prefix, mangle_dupe_cols, dtype, engine, converters, true_values, false_values, skipinitialspace, skiprows, skipfooter, nrows, na_values, keep_default_na, na_filter, verbose, skip_blank_lines, parse_dates, infer_datetime_format, keep_date_col, date_parser, dayfirst, cache_dates, iterator, chunksize, compression, thousands, decimal, lineterminator, quotechar, quoting, doublequote, escapechar, comment, encoding, encoding_errors, dialect, error_bad_lines, warn_bad_lines, on_bad_lines, delim_whitespace, low_memory, memory_map, float_precision, storage_options)\u001b[0m\n\u001b[1;32m    665\u001b[0m kwds_defaults \u001b[38;5;241m=\u001b[39m _refine_defaults_read(\n\u001b[1;32m    666\u001b[0m     dialect,\n\u001b[1;32m    667\u001b[0m     delimiter,\n\u001b[0;32m   (...)\u001b[0m\n\u001b[1;32m    676\u001b[0m     defaults\u001b[38;5;241m=\u001b[39m{\u001b[38;5;124m\"\u001b[39m\u001b[38;5;124mdelimiter\u001b[39m\u001b[38;5;124m\"\u001b[39m: \u001b[38;5;124m\"\u001b[39m\u001b[38;5;124m,\u001b[39m\u001b[38;5;124m\"\u001b[39m},\n\u001b[1;32m    677\u001b[0m )\n\u001b[1;32m    678\u001b[0m kwds\u001b[38;5;241m.\u001b[39mupdate(kwds_defaults)\n\u001b[0;32m--> 680\u001b[0m \u001b[38;5;28;01mreturn\u001b[39;00m \u001b[43m_read\u001b[49m\u001b[43m(\u001b[49m\u001b[43mfilepath_or_buffer\u001b[49m\u001b[43m,\u001b[49m\u001b[43m \u001b[49m\u001b[43mkwds\u001b[49m\u001b[43m)\u001b[49m\n",
      "File \u001b[0;32m~/miniconda3/envs/kittens/lib/python3.10/site-packages/pandas/io/parsers/readers.py:581\u001b[0m, in \u001b[0;36m_read\u001b[0;34m(filepath_or_buffer, kwds)\u001b[0m\n\u001b[1;32m    578\u001b[0m     \u001b[38;5;28;01mreturn\u001b[39;00m parser\n\u001b[1;32m    580\u001b[0m \u001b[38;5;28;01mwith\u001b[39;00m parser:\n\u001b[0;32m--> 581\u001b[0m     \u001b[38;5;28;01mreturn\u001b[39;00m \u001b[43mparser\u001b[49m\u001b[38;5;241;43m.\u001b[39;49m\u001b[43mread\u001b[49m\u001b[43m(\u001b[49m\u001b[43mnrows\u001b[49m\u001b[43m)\u001b[49m\n",
      "File \u001b[0;32m~/miniconda3/envs/kittens/lib/python3.10/site-packages/pandas/io/parsers/readers.py:1254\u001b[0m, in \u001b[0;36mTextFileReader.read\u001b[0;34m(self, nrows)\u001b[0m\n\u001b[1;32m   1252\u001b[0m nrows \u001b[38;5;241m=\u001b[39m validate_integer(\u001b[38;5;124m\"\u001b[39m\u001b[38;5;124mnrows\u001b[39m\u001b[38;5;124m\"\u001b[39m, nrows)\n\u001b[1;32m   1253\u001b[0m \u001b[38;5;28;01mtry\u001b[39;00m:\n\u001b[0;32m-> 1254\u001b[0m     index, columns, col_dict \u001b[38;5;241m=\u001b[39m \u001b[38;5;28;43mself\u001b[39;49m\u001b[38;5;241;43m.\u001b[39;49m\u001b[43m_engine\u001b[49m\u001b[38;5;241;43m.\u001b[39;49m\u001b[43mread\u001b[49m\u001b[43m(\u001b[49m\u001b[43mnrows\u001b[49m\u001b[43m)\u001b[49m\n\u001b[1;32m   1255\u001b[0m \u001b[38;5;28;01mexcept\u001b[39;00m \u001b[38;5;167;01mException\u001b[39;00m:\n\u001b[1;32m   1256\u001b[0m     \u001b[38;5;28mself\u001b[39m\u001b[38;5;241m.\u001b[39mclose()\n",
      "File \u001b[0;32m~/miniconda3/envs/kittens/lib/python3.10/site-packages/pandas/io/parsers/c_parser_wrapper.py:225\u001b[0m, in \u001b[0;36mCParserWrapper.read\u001b[0;34m(self, nrows)\u001b[0m\n\u001b[1;32m    223\u001b[0m \u001b[38;5;28;01mtry\u001b[39;00m:\n\u001b[1;32m    224\u001b[0m     \u001b[38;5;28;01mif\u001b[39;00m \u001b[38;5;28mself\u001b[39m\u001b[38;5;241m.\u001b[39mlow_memory:\n\u001b[0;32m--> 225\u001b[0m         chunks \u001b[38;5;241m=\u001b[39m \u001b[38;5;28;43mself\u001b[39;49m\u001b[38;5;241;43m.\u001b[39;49m\u001b[43m_reader\u001b[49m\u001b[38;5;241;43m.\u001b[39;49m\u001b[43mread_low_memory\u001b[49m\u001b[43m(\u001b[49m\u001b[43mnrows\u001b[49m\u001b[43m)\u001b[49m\n\u001b[1;32m    226\u001b[0m         \u001b[38;5;66;03m# destructive to chunks\u001b[39;00m\n\u001b[1;32m    227\u001b[0m         data \u001b[38;5;241m=\u001b[39m _concatenate_chunks(chunks)\n",
      "File \u001b[0;32m~/miniconda3/envs/kittens/lib/python3.10/site-packages/pandas/_libs/parsers.pyx:805\u001b[0m, in \u001b[0;36mpandas._libs.parsers.TextReader.read_low_memory\u001b[0;34m()\u001b[0m\n",
      "File \u001b[0;32m~/miniconda3/envs/kittens/lib/python3.10/site-packages/pandas/_libs/parsers.pyx:861\u001b[0m, in \u001b[0;36mpandas._libs.parsers.TextReader._read_rows\u001b[0;34m()\u001b[0m\n",
      "File \u001b[0;32m~/miniconda3/envs/kittens/lib/python3.10/site-packages/pandas/_libs/parsers.pyx:847\u001b[0m, in \u001b[0;36mpandas._libs.parsers.TextReader._tokenize_rows\u001b[0;34m()\u001b[0m\n",
      "File \u001b[0;32m~/miniconda3/envs/kittens/lib/python3.10/site-packages/pandas/_libs/parsers.pyx:1960\u001b[0m, in \u001b[0;36mpandas._libs.parsers.raise_parser_error\u001b[0;34m()\u001b[0m\n",
      "\u001b[0;31mParserError\u001b[0m: Error tokenizing data. C error: Expected 4 fields in line 4, saw 6\n"
     ]
    }
   ],
   "source": [
    "df=pd.read_csv('input.txt', sep=';', header=None)"
   ]
  },
  {
   "cell_type": "code",
   "execution_count": 3,
   "id": "af4ce5b7-769a-4cab-b23d-a1b80e58e675",
   "metadata": {
    "execution": {
     "iopub.execute_input": "2023-12-02T05:04:17.747448Z",
     "iopub.status.busy": "2023-12-02T05:04:17.747198Z",
     "iopub.status.idle": "2023-12-02T05:04:17.760467Z",
     "shell.execute_reply": "2023-12-02T05:04:17.759893Z",
     "shell.execute_reply.started": "2023-12-02T05:04:17.747430Z"
    },
    "tags": []
   },
   "outputs": [
    {
     "ename": "NameError",
     "evalue": "name 'df' is not defined",
     "output_type": "error",
     "traceback": [
      "\u001b[0;31m---------------------------------------------------------------------------\u001b[0m",
      "\u001b[0;31mNameError\u001b[0m                                 Traceback (most recent call last)",
      "Cell \u001b[0;32mIn[3], line 1\u001b[0m\n\u001b[0;32m----> 1\u001b[0m \u001b[43mdf\u001b[49m\n",
      "\u001b[0;31mNameError\u001b[0m: name 'df' is not defined"
     ]
    }
   ],
   "source": [
    "df"
   ]
  },
  {
   "cell_type": "code",
   "execution_count": null,
   "id": "a282a5e6-52e2-478e-ba02-74c0d9e6e063",
   "metadata": {},
   "outputs": [],
   "source": []
  }
 ],
 "metadata": {
  "kernelspec": {
   "display_name": "kittens",
   "language": "python",
   "name": "kittens"
  },
  "language_info": {
   "codemirror_mode": {
    "name": "ipython",
    "version": 3
   },
   "file_extension": ".py",
   "mimetype": "text/x-python",
   "name": "python",
   "nbconvert_exporter": "python",
   "pygments_lexer": "ipython3",
   "version": "3.10.11"
  }
 },
 "nbformat": 4,
 "nbformat_minor": 5
}
