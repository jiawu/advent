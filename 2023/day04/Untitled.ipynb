{
 "cells": [
  {
   "cell_type": "code",
   "execution_count": 62,
   "id": "bbb01102-fe78-46c6-9edd-81290b751102",
   "metadata": {
    "execution": {
     "iopub.execute_input": "2023-12-04T10:40:06.075001Z",
     "iopub.status.busy": "2023-12-04T10:40:06.074662Z",
     "iopub.status.idle": "2023-12-04T10:40:06.077545Z",
     "shell.execute_reply": "2023-12-04T10:40:06.077118Z",
     "shell.execute_reply.started": "2023-12-04T10:40:06.074983Z"
    },
    "tags": []
   },
   "outputs": [],
   "source": [
    "import pandas as pd\n",
    "import re\n",
    "import pdb\n",
    "import math"
   ]
  },
  {
   "cell_type": "code",
   "execution_count": 93,
   "id": "0472b054-3f61-41c1-8494-2e37dc42d93a",
   "metadata": {
    "execution": {
     "iopub.execute_input": "2023-12-04T10:55:50.998459Z",
     "iopub.status.busy": "2023-12-04T10:55:50.998122Z",
     "iopub.status.idle": "2023-12-04T10:55:51.001419Z",
     "shell.execute_reply": "2023-12-04T10:55:51.000962Z",
     "shell.execute_reply.started": "2023-12-04T10:55:50.998437Z"
    },
    "tags": []
   },
   "outputs": [],
   "source": [
    "with open(\"input.txt\") as f:\n",
    "    data = f.read().strip().split('\\n')"
   ]
  },
  {
   "cell_type": "code",
   "execution_count": 83,
   "id": "e333682d-df4f-44a7-bd88-291823a71e94",
   "metadata": {
    "execution": {
     "iopub.execute_input": "2023-12-04T10:50:07.068644Z",
     "iopub.status.busy": "2023-12-04T10:50:07.068433Z",
     "iopub.status.idle": "2023-12-04T10:50:07.070915Z",
     "shell.execute_reply": "2023-12-04T10:50:07.070519Z",
     "shell.execute_reply.started": "2023-12-04T10:50:07.068629Z"
    },
    "tags": []
   },
   "outputs": [],
   "source": [
    "def strip_each(l):\n",
    "    return([x for x in l if x.isdigit()])"
   ]
  },
  {
   "cell_type": "code",
   "execution_count": 84,
   "id": "696c4c20-f590-4ea1-9635-5c860c7b14dd",
   "metadata": {
    "execution": {
     "iopub.execute_input": "2023-12-04T10:50:07.260993Z",
     "iopub.status.busy": "2023-12-04T10:50:07.260745Z",
     "iopub.status.idle": "2023-12-04T10:50:07.263832Z",
     "shell.execute_reply": "2023-12-04T10:50:07.263423Z",
     "shell.execute_reply.started": "2023-12-04T10:50:07.260978Z"
    },
    "tags": []
   },
   "outputs": [],
   "source": [
    "points = []\n",
    "for line in data:\n",
    "    num = line.split(': ')[1].strip()\n",
    "    winning = set(strip_each(num.split('|')[0].split(' ')))\n",
    "    chosen = set(strip_each(num.split('|')[1].split(' ')))\n",
    "    winners = len(chosen.intersection(winning))\n",
    "    points.append(math.floor(2**(winners-1)))"
   ]
  },
  {
   "cell_type": "code",
   "execution_count": 85,
   "id": "dc58484a-9f04-429e-8d3a-cbb4eb2c2530",
   "metadata": {
    "execution": {
     "iopub.execute_input": "2023-12-04T10:50:07.567345Z",
     "iopub.status.busy": "2023-12-04T10:50:07.567118Z",
     "iopub.status.idle": "2023-12-04T10:50:07.570277Z",
     "shell.execute_reply": "2023-12-04T10:50:07.569866Z",
     "shell.execute_reply.started": "2023-12-04T10:50:07.567329Z"
    },
    "tags": []
   },
   "outputs": [
    {
     "data": {
      "text/plain": [
       "[8, 2, 2, 1, 0, 0]"
      ]
     },
     "execution_count": 85,
     "metadata": {},
     "output_type": "execute_result"
    }
   ],
   "source": [
    "points"
   ]
  },
  {
   "cell_type": "code",
   "execution_count": 88,
   "id": "b8e38fd0-aeef-4d42-9990-d59b0d9dd7d2",
   "metadata": {
    "execution": {
     "iopub.execute_input": "2023-12-04T10:50:20.819213Z",
     "iopub.status.busy": "2023-12-04T10:50:20.818883Z",
     "iopub.status.idle": "2023-12-04T10:50:20.823039Z",
     "shell.execute_reply": "2023-12-04T10:50:20.822561Z",
     "shell.execute_reply.started": "2023-12-04T10:50:20.819193Z"
    },
    "tags": []
   },
   "outputs": [],
   "source": [
    "points = []\n",
    "for ind,line in enumerate(data):\n",
    "    num = line.split(': ')[1].strip()\n",
    "    winning = set(strip_each(num.split('|')[0].split(' ')))\n",
    "    chosen = set(strip_each(num.split('|')[1].split(' ')))\n",
    "    winners = len(chosen.intersection(winning))\n",
    "    vec = [1 for x in range(winners)]\n",
    "    vec.extend([0 for x in range(len(chosen)-winners)])\n",
    "    points.append(vec)"
   ]
  },
  {
   "cell_type": "code",
   "execution_count": 90,
   "id": "5423863d-3ed1-4bf8-9873-e7314ce86c83",
   "metadata": {
    "execution": {
     "iopub.execute_input": "2023-12-04T10:50:25.101799Z",
     "iopub.status.busy": "2023-12-04T10:50:25.101507Z",
     "iopub.status.idle": "2023-12-04T10:50:25.105425Z",
     "shell.execute_reply": "2023-12-04T10:50:25.105024Z",
     "shell.execute_reply.started": "2023-12-04T10:50:25.101782Z"
    },
    "tags": []
   },
   "outputs": [
    {
     "data": {
      "text/plain": [
       "[[1, 1, 1, 1, 0, 0, 0, 0],\n",
       " [1, 1, 0, 0, 0, 0, 0, 0],\n",
       " [1, 1, 0, 0, 0, 0, 0, 0],\n",
       " [1, 0, 0, 0, 0, 0, 0, 0],\n",
       " [0, 0, 0, 0, 0, 0, 0, 0],\n",
       " [0, 0, 0, 0, 0, 0, 0, 0]]"
      ]
     },
     "execution_count": 90,
     "metadata": {},
     "output_type": "execute_result"
    }
   ],
   "source": [
    "points"
   ]
  },
  {
   "cell_type": "code",
   "execution_count": 98,
   "id": "08851c30-607e-458f-8cae-5796886ea402",
   "metadata": {
    "execution": {
     "iopub.execute_input": "2023-12-04T10:59:19.568909Z",
     "iopub.status.busy": "2023-12-04T10:59:19.568560Z",
     "iopub.status.idle": "2023-12-04T10:59:19.575844Z",
     "shell.execute_reply": "2023-12-04T10:59:19.575388Z",
     "shell.execute_reply.started": "2023-12-04T10:59:19.568887Z"
    },
    "tags": []
   },
   "outputs": [
    {
     "name": "stdout",
     "output_type": "stream",
     "text": [
      "24706 13114317\n"
     ]
    }
   ],
   "source": [
    "games, total = [1 for _ in data], 0\n",
    "for ind, line in enumerate(data):\n",
    "    left, right = line.split(':')[1].split('|')\n",
    "    left_list, right_list = [list(map(int, x.strip().split())) for x in (left, right)]\n",
    "    sum1 = sum(1 for elem in right_list if elem in left_list)\n",
    "    total += 2 ** (sum1-1) if sum1 > 0 else 0\n",
    "\n",
    "    for j in range(sum(1 for elem in right_list if elem in left_list)):\n",
    "        if ind + j + 1 < len(data):\n",
    "            games[ind + j + 1] += games[ind]\n",
    "print(total, sum(games))"
   ]
  },
  {
   "cell_type": "code",
   "execution_count": null,
   "id": "0402eda0-a71e-4740-ad71-fe5aca33a3bf",
   "metadata": {},
   "outputs": [],
   "source": []
  },
  {
   "cell_type": "code",
   "execution_count": null,
   "id": "ac062630-198c-47ac-8918-239db375b80b",
   "metadata": {},
   "outputs": [],
   "source": []
  }
 ],
 "metadata": {
  "kernelspec": {
   "display_name": "kittens",
   "language": "python",
   "name": "kittens"
  },
  "language_info": {
   "codemirror_mode": {
    "name": "ipython",
    "version": 3
   },
   "file_extension": ".py",
   "mimetype": "text/x-python",
   "name": "python",
   "nbconvert_exporter": "python",
   "pygments_lexer": "ipython3",
   "version": "3.10.11"
  }
 },
 "nbformat": 4,
 "nbformat_minor": 5
}
